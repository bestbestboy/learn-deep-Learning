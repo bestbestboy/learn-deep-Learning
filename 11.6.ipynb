{
 "cells": [
  {
   "cell_type": "markdown",
   "source": [
    "# 实例：实现多分类问题"
   ],
   "metadata": {}
  },
  {
   "cell_type": "markdown",
   "source": [
    "### 独热编码one_hot ( indices, depth )"
   ],
   "metadata": {}
  },
  {
   "cell_type": "code",
   "execution_count": 1,
   "source": [
    "import tensorflow as tf\r\n",
    "print(\"TensorFlow version:\",tf.__version__)"
   ],
   "outputs": [
    {
     "output_type": "stream",
     "name": "stdout",
     "text": [
      "TensorFlow version: 2.5.0-rc3\n"
     ]
    }
   ],
   "metadata": {}
  },
  {
   "cell_type": "code",
   "execution_count": 2,
   "source": [
    "import numpy as np"
   ],
   "outputs": [],
   "metadata": {}
  },
  {
   "cell_type": "code",
   "execution_count": 3,
   "source": [
    "gpus=tf.config.experimental.list_physical_devices(device_type='GPU')\r\n",
    "cpus=tf.config.experimental.list_physical_devices(device_type='CPU')\r\n",
    "print(gpus)\r\n",
    "print(cpus)"
   ],
   "outputs": [
    {
     "output_type": "stream",
     "name": "stdout",
     "text": [
      "[PhysicalDevice(name='/physical_device:GPU:0', device_type='GPU')]\n",
      "[PhysicalDevice(name='/physical_device:CPU:0', device_type='CPU')]\n"
     ]
    }
   ],
   "metadata": {}
  },
  {
   "cell_type": "code",
   "execution_count": 4,
   "source": [
    "a=[0,2,3,5]\r\n",
    "b=tf.one_hot(a,6)\r\n",
    "b"
   ],
   "outputs": [],
   "metadata": {}
  },
  {
   "cell_type": "code",
   "execution_count": null,
   "source": [
    "pred=np.array([[0.1,0.2,0.7],\r\n",
    "               [0.1,0.7,0.2],\r\n",
    "               [0.3,0.4,0.3]])#预测值\r\n",
    "y=np.array([2,1,0])#标记\r\n",
    "y_onehot=np.array([[0,0,1],\r\n",
    "                   [0,1,0],\r\n",
    "                   [1,0,0]])#标记独热编码"
   ],
   "outputs": [
    {
     "output_type": "error",
     "ename": "Error",
     "evalue": "Session cannot generate requests",
     "traceback": [
      "Error: Session cannot generate requests",
      "at w.executeCodeCell (c:\\Users\\AnYi\\.vscode\\extensions\\ms-toolsai.jupyter-2021.8.1054968649\\out\\client\\extension.js:90:320068)",
      "at w.execute (c:\\Users\\AnYi\\.vscode\\extensions\\ms-toolsai.jupyter-2021.8.1054968649\\out\\client\\extension.js:90:319389)",
      "at w.start (c:\\Users\\AnYi\\.vscode\\extensions\\ms-toolsai.jupyter-2021.8.1054968649\\out\\client\\extension.js:90:315205)",
      "at processTicksAndRejections (internal/process/task_queues.js:93:5)",
      "at async t.CellExecutionQueue.executeQueuedCells (c:\\Users\\AnYi\\.vscode\\extensions\\ms-toolsai.jupyter-2021.8.1054968649\\out\\client\\extension.js:90:329732)",
      "at async t.CellExecutionQueue.start (c:\\Users\\AnYi\\.vscode\\extensions\\ms-toolsai.jupyter-2021.8.1054968649\\out\\client\\extension.js:90:329272)"
     ]
    }
   ],
   "metadata": {}
  },
  {
   "cell_type": "code",
   "execution_count": null,
   "source": [
    "tf.argmax(pred,axis=1)#预测值中的行最大数索引"
   ],
   "outputs": [
    {
     "output_type": "execute_result",
     "data": {
      "text/plain": [
       "<tf.Tensor: shape=(3,), dtype=int64, numpy=array([2, 1, 1], dtype=int64)>"
      ]
     },
     "metadata": {},
     "execution_count": 6
    }
   ],
   "metadata": {}
  },
  {
   "cell_type": "code",
   "execution_count": null,
   "source": [
    "tf.equal(tf.argmax(pred,axis=1),y)#判读预测值是否与样本标记相同"
   ],
   "outputs": [
    {
     "output_type": "execute_result",
     "data": {
      "text/plain": [
       "<tf.Tensor: shape=(3,), dtype=bool, numpy=array([ True,  True, False])>"
      ]
     },
     "metadata": {},
     "execution_count": 7
    }
   ],
   "metadata": {}
  },
  {
   "cell_type": "code",
   "execution_count": null,
   "source": [
    "tf.cast(tf.equal(tf.argmax(pred,axis=1),y),tf.float32)#将布尔值转为数字"
   ],
   "outputs": [
    {
     "output_type": "execute_result",
     "data": {
      "text/plain": [
       "<tf.Tensor: shape=(3,), dtype=float32, numpy=array([1., 1., 0.], dtype=float32)>"
      ]
     },
     "metadata": {},
     "execution_count": 8
    }
   ],
   "metadata": {}
  },
  {
   "cell_type": "code",
   "execution_count": null,
   "source": [
    "tf.reduce_mean(tf.cast(tf.equal(tf.argmax(pred,axis=1),y),tf.float32))\n",
    "#求平均，即求准确率"
   ],
   "outputs": [
    {
     "output_type": "execute_result",
     "data": {
      "text/plain": [
       "<tf.Tensor: shape=(), dtype=float32, numpy=0.6666667>"
      ]
     },
     "metadata": {},
     "execution_count": 9
    }
   ],
   "metadata": {}
  },
  {
   "cell_type": "markdown",
   "source": [
    "### 交叉熵损失函数"
   ],
   "metadata": {}
  },
  {
   "cell_type": "code",
   "execution_count": null,
   "source": [
    "-y_onehot*tf.math.log(pred)"
   ],
   "outputs": [
    {
     "output_type": "execute_result",
     "data": {
      "text/plain": [
       "<tf.Tensor: shape=(3, 3), dtype=float64, numpy=\n",
       "array([[-0.        , -0.        ,  0.35667494],\n",
       "       [-0.        ,  0.35667494, -0.        ],\n",
       "       [ 1.2039728 , -0.        , -0.        ]])>"
      ]
     },
     "metadata": {},
     "execution_count": 10
    }
   ],
   "metadata": {}
  },
  {
   "cell_type": "code",
   "execution_count": null,
   "source": [
    "-tf.reduce_sum(y_onehot*tf.math.log(pred))#所有样本交叉熵之和"
   ],
   "outputs": [
    {
     "output_type": "execute_result",
     "data": {
      "text/plain": [
       "<tf.Tensor: shape=(), dtype=float64, numpy=1.917322692203401>"
      ]
     },
     "metadata": {},
     "execution_count": 11
    }
   ],
   "metadata": {}
  },
  {
   "cell_type": "code",
   "execution_count": null,
   "source": [
    "-tf.reduce_sum(y_onehot*tf.math.log(pred))/len(pred)#平均交叉熵损失"
   ],
   "outputs": [
    {
     "output_type": "execute_result",
     "data": {
      "text/plain": [
       "<tf.Tensor: shape=(), dtype=float64, numpy=0.6391075640678003>"
      ]
     },
     "metadata": {},
     "execution_count": 12
    }
   ],
   "metadata": {}
  },
  {
   "cell_type": "markdown",
   "source": [
    "# 例子：使用花瓣长度、花瓣宽度将三种鸢尾花区分开"
   ],
   "metadata": {}
  },
  {
   "cell_type": "markdown",
   "source": [
    "### 加载数据"
   ],
   "metadata": {}
  },
  {
   "cell_type": "code",
   "execution_count": null,
   "source": [
    "import tensorflow as tf\n",
    "print(\"TensorFlow version:\",tf.__version__)"
   ],
   "outputs": [
    {
     "output_type": "stream",
     "name": "stdout",
     "text": [
      "TensorFlow version: 2.5.0-rc3\n"
     ]
    }
   ],
   "metadata": {}
  },
  {
   "cell_type": "code",
   "execution_count": null,
   "source": [
    "import pandas as pd\n",
    "import numpy as np\n",
    "import matplotlib as mpl\n",
    "import matplotlib.pyplot as plt"
   ],
   "outputs": [],
   "metadata": {}
  },
  {
   "cell_type": "code",
   "execution_count": null,
   "source": [
    "TRAIN_URL=\"http://download.tensorflow.org/data/iris_training.csv\"\n",
    "train_path=tf.keras.utils.get_file(TRAIN_URL.split('/')[-1],TRAIN_URL)"
   ],
   "outputs": [],
   "metadata": {}
  },
  {
   "cell_type": "code",
   "execution_count": null,
   "source": [
    "df_iris_train=pd.read_csv(train_path,header=0)"
   ],
   "outputs": [],
   "metadata": {}
  },
  {
   "cell_type": "markdown",
   "source": [
    "### 处理数据"
   ],
   "metadata": {}
  },
  {
   "cell_type": "code",
   "execution_count": null,
   "source": [
    "iris_train=np.array(df_iris_train)"
   ],
   "outputs": [],
   "metadata": {}
  },
  {
   "cell_type": "code",
   "execution_count": null,
   "source": [
    "iris_train.shape"
   ],
   "outputs": [
    {
     "output_type": "execute_result",
     "data": {
      "text/plain": [
       "(120, 5)"
      ]
     },
     "metadata": {},
     "execution_count": 18
    }
   ],
   "metadata": {}
  },
  {
   "cell_type": "code",
   "execution_count": null,
   "source": [
    "x_train=iris_train[:,2:4]\n",
    "y_train=iris_train[:,4]"
   ],
   "outputs": [],
   "metadata": {}
  },
  {
   "cell_type": "code",
   "execution_count": null,
   "source": [
    "x_train.shape,y_train.shape"
   ],
   "outputs": [
    {
     "output_type": "execute_result",
     "data": {
      "text/plain": [
       "((120, 2), (120,))"
      ]
     },
     "metadata": {},
     "execution_count": 38
    }
   ],
   "metadata": {}
  },
  {
   "cell_type": "code",
   "execution_count": null,
   "source": [
    "num_train=len(x_train)"
   ],
   "outputs": [],
   "metadata": {}
  },
  {
   "cell_type": "markdown",
   "source": [
    "### 处理数据——生成多元模型的属性矩阵和标签列向量"
   ],
   "metadata": {}
  },
  {
   "cell_type": "code",
   "execution_count": null,
   "source": [
    "x0_train=np.ones(num_train).reshape(-1,1)"
   ],
   "outputs": [],
   "metadata": {}
  },
  {
   "cell_type": "code",
   "execution_count": null,
   "source": [
    "X_train=tf.cast(tf.concat([x0_train,x_train],axis=1),tf.float32)\n",
    "Y_train=tf.one_hot(tf.constant(y_train,dtype=tf.int32),3)"
   ],
   "outputs": [],
   "metadata": {}
  },
  {
   "cell_type": "code",
   "execution_count": null,
   "source": [
    "X_train.shape,Y_train.shape"
   ],
   "outputs": [
    {
     "output_type": "execute_result",
     "data": {
      "text/plain": [
       "(TensorShape([120, 3]), TensorShape([120, 3]))"
      ]
     },
     "metadata": {},
     "execution_count": 42
    }
   ],
   "metadata": {}
  },
  {
   "cell_type": "markdown",
   "source": [
    "### 设置超参数"
   ],
   "metadata": {}
  },
  {
   "cell_type": "code",
   "execution_count": null,
   "source": [
    "learn_rate=0.2\n",
    "iter=500\n",
    "\n",
    "display_step=100"
   ],
   "outputs": [],
   "metadata": {}
  },
  {
   "cell_type": "markdown",
   "source": [
    "### 设置模型参数初始值"
   ],
   "metadata": {}
  },
  {
   "cell_type": "code",
   "execution_count": null,
   "source": [
    "np.random.seed(612)\n",
    "W=tf.Variable(np.random.randn(3,3),dtype=tf.float32)"
   ],
   "outputs": [],
   "metadata": {}
  },
  {
   "cell_type": "markdown",
   "source": [
    "### 训练模型"
   ],
   "metadata": {}
  },
  {
   "cell_type": "code",
   "execution_count": null,
   "source": [
    "cce=[]\n",
    "acc=[]\n",
    "\n",
    "for i in range(0,iter+1):\n",
    "    with tf.GradientTape() as tape:\n",
    "        \n",
    "        PRED_train=tf.nn.softmax(tf.matmul(X_train,W))\n",
    "        Loss_train=-tf.reduce_sum(Y_train*tf.math.log(PRED_train))/num_train\n",
    "        \n",
    "    accuracy=tf.reduce_mean(tf.cast(tf.equal(tf.argmax(PRED_train.numpy(),axis=1),y_train),tf.float32))\n",
    "   \n",
    "    acc.append(accuracy)\n",
    "    cce.append(Loss_train)\n",
    "\n",
    "    dL_dW=tape.gradient(Loss_train,W)\n",
    "    W.assign_sub(learn_rate*dL_dW)\n",
    "    \n",
    "    if i % display_step==0:\n",
    "        print(\"i:%i,Acc:%f,Loss:%f\"%(i,accuracy,Loss_train))"
   ],
   "outputs": [
    {
     "output_type": "stream",
     "name": "stdout",
     "text": [
      "i:0,Acc:0.350000,Loss:4.510763\n",
      "i:100,Acc:0.808333,Loss:0.503537\n",
      "i:200,Acc:0.883333,Loss:0.402912\n",
      "i:300,Acc:0.891667,Loss:0.352650\n",
      "i:400,Acc:0.941667,Loss:0.319779\n",
      "i:500,Acc:0.941667,Loss:0.295599\n"
     ]
    }
   ],
   "metadata": {}
  },
  {
   "cell_type": "markdown",
   "source": [
    "### 训练结果"
   ],
   "metadata": {}
  },
  {
   "cell_type": "code",
   "execution_count": null,
   "source": [
    "PRED_train.shape#3:属于每种类别的概率"
   ],
   "outputs": [
    {
     "output_type": "execute_result",
     "data": {
      "text/plain": [
       "TensorShape([120, 3])"
      ]
     },
     "metadata": {},
     "execution_count": 46
    }
   ],
   "metadata": {}
  },
  {
   "cell_type": "code",
   "execution_count": null,
   "source": [
    "tf.reduce_sum(PRED_train,axis=1)#概率和为1"
   ],
   "outputs": [
    {
     "output_type": "execute_result",
     "data": {
      "text/plain": [
       "<tf.Tensor: shape=(120,), dtype=float32, numpy=\n",
       "array([1.        , 1.        , 1.        , 0.9999999 , 1.        ,\n",
       "       1.        , 1.        , 1.        , 1.        , 1.        ,\n",
       "       0.99999994, 1.        , 1.        , 1.        , 1.        ,\n",
       "       1.        , 1.        , 0.99999994, 1.        , 1.        ,\n",
       "       1.        , 1.        , 1.        , 0.99999994, 1.        ,\n",
       "       0.99999994, 1.        , 1.        , 1.        , 1.        ,\n",
       "       0.99999994, 0.9999999 , 1.        , 1.        , 1.        ,\n",
       "       1.        , 1.        , 1.        , 1.        , 1.        ,\n",
       "       1.        , 1.        , 1.        , 1.        , 1.        ,\n",
       "       1.        , 1.        , 1.        , 1.        , 1.        ,\n",
       "       1.        , 1.        , 1.        , 1.        , 1.        ,\n",
       "       1.        , 1.        , 1.        , 0.99999994, 1.0000001 ,\n",
       "       0.99999994, 0.99999994, 1.        , 1.        , 1.        ,\n",
       "       1.        , 1.        , 0.99999994, 1.        , 0.99999994,\n",
       "       1.        , 1.        , 1.        , 1.        , 1.        ,\n",
       "       0.9999999 , 1.        , 1.        , 1.        , 0.99999994,\n",
       "       0.99999994, 1.        , 0.9999999 , 1.        , 0.99999994,\n",
       "       0.9999999 , 1.        , 0.99999994, 1.        , 0.99999994,\n",
       "       1.        , 1.0000001 , 1.        , 0.99999994, 0.99999994,\n",
       "       1.        , 1.        , 1.        , 1.        , 1.        ,\n",
       "       1.        , 1.        , 0.99999994, 1.        , 1.        ,\n",
       "       1.        , 0.99999994, 1.        , 1.        , 1.        ,\n",
       "       1.        , 1.        , 1.        , 1.        , 0.99999994,\n",
       "       1.        , 0.99999994, 1.        , 1.        , 1.0000001 ],\n",
       "      dtype=float32)>"
      ]
     },
     "metadata": {},
     "execution_count": 47
    }
   ],
   "metadata": {}
  },
  {
   "cell_type": "code",
   "execution_count": null,
   "source": [
    "tf.argmax(PRED_train.numpy(),axis=1)#转为自然顺序码"
   ],
   "outputs": [
    {
     "output_type": "execute_result",
     "data": {
      "text/plain": [
       "<tf.Tensor: shape=(120,), dtype=int64, numpy=\n",
       "array([2, 1, 2, 0, 0, 0, 0, 2, 1, 0, 1, 1, 0, 0, 2, 2, 2, 2, 2, 0, 2, 2,\n",
       "       0, 1, 1, 0, 1, 2, 1, 2, 1, 1, 1, 2, 2, 2, 2, 2, 0, 0, 2, 2, 2, 0,\n",
       "       0, 1, 0, 2, 0, 2, 0, 1, 1, 0, 1, 2, 2, 2, 2, 1, 1, 2, 2, 2, 1, 2,\n",
       "       0, 2, 2, 0, 0, 1, 0, 2, 2, 0, 1, 1, 1, 2, 0, 1, 1, 1, 2, 0, 1, 1,\n",
       "       2, 0, 2, 1, 0, 0, 2, 0, 0, 2, 2, 0, 0, 1, 0, 1, 0, 0, 0, 0, 1, 0,\n",
       "       2, 1, 0, 2, 0, 1, 1, 0, 0, 1], dtype=int64)>"
      ]
     },
     "metadata": {},
     "execution_count": 48
    }
   ],
   "metadata": {}
  },
  {
   "cell_type": "markdown",
   "source": [
    "### 绘制分类图"
   ],
   "metadata": {}
  },
  {
   "cell_type": "code",
   "execution_count": null,
   "source": [
    "M=500\n",
    "x1_min,x2_min=x_train.min(axis=0)\n",
    "x1_max,x2_max=x_train.max(axis=0)\n",
    "t1=np.linspace(x1_min,x1_max,M)\n",
    "t2=np.linspace(x2_min,x2_max,M)\n",
    "m1,m2=np.meshgrid(t1,t2)"
   ],
   "outputs": [],
   "metadata": {}
  },
  {
   "cell_type": "code",
   "execution_count": null,
   "source": [
    "m0=np.ones(M*M)\n",
    "X_=tf.cast(np.stack((m0,m1.reshape(-1),m2.reshape(-1)),axis=1),tf.float32)\n",
    "Y_=tf.nn.softmax(tf.matmul(X_,W))"
   ],
   "outputs": [],
   "metadata": {}
  },
  {
   "cell_type": "code",
   "execution_count": null,
   "source": [
    "Y_=tf.argmax(Y_.numpy(),axis=1)"
   ],
   "outputs": [],
   "metadata": {}
  },
  {
   "cell_type": "code",
   "execution_count": null,
   "source": [
    "n=tf.reshape(Y_,m1.shape)"
   ],
   "outputs": [],
   "metadata": {}
  },
  {
   "cell_type": "code",
   "execution_count": null,
   "source": [
    "n"
   ],
   "outputs": [
    {
     "output_type": "execute_result",
     "data": {
      "text/plain": [
       "<tf.Tensor: shape=(500, 500), dtype=int64, numpy=\n",
       "array([[0, 0, 0, ..., 1, 1, 1],\n",
       "       [0, 0, 0, ..., 1, 1, 1],\n",
       "       [0, 0, 0, ..., 1, 1, 1],\n",
       "       ...,\n",
       "       [2, 2, 2, ..., 2, 2, 2],\n",
       "       [2, 2, 2, ..., 2, 2, 2],\n",
       "       [2, 2, 2, ..., 2, 2, 2]], dtype=int64)>"
      ]
     },
     "metadata": {},
     "execution_count": 53
    }
   ],
   "metadata": {}
  },
  {
   "cell_type": "code",
   "execution_count": null,
   "source": [
    "plt.figure(figsize=(8,6))\n",
    "\n",
    "cm_bg=mpl.colors.ListedColormap(['#A0FFA0','#FFA0A0','#A0A0FF'])\n",
    "\n",
    "plt.pcolormesh(m1,m2,n,cmap=cm_bg)\n",
    "plt.scatter(x_train[:,0],x_train[:,1],c=y_train,cmap=\"brg\")\n",
    "\n",
    "plt.show()"
   ],
   "outputs": [
    {
     "output_type": "stream",
     "name": "stderr",
     "text": [
      "<ipython-input-54-b7541540389c>:5: MatplotlibDeprecationWarning: shading='flat' when X and Y have the same dimensions as C is deprecated since 3.3.  Either specify the corners of the quadrilaterals with X and Y, or pass shading='auto', 'nearest' or 'gouraud', or set rcParams['pcolor.shading'].  This will become an error two minor releases later.\n",
      "  plt.pcolormesh(m1,m2,n,cmap=cm_bg)\n"
     ]
    },
    {
     "output_type": "display_data",
     "data": {
      "text/plain": [
       "<Figure size 576x432 with 1 Axes>"
      ],
      "image/png": "[encoded data removed]"
     },
     "metadata": {
      "needs_background": "light"
     }
    }
   ],
   "metadata": {}
  },
  {
   "cell_type": "code",
   "execution_count": null,
   "source": [],
   "outputs": [],
   "metadata": {}
  }
 ],
 "metadata": {
  "kernelspec": {
   "name": "python3",
   "display_name": "Python 3.8.10 64-bit ('tensorflow25': conda)"
  },
  "language_info": {
   "codemirror_mode": {
    "name": "ipython",
    "version": 3
   },
   "file_extension": ".py",
   "mimetype": "text/x-python",
   "name": "python",
   "nbconvert_exporter": "python",
   "pygments_lexer": "ipython3",
   "version": "3.8.10"
  },
  "interpreter": {
   "hash": "70e49034c2d4e54cce5b8dc5acfaad5189da3a6c6a72abfec90c0acc37859540"
  }
 },
 "nbformat": 4,
 "nbformat_minor": 5
}