{
 "cells": [
  {
   "cell_type": "markdown",
   "id": "e499cbc9",
   "metadata": {},
   "source": [
    "### 导入库"
   ]
  },
  {
   "cell_type": "code",
   "execution_count": 37,
   "id": "5accd1e4",
   "metadata": {},
   "outputs": [
    {
     "data": {
      "text/plain": [
       "('2.5.0-rc3', '2.5.0')"
      ]
     },
     "execution_count": 37,
     "metadata": {},
     "output_type": "execute_result"
    }
   ],
   "source": [
    "import tensorflow as tf\n",
    "tf.__version__,tf.keras.__version__"
   ]
  },
  {
   "cell_type": "code",
   "execution_count": 38,
   "id": "e15ca502",
   "metadata": {},
   "outputs": [],
   "source": [
    "import numpy as np\n",
    "import matplotlib.pyplot as plt"
   ]
  },
  {
   "cell_type": "code",
   "execution_count": 39,
   "id": "ccc88ae3",
   "metadata": {},
   "outputs": [],
   "source": [
    "gpus=tf.config.experimental.list_physical_devices('GPU')\n",
    "tf.config.experimental.set_memory_growth(gpus[0],True)"
   ]
  },
  {
   "cell_type": "markdown",
   "id": "c965ac23",
   "metadata": {},
   "source": [
    "### 加载数据"
   ]
  },
  {
   "cell_type": "code",
   "execution_count": 40,
   "id": "ec992e84",
   "metadata": {},
   "outputs": [],
   "source": [
    "mnist=tf.keras.datasets.mnist\n",
    "(train_x,train_y),(test_x,test_y)=mnist.load_data()"
   ]
  },
  {
   "cell_type": "code",
   "execution_count": 41,
   "id": "5699d12f",
   "metadata": {},
   "outputs": [
    {
     "name": "stdout",
     "output_type": "stream",
     "text": [
      "(60000, 28, 28)\n",
      "(60000,)\n",
      "(10000, 28, 28)\n",
      "(10000,)\n"
     ]
    }
   ],
   "source": [
    "print(train_x.shape)\n",
    "print(train_y.shape)\n",
    "print(test_x.shape)\n",
    "print(test_y.shape)"
   ]
  },
  {
   "cell_type": "code",
   "execution_count": 42,
   "id": "90f12f04",
   "metadata": {},
   "outputs": [
    {
     "data": {
      "text/plain": [
       "(numpy.ndarray, numpy.ndarray)"
      ]
     },
     "execution_count": 42,
     "metadata": {},
     "output_type": "execute_result"
    }
   ],
   "source": [
    "type(train_x),type(train_y)"
   ]
  },
  {
   "cell_type": "code",
   "execution_count": 43,
   "id": "73058246",
   "metadata": {},
   "outputs": [
    {
     "data": {
      "text/plain": [
       "(numpy.ndarray, numpy.ndarray)"
      ]
     },
     "execution_count": 43,
     "metadata": {},
     "output_type": "execute_result"
    }
   ],
   "source": [
    "type(test_x),type(test_y)"
   ]
  },
  {
   "cell_type": "markdown",
   "id": "355e1fee",
   "metadata": {},
   "source": [
    "### 数据预处理"
   ]
  },
  {
   "cell_type": "code",
   "execution_count": 44,
   "id": "8e58c5ad",
   "metadata": {},
   "outputs": [],
   "source": [
    "X_train=train_x.reshape((60000,28*28))\n",
    "X_test=test_x.reshape((10000,28*28))\n",
    "#tf.keras.layers.Flatten()#将图片像素相乘，变成一维向量"
   ]
  },
  {
   "cell_type": "code",
   "execution_count": 45,
   "id": "285c56a5",
   "metadata": {},
   "outputs": [
    {
     "name": "stdout",
     "output_type": "stream",
     "text": [
      "(60000, 784)\n",
      "(10000, 784)\n"
     ]
    }
   ],
   "source": [
    "print(X_train.shape)\n",
    "print(X_test.shape)"
   ]
  },
  {
   "cell_type": "code",
   "execution_count": 46,
   "id": "564f24cb",
   "metadata": {},
   "outputs": [],
   "source": [
    "X_train,X_test=tf.cast(train_x/255.0,tf.float32),tf.cast(test_x/255.0,tf.float32)#灰度值归一化\n",
    "y_train,y_test=tf.cast(train_y,tf.int16),tf.cast(test_y,tf.int16)"
   ]
  },
  {
   "cell_type": "code",
   "execution_count": 47,
   "id": "e8ed8e56",
   "metadata": {},
   "outputs": [
    {
     "data": {
      "text/plain": [
       "(TensorShape([60000, 28, 28]), TensorShape([10000, 28, 28]))"
      ]
     },
     "execution_count": 47,
     "metadata": {},
     "output_type": "execute_result"
    }
   ],
   "source": [
    "X_train.shape,X_test.shape"
   ]
  },
  {
   "cell_type": "code",
   "execution_count": 48,
   "id": "5331bde8",
   "metadata": {},
   "outputs": [
    {
     "data": {
      "text/plain": [
       "(tensorflow.python.framework.ops.EagerTensor,\n",
       " tensorflow.python.framework.ops.EagerTensor)"
      ]
     },
     "execution_count": 48,
     "metadata": {},
     "output_type": "execute_result"
    }
   ],
   "source": [
    "type(X_train),type(y_train)"
   ]
  },
  {
   "cell_type": "markdown",
   "id": "4dd7efe7",
   "metadata": {},
   "source": [
    "## 建立模型"
   ]
  },
  {
   "cell_type": "code",
   "execution_count": 49,
   "id": "a660fc92",
   "metadata": {},
   "outputs": [],
   "source": [
    "model=tf.keras.Sequential()#建立Sequential模型\n",
    "model.add(tf.keras.layers.Flatten(input_shape=(28,28)))#说明输入为（28，28）的矩阵，将输入拉直，变成一维向量\n",
    "model.add(tf.keras.layers.Dense(128,activation=\"relu\"))#添隐含层（全连接层），节点为128，激活函数为relu\n",
    "model.add(tf.keras.layers.Dense(10,activation=\"softmax\"))#添加输出层（全连接层），节点为10，激活函数为softmax"
   ]
  },
  {
   "cell_type": "code",
   "execution_count": 50,
   "id": "b3c2479b",
   "metadata": {},
   "outputs": [
    {
     "name": "stdout",
     "output_type": "stream",
     "text": [
      "Model: \"sequential_1\"\n",
      "_________________________________________________________________\n",
      "Layer (type)                 Output Shape              Param #   \n",
      "=================================================================\n",
      "flatten_2 (Flatten)          (None, 784)               0         \n",
      "_________________________________________________________________\n",
      "dense_2 (Dense)              (None, 128)               100480    \n",
      "_________________________________________________________________\n",
      "dense_3 (Dense)              (None, 10)                1290      \n",
      "=================================================================\n",
      "Total params: 101,770\n",
      "Trainable params: 101,770\n",
      "Non-trainable params: 0\n",
      "_________________________________________________________________\n"
     ]
    }
   ],
   "source": [
    "model.summary()"
   ]
  },
  {
   "cell_type": "markdown",
   "id": "a9e0f009",
   "metadata": {},
   "source": [
    "## 配置训练方法"
   ]
  },
  {
   "cell_type": "code",
   "execution_count": 51,
   "id": "5800788d",
   "metadata": {},
   "outputs": [],
   "source": [
    "model.compile(optimizer='adam',\n",
    "              loss='sparse_categorical_crossentropy',\n",
    "              metrics=['sparse_categorical_accuracy'])"
   ]
  },
  {
   "cell_type": "markdown",
   "id": "b6e8e30b",
   "metadata": {},
   "source": [
    "## 训练模型"
   ]
  },
  {
   "cell_type": "code",
   "execution_count": 52,
   "id": "8e6674a7",
   "metadata": {},
   "outputs": [
    {
     "data": {
      "text/plain": [
       "(TensorShape([60000, 28, 28]), TensorShape([10000, 28, 28]))"
      ]
     },
     "execution_count": 52,
     "metadata": {},
     "output_type": "execute_result"
    }
   ],
   "source": [
    "X_train.shape,X_test.shape"
   ]
  },
  {
   "cell_type": "code",
   "execution_count": 53,
   "id": "2f29f679",
   "metadata": {},
   "outputs": [
    {
     "name": "stdout",
     "output_type": "stream",
     "text": [
      "Epoch 1/5\n",
      "750/750 [==============================] - 2s 3ms/step - loss: 0.3396 - sparse_categorical_accuracy: 0.9046 - val_loss: 0.1785 - val_sparse_categorical_accuracy: 0.9511\n",
      "Epoch 2/5\n",
      "750/750 [==============================] - 2s 3ms/step - loss: 0.1527 - sparse_categorical_accuracy: 0.9556 - val_loss: 0.1397 - val_sparse_categorical_accuracy: 0.9596\n",
      "Epoch 3/5\n",
      "750/750 [==============================] - 2s 3ms/step - loss: 0.1073 - sparse_categorical_accuracy: 0.9695 - val_loss: 0.1156 - val_sparse_categorical_accuracy: 0.9665\n",
      "Epoch 4/5\n",
      "750/750 [==============================] - 2s 3ms/step - loss: 0.0810 - sparse_categorical_accuracy: 0.9758 - val_loss: 0.1053 - val_sparse_categorical_accuracy: 0.9692\n",
      "Epoch 5/5\n",
      "750/750 [==============================] - 2s 3ms/step - loss: 0.0649 - sparse_categorical_accuracy: 0.9808 - val_loss: 0.0898 - val_sparse_categorical_accuracy: 0.9738\n"
     ]
    },
    {
     "data": {
      "text/plain": [
       "<tensorflow.python.keras.callbacks.History at 0x20ce8766e80>"
      ]
     },
     "execution_count": 53,
     "metadata": {},
     "output_type": "execute_result"
    }
   ],
   "source": [
    "model.fit(X_train,y_train,batch_size=64,epochs=5,validation_split=0.2)"
   ]
  },
  {
   "cell_type": "markdown",
   "id": "e45ab7f5",
   "metadata": {},
   "source": [
    "## 评估模型"
   ]
  },
  {
   "cell_type": "code",
   "execution_count": 54,
   "id": "9cb3bbf4",
   "metadata": {},
   "outputs": [
    {
     "name": "stdout",
     "output_type": "stream",
     "text": [
      "313/313 - 0s - loss: 0.0851 - sparse_categorical_accuracy: 0.9746\n"
     ]
    },
    {
     "data": {
      "text/plain": [
       "[0.08506986498832703, 0.9746000170707703]"
      ]
     },
     "execution_count": 54,
     "metadata": {},
     "output_type": "execute_result"
    }
   ],
   "source": [
    "model.evaluate(X_test,y_test,verbose=2)"
   ]
  },
  {
   "cell_type": "markdown",
   "id": "f134e1c5",
   "metadata": {},
   "source": [
    "## 使用模型"
   ]
  },
  {
   "cell_type": "code",
   "execution_count": 55,
   "id": "09446cb7",
   "metadata": {},
   "outputs": [
    {
     "data": {
      "image/png": "[encoded data removed]",
      "text/plain": [
       "<Figure size 432x288 with 1 Axes>"
      ]
     },
     "metadata": {
      "needs_background": "light"
     },
     "output_type": "display_data"
    }
   ],
   "source": [
    "plt.axis(\"off\")\n",
    "plt.imshow(test_x[0],cmap=\"gray\")\n",
    "plt.show()"
   ]
  },
  {
   "cell_type": "code",
   "execution_count": 56,
   "id": "e9362bce",
   "metadata": {},
   "outputs": [
    {
     "data": {
      "text/plain": [
       "<tf.Tensor: shape=(), dtype=int16, numpy=7>"
      ]
     },
     "execution_count": 56,
     "metadata": {},
     "output_type": "execute_result"
    }
   ],
   "source": [
    "y_test[0]"
   ]
  },
  {
   "cell_type": "code",
   "execution_count": 58,
   "id": "c95ee46e",
   "metadata": {},
   "outputs": [
    {
     "data": {
      "text/plain": [
       "TensorShape([10000, 28, 28])"
      ]
     },
     "execution_count": 58,
     "metadata": {},
     "output_type": "execute_result"
    }
   ],
   "source": [
    "X_test.shape"
   ]
  },
  {
   "cell_type": "code",
   "execution_count": 64,
   "id": "aded0204",
   "metadata": {},
   "outputs": [
    {
     "data": {
      "text/plain": [
       "array([[2.6500788e-06, 6.5813297e-09, 2.4675543e-05, 8.6650247e-04,\n",
       "        1.3651770e-10, 8.4265810e-07, 1.1429603e-11, 9.9907565e-01,\n",
       "        3.3002193e-06, 2.6405043e-05]], dtype=float32)"
      ]
     },
     "execution_count": 64,
     "metadata": {},
     "output_type": "execute_result"
    }
   ],
   "source": [
    "demo=tf.reshape(X_test[0],(1,28,28))\n",
    "model.predict(demo)"
   ]
  },
  {
   "cell_type": "code",
   "execution_count": 68,
   "id": "48cc27f1",
   "metadata": {},
   "outputs": [
    {
     "data": {
      "text/plain": [
       "7"
      ]
     },
     "execution_count": 68,
     "metadata": {},
     "output_type": "execute_result"
    }
   ],
   "source": [
    "#demo=tf.reshape(X_test[0],(1,28,28))\n",
    "np.argmax(model.predict(demo))"
   ]
  },
  {
   "cell_type": "code",
   "execution_count": 69,
   "id": "54b6260b",
   "metadata": {},
   "outputs": [
    {
     "data": {
      "image/png": "[encoded data removed]",
      "text/plain": [
       "<Figure size 432x288 with 4 Axes>"
      ]
     },
     "metadata": {
      "needs_background": "light"
     },
     "output_type": "display_data"
    }
   ],
   "source": [
    "for i in range(4):\n",
    "    \n",
    "    plt.subplot(1,4,i+1)\n",
    "    plt.axis(\"off\")\n",
    "    plt.imshow(test_x[i],cmap='gray')\n",
    "    plt.title(test_y[i])\n",
    "    \n",
    "plt.show()"
   ]
  },
  {
   "cell_type": "code",
   "execution_count": 70,
   "id": "7bbc4db3",
   "metadata": {},
   "outputs": [
    {
     "data": {
      "text/plain": [
       "array([[2.6500738e-06, 6.5813297e-09, 2.4675519e-05, 8.6650212e-04,\n",
       "        1.3651770e-10, 8.4265730e-07, 1.1429603e-11, 9.9907565e-01,\n",
       "        3.3002161e-06, 2.6405043e-05],\n",
       "       [4.4528110e-07, 5.2090449e-04, 9.9936157e-01, 7.6923963e-05,\n",
       "        1.4275081e-12, 1.0538237e-05, 5.5016983e-07, 4.3261096e-11,\n",
       "        2.9044382e-05, 5.0876148e-10],\n",
       "       [1.9410008e-05, 9.9453342e-01, 6.5891678e-04, 8.7323184e-05,\n",
       "        2.3319491e-04, 9.6083626e-05, 4.2941061e-05, 3.6915031e-03,\n",
       "        5.9121527e-04, 4.6033070e-05],\n",
       "       [9.9996281e-01, 1.5904797e-08, 2.2565700e-05, 3.4373355e-07,\n",
       "        1.0424833e-08, 3.1154920e-07, 4.2131364e-06, 9.7701140e-06,\n",
       "        2.1619119e-08, 2.9657793e-08]], dtype=float32)"
      ]
     },
     "execution_count": 70,
     "metadata": {},
     "output_type": "execute_result"
    }
   ],
   "source": [
    "model.predict(X_test[0:4])"
   ]
  },
  {
   "cell_type": "code",
   "execution_count": 72,
   "id": "6bd75db6",
   "metadata": {},
   "outputs": [
    {
     "data": {
      "text/plain": [
       "array([7, 2, 1, 0], dtype=int64)"
      ]
     },
     "execution_count": 72,
     "metadata": {},
     "output_type": "execute_result"
    }
   ],
   "source": [
    "np.argmax(model.predict(X_test[0:4]),axis=1)"
   ]
  },
  {
   "cell_type": "code",
   "execution_count": 73,
   "id": "19d775e4",
   "metadata": {},
   "outputs": [],
   "source": [
    "y_pred=np.argmax(model.predict(X_test[0:4]),axis=1)"
   ]
  },
  {
   "cell_type": "code",
   "execution_count": 74,
   "id": "cfa62899",
   "metadata": {},
   "outputs": [
    {
     "data": {
      "image/png": "[encoded data removed]",
      "text/plain": [
       "<Figure size 432x288 with 4 Axes>"
      ]
     },
     "metadata": {
      "needs_background": "light"
     },
     "output_type": "display_data"
    }
   ],
   "source": [
    "for i in range(4):\n",
    "    \n",
    "    plt.subplot(1,4,i+1)\n",
    "    plt.axis(\"off\")\n",
    "    plt.imshow(test_x[i],cmap='gray')\n",
    "    plt.title(\"y=\"+str(test_y[i])+\"\\ny_pred\"+str(y_pred[i]))\n",
    "    \n",
    "plt.show()"
   ]
  },
  {
   "cell_type": "code",
   "execution_count": 85,
   "id": "6c3a0c41",
   "metadata": {},
   "outputs": [
    {
     "data": {
      "image/png": "[encoded data removed]",
      "text/plain": [
       "<Figure size 432x288 with 4 Axes>"
      ]
     },
     "metadata": {
      "needs_background": "light"
     },
     "output_type": "display_data"
    }
   ],
   "source": [
    "for i in range(4):\n",
    "    num=np.random.randint(1,10000)\n",
    "    \n",
    "    plt.subplot(1,4,i+1)\n",
    "    plt.axis(\"off\")\n",
    "    plt.imshow(test_x[num],cmap='gray')\n",
    "    demo=tf.reshape(X_test[num],(1,28,28))\n",
    "    y_pred=np.argmax(model.predict(demo))\n",
    "    #y_pred=np.argmax(model.predict([[X_test[num]]]))\n",
    "    title=\"y=\"+str(test_y[num])+\"\\ny_pred\"+str(y_pred)\n",
    "    plt.title(title)\n",
    "    \n",
    "plt.show()"
   ]
  }
 ],
 "metadata": {
  "kernelspec": {
   "display_name": "Python 3",
   "language": "python",
   "name": "python3"
  },
  "language_info": {
   "codemirror_mode": {
    "name": "ipython",
    "version": 3
   },
   "file_extension": ".py",
   "mimetype": "text/x-python",
   "name": "python",
   "nbconvert_exporter": "python",
   "pygments_lexer": "ipython3",
   "version": "3.8.10"
  }
 },
 "nbformat": 4,
 "nbformat_minor": 5
}
