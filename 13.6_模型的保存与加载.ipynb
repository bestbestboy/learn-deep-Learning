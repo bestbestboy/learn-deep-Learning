{
 "cells": [
  {
   "cell_type": "markdown",
   "id": "c2f03acf",
   "metadata": {},
   "source": [
    "# 模型的保存与加载"
   ]
  },
  {
   "cell_type": "code",
   "execution_count": 1,
   "id": "0483eb96",
   "metadata": {},
   "outputs": [
    {
     "data": {
      "text/plain": [
       "('2.5.0-rc3', '2.5.0')"
      ]
     },
     "execution_count": 1,
     "metadata": {},
     "output_type": "execute_result"
    }
   ],
   "source": [
    "import tensorflow as tf\n",
    "tf.__version__,tf.keras.__version__"
   ]
  },
  {
   "cell_type": "code",
   "execution_count": 2,
   "id": "1921fc3f",
   "metadata": {},
   "outputs": [],
   "source": [
    "import numpy as np\n",
    "import matplotlib.pyplot as plt"
   ]
  },
  {
   "cell_type": "code",
   "execution_count": 3,
   "id": "b12b370a",
   "metadata": {},
   "outputs": [],
   "source": [
    "gpus=tf.config.experimental.list_physical_devices('GPU')\n",
    "tf.config.experimental.set_memory_growth(gpus[0],True)"
   ]
  },
  {
   "cell_type": "markdown",
   "id": "47c0386b",
   "metadata": {},
   "source": [
    "### 加载数据"
   ]
  },
  {
   "cell_type": "code",
   "execution_count": 4,
   "id": "eb2e4682",
   "metadata": {},
   "outputs": [],
   "source": [
    "mnist=tf.keras.datasets.mnist\n",
    "(train_x,train_y),(test_x,test_y)=mnist.load_data()"
   ]
  },
  {
   "cell_type": "code",
   "execution_count": 5,
   "id": "e35f0dce",
   "metadata": {},
   "outputs": [
    {
     "name": "stdout",
     "output_type": "stream",
     "text": [
      "(60000, 28, 28)\n",
      "(60000,)\n",
      "(10000, 28, 28)\n",
      "(10000,)\n"
     ]
    }
   ],
   "source": [
    "print(train_x.shape)\n",
    "print(train_y.shape)\n",
    "print(test_x.shape)\n",
    "print(test_y.shape)"
   ]
  },
  {
   "cell_type": "code",
   "execution_count": 6,
   "id": "7106676c",
   "metadata": {},
   "outputs": [
    {
     "data": {
      "text/plain": [
       "(numpy.ndarray, numpy.ndarray)"
      ]
     },
     "execution_count": 6,
     "metadata": {},
     "output_type": "execute_result"
    }
   ],
   "source": [
    "type(train_x),type(train_y)"
   ]
  },
  {
   "cell_type": "code",
   "execution_count": 7,
   "id": "38f04586",
   "metadata": {},
   "outputs": [
    {
     "data": {
      "text/plain": [
       "(numpy.ndarray, numpy.ndarray)"
      ]
     },
     "execution_count": 7,
     "metadata": {},
     "output_type": "execute_result"
    }
   ],
   "source": [
    "type(test_x),type(test_y)"
   ]
  },
  {
   "cell_type": "markdown",
   "id": "b48dcdd4",
   "metadata": {},
   "source": [
    "### 数据预处理"
   ]
  },
  {
   "cell_type": "code",
   "execution_count": 5,
   "id": "b08a0686",
   "metadata": {},
   "outputs": [],
   "source": [
    "X_train=train_x.reshape((60000,28*28))\n",
    "X_test=test_x.reshape((10000,28*28))\n",
    "#tf.keras.layers.Flatten()#将图片像素相乘，变成一维向量"
   ]
  },
  {
   "cell_type": "code",
   "execution_count": 9,
   "id": "63064c56",
   "metadata": {},
   "outputs": [
    {
     "name": "stdout",
     "output_type": "stream",
     "text": [
      "(60000, 784)\n",
      "(10000, 784)\n"
     ]
    }
   ],
   "source": [
    "print(X_train.shape)\n",
    "print(X_test.shape)"
   ]
  },
  {
   "cell_type": "code",
   "execution_count": 6,
   "id": "332f8c1b",
   "metadata": {},
   "outputs": [],
   "source": [
    "X_train,X_test=tf.cast(train_x/255.0,tf.float32),tf.cast(test_x/255.0,tf.float32)#灰度值归一化\n",
    "y_train,y_test=tf.cast(train_y,tf.int16),tf.cast(test_y,tf.int16)"
   ]
  },
  {
   "cell_type": "code",
   "execution_count": 11,
   "id": "d31acdc8",
   "metadata": {},
   "outputs": [
    {
     "data": {
      "text/plain": [
       "(TensorShape([60000, 28, 28]), TensorShape([10000, 28, 28]))"
      ]
     },
     "execution_count": 11,
     "metadata": {},
     "output_type": "execute_result"
    }
   ],
   "source": [
    "X_train.shape,X_test.shape"
   ]
  },
  {
   "cell_type": "code",
   "execution_count": 12,
   "id": "f545468f",
   "metadata": {},
   "outputs": [
    {
     "data": {
      "text/plain": [
       "(tensorflow.python.framework.ops.EagerTensor,\n",
       " tensorflow.python.framework.ops.EagerTensor)"
      ]
     },
     "execution_count": 12,
     "metadata": {},
     "output_type": "execute_result"
    }
   ],
   "source": [
    "type(X_train),type(y_train)"
   ]
  },
  {
   "cell_type": "markdown",
   "id": "50df29ee",
   "metadata": {},
   "source": [
    "## 建立模型"
   ]
  },
  {
   "cell_type": "code",
   "execution_count": 8,
   "id": "22e61bdd",
   "metadata": {},
   "outputs": [],
   "source": [
    "model=tf.keras.Sequential()#建立Sequential模型\n",
    "model.add(tf.keras.layers.Flatten(input_shape=(28,28)))#说明输入为（28，28）的矩阵，将输入拉直，变成一维向量\n",
    "model.add(tf.keras.layers.Dense(128,activation=\"relu\"))#添隐含层（全连接层），节点为128，激活函数为relu\n",
    "model.add(tf.keras.layers.Dense(10,activation=\"softmax\"))#添加输出层（全连接层），节点为10，激活函数为softmax"
   ]
  },
  {
   "cell_type": "code",
   "execution_count": 9,
   "id": "7dcdd058",
   "metadata": {},
   "outputs": [
    {
     "name": "stdout",
     "output_type": "stream",
     "text": [
      "Model: \"sequential\"\n",
      "_________________________________________________________________\n",
      "Layer (type)                 Output Shape              Param #   \n",
      "=================================================================\n",
      "flatten (Flatten)            (None, 784)               0         \n",
      "_________________________________________________________________\n",
      "dense (Dense)                (None, 128)               100480    \n",
      "_________________________________________________________________\n",
      "dense_1 (Dense)              (None, 10)                1290      \n",
      "=================================================================\n",
      "Total params: 101,770\n",
      "Trainable params: 101,770\n",
      "Non-trainable params: 0\n",
      "_________________________________________________________________\n"
     ]
    }
   ],
   "source": [
    "model.summary()"
   ]
  },
  {
   "cell_type": "markdown",
   "id": "ccabf7dc",
   "metadata": {},
   "source": [
    "## 配置训练方法"
   ]
  },
  {
   "cell_type": "code",
   "execution_count": 10,
   "id": "15ca1d3f",
   "metadata": {},
   "outputs": [],
   "source": [
    "model.compile(optimizer='adam',\n",
    "              loss='sparse_categorical_crossentropy',\n",
    "              metrics=['sparse_categorical_accuracy'])"
   ]
  },
  {
   "cell_type": "markdown",
   "id": "204cd952",
   "metadata": {},
   "source": [
    "## 训练模型"
   ]
  },
  {
   "cell_type": "code",
   "execution_count": 18,
   "id": "57812191",
   "metadata": {},
   "outputs": [
    {
     "data": {
      "text/plain": [
       "(TensorShape([60000, 28, 28]), TensorShape([10000, 28, 28]))"
      ]
     },
     "execution_count": 18,
     "metadata": {},
     "output_type": "execute_result"
    }
   ],
   "source": [
    "X_train.shape,X_test.shape"
   ]
  },
  {
   "cell_type": "code",
   "execution_count": 11,
   "id": "93c15c9b",
   "metadata": {
    "scrolled": true
   },
   "outputs": [
    {
     "name": "stdout",
     "output_type": "stream",
     "text": [
      "Epoch 1/5\n",
      "750/750 [==============================] - 3s 3ms/step - loss: 0.3290 - sparse_categorical_accuracy: 0.9083 - val_loss: 0.1786 - val_sparse_categorical_accuracy: 0.9528\n",
      "Epoch 2/5\n",
      "750/750 [==============================] - 2s 3ms/step - loss: 0.1523 - sparse_categorical_accuracy: 0.9559 - val_loss: 0.1364 - val_sparse_categorical_accuracy: 0.9612\n",
      "Epoch 3/5\n",
      "750/750 [==============================] - 2s 3ms/step - loss: 0.1075 - sparse_categorical_accuracy: 0.9691 - val_loss: 0.1106 - val_sparse_categorical_accuracy: 0.9678\n",
      "Epoch 4/5\n",
      "750/750 [==============================] - 2s 3ms/step - loss: 0.0819 - sparse_categorical_accuracy: 0.9758 - val_loss: 0.0948 - val_sparse_categorical_accuracy: 0.9720\n",
      "Epoch 5/5\n",
      "750/750 [==============================] - 2s 3ms/step - loss: 0.0635 - sparse_categorical_accuracy: 0.9817 - val_loss: 0.1015 - val_sparse_categorical_accuracy: 0.9678\n"
     ]
    },
    {
     "data": {
      "text/plain": [
       "<tensorflow.python.keras.callbacks.History at 0x2033dab8370>"
      ]
     },
     "execution_count": 11,
     "metadata": {},
     "output_type": "execute_result"
    }
   ],
   "source": [
    "model.fit(X_train,y_train,batch_size=64,epochs=5,validation_split=0.2)"
   ]
  },
  {
   "cell_type": "markdown",
   "id": "08924c6e",
   "metadata": {},
   "source": [
    "## 评估模型"
   ]
  },
  {
   "cell_type": "code",
   "execution_count": 12,
   "id": "255e7615",
   "metadata": {},
   "outputs": [
    {
     "name": "stdout",
     "output_type": "stream",
     "text": [
      "313/313 - 1s - loss: 0.0958 - sparse_categorical_accuracy: 0.9706\n"
     ]
    },
    {
     "data": {
      "text/plain": [
       "[0.09575480967760086, 0.9706000089645386]"
      ]
     },
     "execution_count": 12,
     "metadata": {},
     "output_type": "execute_result"
    }
   ],
   "source": [
    "model.evaluate(X_test,y_test,verbose=2)"
   ]
  },
  {
   "cell_type": "markdown",
   "id": "a4568b81",
   "metadata": {},
   "source": [
    "## 模型参数的保存\n",
    "\n",
    "model.save_weights( filepath, overwrite=True, save_format=None)\n",
    "\n",
    "可保存神经网络的结构、模型参数、配置信息（优化器，损失函数等）、优化器状态"
   ]
  },
  {
   "cell_type": "code",
   "execution_count": 19,
   "id": "a9023e8b",
   "metadata": {},
   "outputs": [],
   "source": [
    "model.save_weights(\"mnist_weights.h5\")#进保存了神经网络的模型参数"
   ]
  },
  {
   "cell_type": "markdown",
   "id": "22467257",
   "metadata": {},
   "source": [
    "### 保存整个模型\n",
    "\n",
    "model.save ( filepath, overwrite=True,include_optimizer=True, save_format=None）"
   ]
  },
  {
   "cell_type": "code",
   "execution_count": 13,
   "id": "de82a465",
   "metadata": {},
   "outputs": [],
   "source": [
    "model.save(\"mnist_model.h5\")"
   ]
  },
  {
   "cell_type": "markdown",
   "id": "7f23b824",
   "metadata": {},
   "source": [
    "### 模型读取"
   ]
  },
  {
   "cell_type": "code",
   "execution_count": 19,
   "id": "e5fa8a51",
   "metadata": {},
   "outputs": [],
   "source": [
    "model.load_weights(\"mnist_weights.h5\")#model.load_weights( )仅代替了 model.fit( )"
   ]
  },
  {
   "cell_type": "code",
   "execution_count": 8,
   "id": "54b28422",
   "metadata": {},
   "outputs": [],
   "source": [
    "model=tf.keras.models.load_model('mnist_model.h5')#读取整个训练模型——建立模型、配置训练方法、训练模型"
   ]
  },
  {
   "cell_type": "markdown",
   "id": "76ef4f8c",
   "metadata": {},
   "source": [
    "## 评估"
   ]
  },
  {
   "cell_type": "code",
   "execution_count": 9,
   "id": "3fb52903",
   "metadata": {},
   "outputs": [
    {
     "name": "stdout",
     "output_type": "stream",
     "text": [
      "Model: \"sequential\"\n",
      "_________________________________________________________________\n",
      "Layer (type)                 Output Shape              Param #   \n",
      "=================================================================\n",
      "flatten (Flatten)            (None, 784)               0         \n",
      "_________________________________________________________________\n",
      "dense (Dense)                (None, 128)               100480    \n",
      "_________________________________________________________________\n",
      "dense_1 (Dense)              (None, 10)                1290      \n",
      "=================================================================\n",
      "Total params: 101,770\n",
      "Trainable params: 101,770\n",
      "Non-trainable params: 0\n",
      "_________________________________________________________________\n"
     ]
    }
   ],
   "source": [
    "model.summary()"
   ]
  },
  {
   "cell_type": "code",
   "execution_count": 10,
   "id": "2fd148ec",
   "metadata": {},
   "outputs": [
    {
     "name": "stdout",
     "output_type": "stream",
     "text": [
      "313/313 - 1s - loss: 0.0958 - sparse_categorical_accuracy: 0.9706\n"
     ]
    },
    {
     "data": {
      "text/plain": [
       "[0.09575480967760086, 0.9706000089645386]"
      ]
     },
     "execution_count": 10,
     "metadata": {},
     "output_type": "execute_result"
    }
   ],
   "source": [
    "model.evaluate(X_test,y_test,verbose=2)"
   ]
  },
  {
   "cell_type": "code",
   "execution_count": 12,
   "id": "fc870d19",
   "metadata": {},
   "outputs": [
    {
     "data": {
      "image/png": "[encoded data removed]",
      "text/plain": [
       "<Figure size 432x288 with 4 Axes>"
      ]
     },
     "metadata": {
      "needs_background": "light"
     },
     "output_type": "display_data"
    }
   ],
   "source": [
    "for i in range(4):\n",
    "    num=np.random.randint(1,10000)\n",
    "    \n",
    "    plt.subplot(1,4,i+1)\n",
    "    plt.axis(\"off\")\n",
    "    plt.imshow(test_x[num],cmap='gray')\n",
    "    demo=tf.reshape(X_test[num],(1,28,28))\n",
    "    y_pred=np.argmax(model.predict(demo))\n",
    "    #y_pred=np.argmax(model.predict([[X_test[num]]]))\n",
    "    title=\"y=\"+str(test_y[num])+\"\\ny_pred\"+str(y_pred)\n",
    "    plt.title(title)\n",
    "    \n",
    "plt.show()"
   ]
  }
 ],
 "metadata": {
  "kernelspec": {
   "display_name": "Python 3",
   "language": "python",
   "name": "python3"
  },
  "language_info": {
   "codemirror_mode": {
    "name": "ipython",
    "version": 3
   },
   "file_extension": ".py",
   "mimetype": "text/x-python",
   "name": "python",
   "nbconvert_exporter": "python",
   "pygments_lexer": "ipython3",
   "version": "3.8.10"
  }
 },
 "nbformat": 4,
 "nbformat_minor": 5
}
