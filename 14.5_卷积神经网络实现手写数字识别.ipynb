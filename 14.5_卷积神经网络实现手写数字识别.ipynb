{
 "cells": [
  {
   "cell_type": "markdown",
   "id": "7d34b9f6",
   "metadata": {},
   "source": [
    "### 导入库"
   ]
  },
  {
   "cell_type": "code",
   "execution_count": 1,
   "id": "f9882d2d",
   "metadata": {},
   "outputs": [
    {
     "data": {
      "text/plain": [
       "('2.5.0-rc3', '2.5.0')"
      ]
     },
     "execution_count": 1,
     "metadata": {},
     "output_type": "execute_result"
    }
   ],
   "source": [
    "import tensorflow as tf\n",
    "tf.__version__,tf.keras.__version__"
   ]
  },
  {
   "cell_type": "code",
   "execution_count": 2,
   "id": "e15ca502",
   "metadata": {},
   "outputs": [],
   "source": [
    "import numpy as np\n",
    "import matplotlib.pyplot as plt"
   ]
  },
  {
   "cell_type": "code",
   "execution_count": 3,
   "id": "ccc88ae3",
   "metadata": {},
   "outputs": [],
   "source": [
    "gpus=tf.config.experimental.list_physical_devices('GPU')\n",
    "tf.config.experimental.set_memory_growth(gpus[0],True)"
   ]
  },
  {
   "cell_type": "markdown",
   "id": "e4f830d9",
   "metadata": {},
   "source": [
    "### 加载数据集"
   ]
  },
  {
   "cell_type": "code",
   "execution_count": 4,
   "id": "b5ba2b5e",
   "metadata": {},
   "outputs": [],
   "source": [
    "mnist=tf.keras.datasets.mnist\n",
    "(train_x,train_y),(test_x,test_y)=mnist.load_data()"
   ]
  },
  {
   "cell_type": "code",
   "execution_count": 5,
   "id": "5699d12f",
   "metadata": {},
   "outputs": [
    {
     "name": "stdout",
     "output_type": "stream",
     "text": [
      "(60000, 28, 28)\n",
      "(60000,)\n",
      "(10000, 28, 28)\n",
      "(10000,)\n"
     ]
    }
   ],
   "source": [
    "print(train_x.shape)\n",
    "print(train_y.shape)\n",
    "print(test_x.shape)\n",
    "print(test_y.shape)"
   ]
  },
  {
   "cell_type": "code",
   "execution_count": 6,
   "id": "90f12f04",
   "metadata": {},
   "outputs": [
    {
     "data": {
      "text/plain": [
       "(numpy.ndarray, numpy.ndarray)"
      ]
     },
     "execution_count": 6,
     "metadata": {},
     "output_type": "execute_result"
    }
   ],
   "source": [
    "type(train_x),type(train_y)"
   ]
  },
  {
   "cell_type": "code",
   "execution_count": 7,
   "id": "73058246",
   "metadata": {},
   "outputs": [
    {
     "data": {
      "text/plain": [
       "(numpy.ndarray, numpy.ndarray)"
      ]
     },
     "execution_count": 7,
     "metadata": {},
     "output_type": "execute_result"
    }
   ],
   "source": [
    "type(test_x),type(test_y)"
   ]
  },
  {
   "cell_type": "markdown",
   "id": "b642810f",
   "metadata": {},
   "source": [
    "### 数据预处理"
   ]
  },
  {
   "cell_type": "code",
   "execution_count": 8,
   "id": "564f24cb",
   "metadata": {},
   "outputs": [],
   "source": [
    "X_train,X_test=tf.cast(train_x/255.0,tf.float32),tf.cast(test_x/255.0,tf.float32)#灰度值归一化\n",
    "y_train,y_test=tf.cast(train_y,tf.int16),tf.cast(test_y,tf.int16)"
   ]
  },
  {
   "cell_type": "code",
   "execution_count": 9,
   "id": "768ff072",
   "metadata": {},
   "outputs": [],
   "source": [
    "X_train=train_x.reshape(60000,28,28,1)#维度变换\n",
    "X_test=test_x.reshape(10000,28,28,1)"
   ]
  },
  {
   "cell_type": "code",
   "execution_count": 10,
   "id": "c66fe2ca",
   "metadata": {},
   "outputs": [
    {
     "name": "stdout",
     "output_type": "stream",
     "text": [
      "(60000, 28, 28, 1)\n",
      "(10000, 28, 28, 1)\n"
     ]
    }
   ],
   "source": [
    "print(X_train.shape)\n",
    "print(X_test.shape)"
   ]
  },
  {
   "cell_type": "markdown",
   "id": "b5697a1f",
   "metadata": {},
   "source": [
    "### 建立模型"
   ]
  },
  {
   "cell_type": "code",
   "execution_count": 11,
   "id": "1a5c0300",
   "metadata": {},
   "outputs": [],
   "source": [
    "model =tf.keras.Sequential([\n",
    "    \n",
    "    #unit1\n",
    "    tf.keras.layers.Conv2D(16,kernel_size=(3,3),padding=\"same\",activation=tf.nn.relu,input_shape=(28,28,1)),\n",
    "    tf.keras.layers.MaxPool2D(pool_size=(2,2)),\n",
    "    \n",
    "    #unit2\n",
    "    tf.keras.layers.Conv2D(32,kernel_size=(3,3),padding=\"same\",activation=tf.nn.relu),\n",
    "    tf.keras.layers.MaxPool2D(pool_size=(2,2)),\n",
    "    \n",
    "    #unit3\n",
    "    tf.keras.layers.Flatten(),\n",
    "    \n",
    "    #unit4\n",
    "    tf.keras.layers.Dense(128,activation=\"relu\"),\n",
    "    tf.keras.layers.Dense(10,activation=\"softmax\")\n",
    "\n",
    "])"
   ]
  },
  {
   "cell_type": "markdown",
   "id": "bb11bd78",
   "metadata": {},
   "source": [
    "### 查看摘要"
   ]
  },
  {
   "cell_type": "code",
   "execution_count": 12,
   "id": "2e8e5655",
   "metadata": {},
   "outputs": [
    {
     "name": "stdout",
     "output_type": "stream",
     "text": [
      "Model: \"sequential\"\n",
      "_________________________________________________________________\n",
      "Layer (type)                 Output Shape              Param #   \n",
      "=================================================================\n",
      "conv2d (Conv2D)              (None, 28, 28, 16)        160       \n",
      "_________________________________________________________________\n",
      "max_pooling2d (MaxPooling2D) (None, 14, 14, 16)        0         \n",
      "_________________________________________________________________\n",
      "conv2d_1 (Conv2D)            (None, 14, 14, 32)        4640      \n",
      "_________________________________________________________________\n",
      "max_pooling2d_1 (MaxPooling2 (None, 7, 7, 32)          0         \n",
      "_________________________________________________________________\n",
      "flatten (Flatten)            (None, 1568)              0         \n",
      "_________________________________________________________________\n",
      "dense (Dense)                (None, 128)               200832    \n",
      "_________________________________________________________________\n",
      "dense_1 (Dense)              (None, 10)                1290      \n",
      "=================================================================\n",
      "Total params: 206,922\n",
      "Trainable params: 206,922\n",
      "Non-trainable params: 0\n",
      "_________________________________________________________________\n"
     ]
    }
   ],
   "source": [
    "model.summary()"
   ]
  },
  {
   "cell_type": "markdown",
   "id": "8bc77d96",
   "metadata": {},
   "source": [
    "### 配置训练方法"
   ]
  },
  {
   "cell_type": "code",
   "execution_count": 13,
   "id": "194ec6f9",
   "metadata": {},
   "outputs": [],
   "source": [
    "model.compile(optimizer='adam',\n",
    "              loss='sparse_categorical_crossentropy',\n",
    "              metrics=['sparse_categorical_accuracy'])"
   ]
  },
  {
   "cell_type": "markdown",
   "id": "a6dc4812",
   "metadata": {},
   "source": [
    "### 训练模型"
   ]
  },
  {
   "cell_type": "code",
   "execution_count": 14,
   "id": "0a1d4363",
   "metadata": {},
   "outputs": [
    {
     "name": "stdout",
     "output_type": "stream",
     "text": [
      "Epoch 1/5\n",
      "750/750 [==============================] - 10s 5ms/step - loss: 0.6269 - sparse_categorical_accuracy: 0.9262 - val_loss: 0.0963 - val_sparse_categorical_accuracy: 0.9718\n",
      "Epoch 2/5\n",
      "750/750 [==============================] - 3s 4ms/step - loss: 0.0664 - sparse_categorical_accuracy: 0.9803 - val_loss: 0.0806 - val_sparse_categorical_accuracy: 0.9753\n",
      "Epoch 3/5\n",
      "750/750 [==============================] - 3s 4ms/step - loss: 0.0432 - sparse_categorical_accuracy: 0.9860 - val_loss: 0.0778 - val_sparse_categorical_accuracy: 0.9802\n",
      "Epoch 4/5\n",
      "750/750 [==============================] - 3s 5ms/step - loss: 0.0336 - sparse_categorical_accuracy: 0.9890 - val_loss: 0.0715 - val_sparse_categorical_accuracy: 0.9815\n",
      "Epoch 5/5\n",
      "750/750 [==============================] - 3s 4ms/step - loss: 0.0295 - sparse_categorical_accuracy: 0.9906 - val_loss: 0.0765 - val_sparse_categorical_accuracy: 0.9801\n"
     ]
    },
    {
     "data": {
      "text/plain": [
       "<tensorflow.python.keras.callbacks.History at 0x20cb95fccd0>"
      ]
     },
     "execution_count": 14,
     "metadata": {},
     "output_type": "execute_result"
    }
   ],
   "source": [
    "model.fit(X_train,y_train,batch_size=64,epochs=5,validation_split=0.2)"
   ]
  },
  {
   "cell_type": "markdown",
   "id": "2df5e6d3",
   "metadata": {},
   "source": [
    "### 模型评估"
   ]
  },
  {
   "cell_type": "code",
   "execution_count": 15,
   "id": "2728ad4e",
   "metadata": {},
   "outputs": [
    {
     "name": "stdout",
     "output_type": "stream",
     "text": [
      "313/313 - 1s - loss: 0.0682 - sparse_categorical_accuracy: 0.9800\n"
     ]
    },
    {
     "data": {
      "text/plain": [
       "[0.06821483373641968, 0.9800000190734863]"
      ]
     },
     "execution_count": 15,
     "metadata": {},
     "output_type": "execute_result"
    }
   ],
   "source": [
    "model.evaluate(X_test,y_test,verbose=2)"
   ]
  },
  {
   "cell_type": "code",
   "execution_count": null,
   "id": "87e67a8b",
   "metadata": {},
   "outputs": [],
   "source": []
  }
 ],
 "metadata": {
  "kernelspec": {
   "display_name": "Python 3",
   "language": "python",
   "name": "python3"
  },
  "language_info": {
   "codemirror_mode": {
    "name": "ipython",
    "version": 3
   },
   "file_extension": ".py",
   "mimetype": "text/x-python",
   "name": "python",
   "nbconvert_exporter": "python",
   "pygments_lexer": "ipython3",
   "version": "3.8.10"
  }
 },
 "nbformat": 4,
 "nbformat_minor": 5
}
