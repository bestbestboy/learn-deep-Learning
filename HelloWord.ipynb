{
 "cells": [
  {
   "cell_type": "markdown",
   "id": "3829ace4",
   "metadata": {},
   "source": [
    "# 这是我的第一个笔记本文件\n",
    "## 文件名称是HelloWorld\n",
    "### 使用的是python3"
   ]
  },
  {
   "cell_type": "code",
   "execution_count": null,
   "id": "c9278a6d",
   "metadata": {},
   "outputs": [],
   "source": []
  },
  {
   "cell_type": "code",
   "execution_count": null,
   "id": "839d50e6",
   "metadata": {},
   "outputs": [],
   "source": [
    "print(\"Hello World\")"
   ]
  }
 ],
 "metadata": {
  "kernelspec": {
   "display_name": "Python 3",
   "language": "python",
   "name": "python3"
  },
  "language_info": {
   "codemirror_mode": {
    "name": "ipython",
    "version": 3
   },
   "file_extension": ".py",
   "mimetype": "text/x-python",
   "name": "python",
   "nbconvert_exporter": "python",
   "pygments_lexer": "ipython3",
   "version": "3.8.8"
  }
 },
 "nbformat": 4,
 "nbformat_minor": 5
}
