{
 "cells": [
  {
   "cell_type": "markdown",
   "id": "f15560ea",
   "metadata": {},
   "source": [
    "# 实现多层神经网络"
   ]
  },
  {
   "cell_type": "markdown",
   "id": "13919716",
   "metadata": {},
   "source": [
    "### 导入库，设置GPU模式"
   ]
  },
  {
   "cell_type": "code",
   "execution_count": 1,
   "id": "d727e6e8",
   "metadata": {},
   "outputs": [
    {
     "name": "stdout",
     "output_type": "stream",
     "text": [
      "TensorFlow version: 2.5.0-rc3\n"
     ]
    }
   ],
   "source": [
    "import tensorflow as tf\n",
    "print(\"TensorFlow version:\",tf.__version__)"
   ]
  },
  {
   "cell_type": "code",
   "execution_count": 2,
   "id": "7a973d51",
   "metadata": {},
   "outputs": [],
   "source": [
    "#导入库\n",
    "import pandas as pd\n",
    "import numpy as np\n",
    "import matplotlib.pyplot as plt"
   ]
  },
  {
   "cell_type": "code",
   "execution_count": 3,
   "id": "c26835e5",
   "metadata": {},
   "outputs": [],
   "source": [
    "#设置GPU模式\n",
    "gpus=tf.config.experimental.list_physical_devices('GPU')\n",
    "tf.config.experimental.set_memory_growth(gpus[0],True)"
   ]
  },
  {
   "cell_type": "markdown",
   "id": "3f3be85c",
   "metadata": {},
   "source": [
    "### 加载数据，转为numpy数组"
   ]
  },
  {
   "cell_type": "code",
   "execution_count": 4,
   "id": "7d35134d",
   "metadata": {},
   "outputs": [],
   "source": [
    "#下载数据\n",
    "TRAIN_URL=\"http://download.tensorflow.org/data/iris_training.csv\"\n",
    "train_path=tf.keras.utils.get_file(TRAIN_URL.split('/')[-1],TRAIN_URL)\n",
    "\n",
    "TEST_URL=\"http://download.tensorflow.org/data/iris_test.csv\"\n",
    "test_path=tf.keras.utils.get_file(TEST_URL.split('/')[-1],TEST_URL)"
   ]
  },
  {
   "cell_type": "code",
   "execution_count": 5,
   "id": "7d23d9d7",
   "metadata": {},
   "outputs": [],
   "source": [
    "#读取下载的数据中的csv文件\n",
    "df_iris_train=pd.read_csv(train_path,header=0)\n",
    "df_iris_test=pd.read_csv(test_path,header=0)"
   ]
  },
  {
   "cell_type": "code",
   "execution_count": 6,
   "id": "b0f10278",
   "metadata": {},
   "outputs": [],
   "source": [
    "#将数据转为numpy数组\n",
    "iris_train=np.array(df_iris_train)\n",
    "iris_test=np.array(df_iris_test)"
   ]
  },
  {
   "cell_type": "code",
   "execution_count": 7,
   "id": "cfe146bb",
   "metadata": {},
   "outputs": [
    {
     "data": {
      "text/plain": [
       "((120, 5), (30, 5))"
      ]
     },
     "execution_count": 7,
     "metadata": {},
     "output_type": "execute_result"
    }
   ],
   "source": [
    "iris_train.shape,iris_test.shape"
   ]
  },
  {
   "cell_type": "markdown",
   "id": "105273db",
   "metadata": {},
   "source": [
    "### 数据预处理"
   ]
  },
  {
   "cell_type": "code",
   "execution_count": 8,
   "id": "b51809dd",
   "metadata": {},
   "outputs": [],
   "source": [
    "x_train=iris_train[:,0:4]#数据前四列为特征\n",
    "y_train=iris_train[:,4]#数据第五列为品种\n",
    "\n",
    "x_test=iris_test[:,0:4]\n",
    "y_test=iris_test[:,4]"
   ]
  },
  {
   "cell_type": "code",
   "execution_count": 9,
   "id": "3624d238",
   "metadata": {},
   "outputs": [
    {
     "data": {
      "text/plain": [
       "((120, 4), (120,))"
      ]
     },
     "execution_count": 9,
     "metadata": {},
     "output_type": "execute_result"
    }
   ],
   "source": [
    "x_train.shape,y_train.shape"
   ]
  },
  {
   "cell_type": "code",
   "execution_count": 10,
   "id": "c96bb6b9",
   "metadata": {},
   "outputs": [
    {
     "data": {
      "text/plain": [
       "((30, 4), (30,))"
      ]
     },
     "execution_count": 10,
     "metadata": {},
     "output_type": "execute_result"
    }
   ],
   "source": [
    "x_test.shape,y_test.shape"
   ]
  },
  {
   "cell_type": "code",
   "execution_count": 11,
   "id": "d2495926",
   "metadata": {},
   "outputs": [],
   "source": [
    "#数据中心化\n",
    "x_train=x_train-np.mean(x_train,axis=0)\n",
    "x_test=x_test-np.mean(x_test,axis=0)"
   ]
  },
  {
   "cell_type": "code",
   "execution_count": 12,
   "id": "343de149",
   "metadata": {},
   "outputs": [],
   "source": [
    "X_train=tf.cast(x_train,tf.float32)#训练集输入数据类型修改为32位浮点型\n",
    "Y_train=tf.one_hot(tf.constant(y_train,dtype=tf.int32),3)#训练集输出数据类型改为独热编码\n",
    "\n",
    "X_test=tf.cast(x_test,tf.float32)\n",
    "Y_test=tf.one_hot(tf.constant(y_test,dtype=tf.int32),3)####"
   ]
  },
  {
   "cell_type": "code",
   "execution_count": 13,
   "id": "7fcac60b",
   "metadata": {},
   "outputs": [
    {
     "data": {
      "text/plain": [
       "(TensorShape([120, 4]), TensorShape([120, 3]))"
      ]
     },
     "execution_count": 13,
     "metadata": {},
     "output_type": "execute_result"
    }
   ],
   "source": [
    "X_train.shape,Y_train.shape"
   ]
  },
  {
   "cell_type": "code",
   "execution_count": 14,
   "id": "21c4ffef",
   "metadata": {},
   "outputs": [
    {
     "data": {
      "text/plain": [
       "(TensorShape([30, 4]), TensorShape([30, 3]))"
      ]
     },
     "execution_count": 14,
     "metadata": {},
     "output_type": "execute_result"
    }
   ],
   "source": [
    "X_test.shape,Y_test.shape"
   ]
  },
  {
   "cell_type": "markdown",
   "id": "78d2fd7e",
   "metadata": {},
   "source": [
    "### 设置超参数和显示间隔"
   ]
  },
  {
   "cell_type": "code",
   "execution_count": 15,
   "id": "846c58ee",
   "metadata": {},
   "outputs": [],
   "source": [
    "learn_rate=0.5#设置学习率为0.5\n",
    "iter=50#迭代次数为50次\n",
    "display_step=10#显示间隔为10，每迭代10次，显示一次结果"
   ]
  },
  {
   "cell_type": "markdown",
   "id": "1f45b839",
   "metadata": {},
   "source": [
    "### 设置模型参数初始值"
   ]
  },
  {
   "cell_type": "code",
   "execution_count": 16,
   "id": "c3f92208",
   "metadata": {},
   "outputs": [],
   "source": [
    "np.random.seed(612)#随机数种子为612\n",
    "W1=tf.Variable(np.random.randn(4,16),dtype=tf.float32)#设置第一层网络的权值W1数据类型为（4，16）的随机数矩阵\n",
    "B1=tf.Variable(tf.zeros([16]),dtype=tf.float32)#设置第一层网络的偏移量B1数据为16个0的一维数组\n",
    "W2=tf.Variable(np.random.randn(16,3),dtype=tf.float32)\n",
    "B2=tf.Variable(tf.zeros([3]),dtype=tf.float32)"
   ]
  },
  {
   "cell_type": "markdown",
   "id": "5555a0b5",
   "metadata": {},
   "source": [
    "### 训练模型"
   ]
  },
  {
   "cell_type": "code",
   "execution_count": 17,
   "id": "3c5d01d4",
   "metadata": {},
   "outputs": [
    {
     "name": "stdout",
     "output_type": "stream",
     "text": [
      "i:0,TrainAcc:0.433333,TrainLoss:2.205641,TestAcc:0.400000,TestLoss:1.721138\n",
      "i:10,TrainAcc:0.941667,TrainLoss:0.205314,TestAcc:0.966667,TestLoss:0.249661\n",
      "i:20,TrainAcc:0.950000,TrainLoss:0.149540,TestAcc:1.000000,TestLoss:0.167103\n",
      "i:30,TrainAcc:0.958333,TrainLoss:0.122346,TestAcc:1.000000,TestLoss:0.124693\n",
      "i:40,TrainAcc:0.958333,TrainLoss:0.105099,TestAcc:1.000000,TestLoss:0.099869\n",
      "i:50,TrainAcc:0.958333,TrainLoss:0.092934,TestAcc:1.000000,TestLoss:0.084885\n"
     ]
    }
   ],
   "source": [
    "acc_train=[]#训练集准确率\n",
    "acc_test=[]#测试集准确率\n",
    "cce_train=[]#训练集交叉熵损失\n",
    "cce_test=[]#测试集交叉熵损失\n",
    "\n",
    "for i in range(0,iter+1):\n",
    "    with tf.GradientTape() as tape:#设置梯度带，根据某个函数的输入变量来计算它的导数\n",
    "        Hidden_train=tf.nn.relu(tf.matmul(X_train,W1)+B1)#训练集输入层到隐含层的过程\n",
    "        #matmul函数：数组的矩阵乘积\n",
    "        #tf.nn.relu函数：小于0为0，大于0为本身值\n",
    "        PRED_train=tf.nn.softmax(tf.matmul(Hidden_train,W2)+B2)#训练集的预测结果\n",
    "        #softmax函数：概率归一化函数，百度\n",
    "        Loss_train=tf.reduce_mean(tf.keras.losses.categorical_crossentropy(y_true=Y_train,y_pred=PRED_train))#训练集的平均交叉熵损失\n",
    "        #tf.reduce_mean函数：计算平均值函数\n",
    "        #tf.keras.losses.categorical_crossentropy函数：交叉熵损失函数，百度\n",
    "        \n",
    "        Hidden_test=tf.nn.relu(tf.matmul(X_test,W1)+B1)#测试集输入层到隐含层的过程\n",
    "        PRED_test=tf.nn.softmax(tf.matmul(Hidden_test,W2)+B2)#测试集的预测结果\n",
    "        Loss_test=tf.reduce_mean(tf.keras.losses.categorical_crossentropy(y_true=Y_test,y_pred=PRED_test))#测试集的平均交叉熵损失\n",
    "        \n",
    "    accuracy_train=tf.reduce_mean(tf.cast(tf.equal(tf.argmax(PRED_train.numpy(),axis=1),y_train),tf.float32))#训练集的准确率\n",
    "    #argmax函数：最大值函数，返回输入列表中最大值的位置\n",
    "    #equal函数：比较函数，两者比较，相同为True，不同为False。\n",
    "    #cast函数：转换数据格式函数。\n",
    "    accuracy_test=tf.reduce_mean(tf.cast(tf.equal(tf.argmax(PRED_test.numpy(),axis=1),y_test),tf.float32))#测试集的准确率\n",
    "    \n",
    "    acc_train.append(accuracy_train)#记录训练集准确率\n",
    "    #append函数：将accuracy_train的数据追加到acc_train的空表格中\n",
    "    acc_test.append(accuracy_test)#记录测试集准确率\n",
    "    cce_train.append(Loss_train)#记录训练集交叉熵损失\n",
    "    cce_test.append(Loss_test)#记录测试集交叉熵损失\n",
    "    \n",
    "    grads=tape.gradient(Loss_train,[W1,B1,W2,B2])#分别求Loss函数对W1,B1,W2,B2的梯度\n",
    "    W1.assign_sub(learn_rate*grads[0])#更新W1的值\n",
    "    #assign_sub函数：将括号里的值赋值给前面的tf（W1）\n",
    "    B1.assign_sub(learn_rate*grads[1])#更新B1的值\n",
    "    W2.assign_sub(learn_rate*grads[2])\n",
    "    B2.assign_sub(learn_rate*grads[3])\n",
    "    \n",
    "    if i % display_step==0:\n",
    "        print(\"i:%i,TrainAcc:%f,TrainLoss:%f,TestAcc:%f,TestLoss:%f\" % (i,accuracy_train,Loss_train,accuracy_test,Loss_test))"
   ]
  },
  {
   "cell_type": "markdown",
   "id": "1b50d32e",
   "metadata": {},
   "source": [
    "### 结果可视化"
   ]
  },
  {
   "cell_type": "code",
   "execution_count": 19,
   "id": "d5895ba4",
   "metadata": {},
   "outputs": [
    {
     "data": {
      "image/png": "[encoded data removed]",
      "text/plain": [
       "<Figure size 720x216 with 2 Axes>"
      ]
     },
     "metadata": {
      "needs_background": "light"
     },
     "output_type": "display_data"
    }
   ],
   "source": [
    "plt.figure(figsize=(10,3))\n",
    "\n",
    "plt.subplot(121)\n",
    "plt.plot(cce_train,color=\"blue\",label=\"train\")\n",
    "plt.plot(cce_test,color=\"red\",label=\"test\")\n",
    "plt.xlabel(\"Loss\")\n",
    "plt.legend()\n",
    "\n",
    "plt.subplot(122)\n",
    "plt.plot(acc_train,color=\"blue\",label=\"train\")\n",
    "plt.plot(acc_test,color=\"red\",label=\"test\")\n",
    "plt.xlabel(\"Iteration\")\n",
    "plt.ylabel(\"Accuracy\")\n",
    "plt.legend()\n",
    "\n",
    "plt.show()"
   ]
  },
  {
   "cell_type": "code",
   "execution_count": null,
   "id": "1cdd939b",
   "metadata": {},
   "outputs": [],
   "source": []
  }
 ],
 "metadata": {
  "kernelspec": {
   "display_name": "Python 3",
   "language": "python",
   "name": "python3"
  },
  "language_info": {
   "codemirror_mode": {
    "name": "ipython",
    "version": 3
   },
   "file_extension": ".py",
   "mimetype": "text/x-python",
   "name": "python",
   "nbconvert_exporter": "python",
   "pygments_lexer": "ipython3",
   "version": "3.8.10"
  }
 },
 "nbformat": 4,
 "nbformat_minor": 5
}
