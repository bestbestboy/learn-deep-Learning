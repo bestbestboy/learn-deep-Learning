{
 "cells": [
  {
   "cell_type": "markdown",
   "id": "248e3383",
   "metadata": {},
   "source": [
    "# 实例：实现单层神经网络"
   ]
  },
  {
   "cell_type": "markdown",
   "id": "011a54b4",
   "metadata": {},
   "source": [
    "softmax函数——tf. nn. softmax()\n",
    "\n",
    "Y=XW+B——tf.nn.softmax(tf.matmul(X_train,W)+b)\n",
    "\n",
    "独热编码——tf. one_hot(indices, depth)\n",
    "\n",
    "tf.one_hot(tf.constant(y_test, dtype=tf.int32), 3)\n",
    "\n",
    "交叉熵损失函数——tf.keras.losses.categorical_crossentropy(y_true, y_pred)\n",
    "\n",
    "(y_true, y_pred)——（表示为独热编码的标签值，softmax函数的输出）\n",
    "\n",
    "tf.reduce_mean(tf.keras.losses.categorical_crossentropy(y_true=Y_train,y_pred=PRED_train))"
   ]
  },
  {
   "cell_type": "markdown",
   "id": "573b674b",
   "metadata": {},
   "source": [
    "### 导入库"
   ]
  },
  {
   "cell_type": "code",
   "execution_count": 1,
   "id": "4cd1a794",
   "metadata": {},
   "outputs": [
    {
     "name": "stdout",
     "output_type": "stream",
     "text": [
      "TensorFlow version: 2.5.0-rc3\n"
     ]
    }
   ],
   "source": [
    "import tensorflow as tf\n",
    "print(\"TensorFlow version:\",tf.__version__)"
   ]
  },
  {
   "cell_type": "code",
   "execution_count": 2,
   "id": "c9c0e0fa",
   "metadata": {},
   "outputs": [],
   "source": [
    "import pandas as pd\n",
    "import numpy as np\n",
    "import matplotlib as mpl\n",
    "import matplotlib.pyplot as plt"
   ]
  },
  {
   "cell_type": "code",
   "execution_count": 3,
   "id": "56e806db",
   "metadata": {},
   "outputs": [],
   "source": [
    "gpus=tf.config.experimental.list_physical_devices('GPU')\n",
    "tf.config.experimental.set_memory_growth(gpus[0],True)"
   ]
  },
  {
   "cell_type": "code",
   "execution_count": 23,
   "id": "38cef533",
   "metadata": {},
   "outputs": [
    {
     "data": {
      "text/plain": [
       "[PhysicalDevice(name='/physical_device:GPU:0', device_type='GPU')]"
      ]
     },
     "execution_count": 23,
     "metadata": {},
     "output_type": "execute_result"
    }
   ],
   "source": [
    "gpus"
   ]
  },
  {
   "cell_type": "markdown",
   "id": "0a1651dd",
   "metadata": {},
   "source": [
    "如果有多个gpu，使用for循环\n",
    "\n",
    "for gpu in gpus:\n",
    "\n",
    "   tf.config.experimental.set_memory_growth(gpu,True)"
   ]
  },
  {
   "cell_type": "markdown",
   "id": "688397d9",
   "metadata": {},
   "source": [
    "### 加载数据"
   ]
  },
  {
   "cell_type": "code",
   "execution_count": 4,
   "id": "93784c03",
   "metadata": {},
   "outputs": [],
   "source": [
    "TRAIN_URL=\"http://download.tensorflow.org/data/iris_training.csv\"\n",
    "train_path=tf.keras.utils.get_file(TRAIN_URL.split('/')[-1],TRAIN_URL)\n",
    "\n",
    "TEST_URL=\"http://download.tensorflow.org/data/iris_test.csv\"\n",
    "test_path=tf.keras.utils.get_file(TEST_URL.split('/')[-1],TEST_URL)"
   ]
  },
  {
   "cell_type": "code",
   "execution_count": 5,
   "id": "2d554c55",
   "metadata": {},
   "outputs": [],
   "source": [
    "df_iris_train=pd.read_csv(train_path,header=0)\n",
    "df_iris_test=pd.read_csv(test_path,header=0)"
   ]
  },
  {
   "cell_type": "code",
   "execution_count": 6,
   "id": "09091452",
   "metadata": {},
   "outputs": [],
   "source": [
    "iris_train=np.array(df_iris_train)\n",
    "iris_test=np.array(df_iris_test)"
   ]
  },
  {
   "cell_type": "code",
   "execution_count": 7,
   "id": "e43d363f",
   "metadata": {},
   "outputs": [
    {
     "data": {
      "text/plain": [
       "((120, 5), (30, 5))"
      ]
     },
     "execution_count": 7,
     "metadata": {},
     "output_type": "execute_result"
    }
   ],
   "source": [
    "iris_train.shape,iris_test.shape"
   ]
  },
  {
   "cell_type": "markdown",
   "id": "5ae16221",
   "metadata": {},
   "source": [
    "### 数据预处理"
   ]
  },
  {
   "cell_type": "code",
   "execution_count": 8,
   "id": "547a0d65",
   "metadata": {},
   "outputs": [],
   "source": [
    "x_train=iris_train[:,0:4]\n",
    "y_train=iris_train[:,4]\n",
    "\n",
    "x_test=iris_test[:,0:4]\n",
    "y_test=iris_test[:,4]"
   ]
  },
  {
   "cell_type": "code",
   "execution_count": 9,
   "id": "6eb42df7",
   "metadata": {},
   "outputs": [
    {
     "data": {
      "text/plain": [
       "((120, 4), (120,))"
      ]
     },
     "execution_count": 9,
     "metadata": {},
     "output_type": "execute_result"
    }
   ],
   "source": [
    "x_train.shape,y_train.shape"
   ]
  },
  {
   "cell_type": "code",
   "execution_count": 10,
   "id": "1985f6ed",
   "metadata": {},
   "outputs": [
    {
     "data": {
      "text/plain": [
       "((30, 4), (30,))"
      ]
     },
     "execution_count": 10,
     "metadata": {},
     "output_type": "execute_result"
    }
   ],
   "source": [
    "x_test.shape,y_test.shape"
   ]
  },
  {
   "cell_type": "code",
   "execution_count": 11,
   "id": "07767385",
   "metadata": {},
   "outputs": [],
   "source": [
    "x_train=x_train-np.mean(x_train,axis=0)#数据中心化\n",
    "x_test=x_test-np.mean(x_test,axis=0)#数据中心化"
   ]
  },
  {
   "cell_type": "code",
   "execution_count": 12,
   "id": "095aee30",
   "metadata": {},
   "outputs": [
    {
     "data": {
      "text/plain": [
       "(dtype('float64'), dtype('float64'))"
      ]
     },
     "execution_count": 12,
     "metadata": {},
     "output_type": "execute_result"
    }
   ],
   "source": [
    "x_train.dtype,y_train.dtype"
   ]
  },
  {
   "cell_type": "code",
   "execution_count": 13,
   "id": "ff55caa3",
   "metadata": {},
   "outputs": [],
   "source": [
    "X_train=tf.cast(x_train,tf.float32)\n",
    "Y_train=tf.one_hot(tf.constant(y_train,dtype=tf.int32),3)\n",
    "#训练结果转化为独热编码\n",
    "\n",
    "X_test=tf.cast(x_test,tf.float32)\n",
    "Y_test=tf.one_hot(tf.constant(y_test,dtype=tf.int32),3)\n",
    "#测试结果转为独热编码"
   ]
  },
  {
   "cell_type": "code",
   "execution_count": 14,
   "id": "c309f78c",
   "metadata": {},
   "outputs": [
    {
     "data": {
      "text/plain": [
       "(TensorShape([120, 4]), TensorShape([120, 3]))"
      ]
     },
     "execution_count": 14,
     "metadata": {},
     "output_type": "execute_result"
    }
   ],
   "source": [
    "X_train.shape,Y_train.shape"
   ]
  },
  {
   "cell_type": "code",
   "execution_count": 15,
   "id": "d868e760",
   "metadata": {},
   "outputs": [
    {
     "data": {
      "text/plain": [
       "(TensorShape([30, 4]), TensorShape([30, 3]))"
      ]
     },
     "execution_count": 15,
     "metadata": {},
     "output_type": "execute_result"
    }
   ],
   "source": [
    "X_test.shape,Y_test.shape"
   ]
  },
  {
   "cell_type": "markdown",
   "id": "a9e5ecc5",
   "metadata": {},
   "source": [
    "### 设置超参数和显示间隔"
   ]
  },
  {
   "cell_type": "code",
   "execution_count": 16,
   "id": "6a9b9e73",
   "metadata": {},
   "outputs": [],
   "source": [
    "learn_rate=0.5\n",
    "iter=50\n",
    "\n",
    "display_step=10"
   ]
  },
  {
   "cell_type": "markdown",
   "id": "ff104793",
   "metadata": {},
   "source": [
    "### 设置模型参数初始值"
   ]
  },
  {
   "cell_type": "code",
   "execution_count": 17,
   "id": "6c05e1c7",
   "metadata": {},
   "outputs": [],
   "source": [
    "np.random.seed(612)#随机种子612\n",
    "W=tf.Variable(np.random.randn(4,3),dtype=tf.float32)#W为（4，3）的正态分布随机值\n",
    "B=tf.Variable(np.zeros([3]),dtype=tf.float32)#B初始值设为0"
   ]
  },
  {
   "cell_type": "markdown",
   "id": "71fd7a99",
   "metadata": {},
   "source": [
    "### 训练模型"
   ]
  },
  {
   "cell_type": "code",
   "execution_count": 20,
   "id": "d8f7637e",
   "metadata": {},
   "outputs": [
    {
     "name": "stdout",
     "output_type": "stream",
     "text": [
      "i:0,TrainAcc:0.333333,TrainLoss:2.066978,TestAcc:0.266667,TestLoss:1.880856\n",
      "i:10,TrainAcc:0.875000,TrainLoss:0.339410,TestAcc:0.866667,TestLoss:0.461705\n",
      "i:20,TrainAcc:0.875000,TrainLoss:0.279647,TestAcc:0.866667,TestLoss:0.368414\n",
      "i:30,TrainAcc:0.916667,TrainLoss:0.245924,TestAcc:0.933333,TestLoss:0.314814\n",
      "i:40,TrainAcc:0.933333,TrainLoss:0.222922,TestAcc:0.933333,TestLoss:0.278643\n",
      "i:50,TrainAcc:0.933333,TrainLoss:0.205636,TestAcc:0.966667,TestLoss:0.251937\n"
     ]
    }
   ],
   "source": [
    "acc_train=[]\n",
    "acc_test=[]\n",
    "cce_train=[]\n",
    "cce_test=[]\n",
    "\n",
    "for i in range(0,iter+1):\n",
    "    with tf.GradientTape() as tape:\n",
    "        PRED_train=tf.nn.softmax(tf.matmul(X_train,W)+B)#训练集数据输出\n",
    "        Loss_train=tf.reduce_mean(tf.keras.losses.categorical_crossentropy(y_true=Y_train,y_pred=PRED_train))\n",
    "        #训练集交叉熵损失\n",
    "        \n",
    "    PRED_test=tf.nn.softmax(tf.matmul(X_test,W)+B)\n",
    "    Loss_test=tf.reduce_mean(tf.keras.losses.categorical_crossentropy(y_true=Y_test,y_pred=PRED_test))\n",
    "    \n",
    "    #训练集和测试集的准确率\n",
    "    accuracy_train=tf.reduce_mean(tf.cast(tf.equal(tf.argmax(PRED_train.numpy(),axis=1),y_train),tf.float32))\n",
    "    accuracy_test=tf.reduce_mean(tf.cast(tf.equal(tf.argmax(PRED_test.numpy(),axis=1),y_test),tf.float32))\n",
    "    \n",
    "    acc_train.append(accuracy_train)\n",
    "    acc_test.append(accuracy_test)\n",
    "    cce_train.append(Loss_train)\n",
    "    cce_test.append(Loss_test)\n",
    "    \n",
    "    grads=tape.gradient(Loss_train,[W,B])#使用训练集分别获得损失函数对W和B的偏导数\n",
    "    W.assign_sub(learn_rate*grads[0])#dL_dw (4,3)更新W的值\n",
    "    B.assign_sub(learn_rate*grads[1])#dL_db (3,) 更新B的值\n",
    "    \n",
    "    if i % display_step==0:\n",
    "        print(\"i:%i,TrainAcc:%f,TrainLoss:%f,TestAcc:%f,TestLoss:%f\" % (i,accuracy_train,Loss_train,accuracy_test,Loss_test))"
   ]
  },
  {
   "cell_type": "markdown",
   "id": "a0812612",
   "metadata": {},
   "source": [
    "### 结果可视化"
   ]
  },
  {
   "cell_type": "code",
   "execution_count": 22,
   "id": "23d9a9c7",
   "metadata": {},
   "outputs": [
    {
     "data": {
      "image/png": "[encoded data removed]",
      "text/plain": [
       "<Figure size 720x216 with 2 Axes>"
      ]
     },
     "metadata": {
      "needs_background": "light"
     },
     "output_type": "display_data"
    }
   ],
   "source": [
    "plt.figure(figsize=(10,3))\n",
    "\n",
    "plt.subplot(121)\n",
    "plt.plot(cce_train,color=\"blue\",label=\"train\")\n",
    "plt.plot(cce_test,color=\"red\",label=\"test\")\n",
    "plt.xlabel(\"Iteration\")\n",
    "plt.ylabel(\"Loss\")\n",
    "plt.legend()\n",
    "\n",
    "plt.subplot(122)\n",
    "plt.plot(acc_train,color=\"blue\",label=\"train\")\n",
    "plt.plot(acc_test,color=\"red\",label=\"test\")\n",
    "plt.xlabel(\"Iteration\")\n",
    "plt.ylabel(\"Accuracy\")\n",
    "plt.legend()\n",
    "\n",
    "plt.show()"
   ]
  },
  {
   "cell_type": "code",
   "execution_count": null,
   "id": "cc0da591",
   "metadata": {},
   "outputs": [],
   "source": []
  }
 ],
 "metadata": {
  "kernelspec": {
   "display_name": "Python 3",
   "language": "python",
   "name": "python3"
  },
  "language_info": {
   "codemirror_mode": {
    "name": "ipython",
    "version": 3
   },
   "file_extension": ".py",
   "mimetype": "text/x-python",
   "name": "python",
   "nbconvert_exporter": "python",
   "pygments_lexer": "ipython3",
   "version": "3.8.10"
  }
 },
 "nbformat": 4,
 "nbformat_minor": 5
}
