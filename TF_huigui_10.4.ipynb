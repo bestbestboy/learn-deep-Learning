{
 "cells": [
  {
   "cell_type": "markdown",
   "id": "88480d43",
   "metadata": {},
   "source": [
    "# TensorFlow实现一元线性回归"
   ]
  },
  {
   "cell_type": "markdown",
   "id": "95810626",
   "metadata": {},
   "source": [
    " 可训练变量\n",
    "\n",
    "p Variable对象\n",
    "\n",
    "p 自动记录梯度信息\n",
    "\n",
    "p 由算法自动优化\n",
    "\n",
    "GradientTape——自动求导"
   ]
  },
  {
   "cell_type": "code",
   "execution_count": 1,
   "id": "6ff3995f",
   "metadata": {},
   "outputs": [
    {
     "name": "stdout",
     "output_type": "stream",
     "text": [
      "TensorFlow version: 2.5.0-rc3\n"
     ]
    }
   ],
   "source": [
    "import tensorflow as tf\n",
    "print(\"TensorFlow version:\",tf.__version__)"
   ]
  },
  {
   "cell_type": "code",
   "execution_count": 2,
   "id": "ad2c391a",
   "metadata": {},
   "outputs": [],
   "source": [
    "import numpy as np"
   ]
  },
  {
   "cell_type": "code",
   "execution_count": 3,
   "id": "d34b9278",
   "metadata": {},
   "outputs": [],
   "source": [
    "x=np.array([137.97,104.50,100.00,124.32,79.20,99.00,124.00,\n",
    "            114.00,106.69,138.05,53.75,46.91,68.00,63.02,81.26,86.21])\n",
    "y=np.array([145.00,110.00,93.00,116.00,65.32,104.00,118.00,\n",
    "            91.00,62.00,133.00,51.00,45.00,78.50,69.65,75.69,95.30])"
   ]
  },
  {
   "cell_type": "code",
   "execution_count": 18,
   "id": "e9942125",
   "metadata": {},
   "outputs": [],
   "source": [
    "learn_rate=0.0001#步长\n",
    "iter=10#阶数\n",
    "\n",
    "display_step=1#每隔1阶显示一次"
   ]
  },
  {
   "cell_type": "code",
   "execution_count": 19,
   "id": "680c63b5",
   "metadata": {},
   "outputs": [],
   "source": [
    "np.random.seed(612)#设置初始w,b值为随机数\n",
    "w=tf.Variable(np.random.randn())#设置w,b数据类型\n",
    "b=tf.Variable(np.random.randn())"
   ]
  },
  {
   "cell_type": "code",
   "execution_count": 20,
   "id": "a67919aa",
   "metadata": {},
   "outputs": [
    {
     "name": "stdout",
     "output_type": "stream",
     "text": [
      "i:0,Loss:4749.362305,w:0.946047,b:-1.153577\n",
      "i:1,Loss:89.861855,w:0.957843,b:-1.153412\n",
      "i:2,Loss:89.157501,w:0.957987,b:-1.153359\n",
      "i:3,Loss:89.157379,w:0.957988,b:-1.153308\n",
      "i:4,Loss:89.157372,w:0.957988,b:-1.153257\n",
      "i:5,Loss:89.157318,w:0.957987,b:-1.153206\n",
      "i:6,Loss:89.157288,w:0.957987,b:-1.153155\n",
      "i:7,Loss:89.157265,w:0.957986,b:-1.153104\n",
      "i:8,Loss:89.157219,w:0.957986,b:-1.153052\n",
      "i:9,Loss:89.157211,w:0.957985,b:-1.153001\n",
      "i:10,Loss:89.157196,w:0.957985,b:-1.152950\n"
     ]
    }
   ],
   "source": [
    "mse=[]\n",
    "\n",
    "for i in range(0,iter+1):\n",
    "    \n",
    "    with tf.GradientTape() as tape:#自动求导函数\n",
    "        pred=w*x+b#求导公式\n",
    "        Loss=0.5*tf.reduce_mean(tf.square(y-pred))#求导公式\n",
    "    mse.append(Loss)\n",
    "    \n",
    "    dL_dw,dL_db=tape.gradient(Loss,[w,b])#Loss函数对自变量w,b分别求导\n",
    "    \n",
    "    w.assign_sub(learn_rate*dL_dw)\n",
    "    b.assign_sub(learn_rate*dL_db)\n",
    "\n",
    "    if i % display_step==0:\n",
    "        print(\"i:%i,Loss:%f,w:%f,b:%f\"%(i,Loss,w.numpy(),b.numpy()))"
   ]
  },
  {
   "cell_type": "markdown",
   "id": "00ea85dc",
   "metadata": {},
   "source": [
    "# TensorFlow实现多元线性回归"
   ]
  },
  {
   "cell_type": "code",
   "execution_count": 21,
   "id": "46d00298",
   "metadata": {},
   "outputs": [
    {
     "name": "stdout",
     "output_type": "stream",
     "text": [
      "TensorFlow version: 2.5.0-rc3\n"
     ]
    }
   ],
   "source": [
    "import tensorflow as tf\n",
    "print(\"TensorFlow version:\",tf.__version__)"
   ]
  },
  {
   "cell_type": "code",
   "execution_count": 22,
   "id": "5dd92c2c",
   "metadata": {},
   "outputs": [],
   "source": [
    "import numpy as np"
   ]
  },
  {
   "cell_type": "code",
   "execution_count": 23,
   "id": "25e0a982",
   "metadata": {},
   "outputs": [],
   "source": [
    "area=np.array([137.97,104.50,100.00,124.32,79.20,99.00,124.00,\n",
    "               114.00,106.69,138.05,53.75,46.91,68.00,63.02,81.26,86.21])\n",
    "room=np.array([3,2,2,3,1,2,3,2,2,3,1,1,1,1,2,2])\n",
    "price=np.array([145.00,110.00,93.00,116.00,65.32,104.00,118.00,\n",
    "                91.00,62.00,133.00,51.00,45.00,78.50,69.65,75.69,95.30])\n",
    "\n",
    "num=len(area)"
   ]
  },
  {
   "cell_type": "code",
   "execution_count": 24,
   "id": "3195befd",
   "metadata": {},
   "outputs": [],
   "source": [
    "x0=np.ones(num)\n",
    "\n",
    "x1=(area-area.min())/(area.max()-area.min())\n",
    "x2=(room-room.min())/(room.max()-room.min())\n",
    "\n",
    "X=np.stack((x0,x1,x2),axis=1)\n",
    "Y=price.reshape(-1,1)"
   ]
  },
  {
   "cell_type": "code",
   "execution_count": 25,
   "id": "0eaad5e7",
   "metadata": {},
   "outputs": [],
   "source": [
    "learn_rate=0.02\n",
    "iter=50\n",
    "\n",
    "display_step=10"
   ]
  },
  {
   "cell_type": "code",
   "execution_count": 26,
   "id": "c2c325da",
   "metadata": {},
   "outputs": [],
   "source": [
    "np.random.seed(612)\n",
    "W=tf.Variable(np.random.randn(3,1))"
   ]
  },
  {
   "cell_type": "code",
   "execution_count": 28,
   "id": "67ec481e",
   "metadata": {},
   "outputs": [
    {
     "name": "stdout",
     "output_type": "stream",
     "text": [
      "i:0,Loss:4593.851656\n",
      "i:10,Loss:2453.348266\n",
      "i:20,Loss:1328.860468\n",
      "i:30,Loss:738.077411\n",
      "i:40,Loss:427.647720\n",
      "i:50,Loss:264.489194\n"
     ]
    }
   ],
   "source": [
    "mse=[]\n",
    "\n",
    "for i in range (0,iter+1):\n",
    "    with tf.GradientTape() as tape:\n",
    "        PRED=tf.matmul(X,W)\n",
    "        Loss=0.5*tf.reduce_mean(tf.square(Y-PRED))\n",
    "    mse.append(Loss)\n",
    "    \n",
    "    dL_dW=tape.gradient(Loss,W)\n",
    "    W.assign_sub(learn_rate*dL_dW)\n",
    "    \n",
    "    if i % display_step==0:\n",
    "        print(\"i:%i,Loss:%f\" % (i,Loss))"
   ]
  }
 ],
 "metadata": {
  "kernelspec": {
   "display_name": "Python 3",
   "language": "python",
   "name": "python3"
  },
  "language_info": {
   "codemirror_mode": {
    "name": "ipython",
    "version": 3
   },
   "file_extension": ".py",
   "mimetype": "text/x-python",
   "name": "python",
   "nbconvert_exporter": "python",
   "pygments_lexer": "ipython3",
   "version": "3.8.10"
  }
 },
 "nbformat": 4,
 "nbformat_minor": 5
}
