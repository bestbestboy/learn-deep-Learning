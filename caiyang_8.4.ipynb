{
 "cells": [
  {
   "cell_type": "markdown",
   "id": "5c54ee04",
   "metadata": {},
   "source": [
    "# 部分采样"
   ]
  },
  {
   "cell_type": "markdown",
   "id": "19625d62",
   "metadata": {},
   "source": [
    "### 索引和切片"
   ]
  },
  {
   "cell_type": "markdown",
   "id": "e4cab652",
   "metadata": {},
   "source": [
    "索引 \n",
    "\n",
    "#一维张量  a[1]\n",
    "\n",
    "#二维张量  b[1][1]    b[1,1]\n",
    "\n",
    "#三维张量  c[1][1][1]  c[1,1,1]\n",
    "\n",
    "例：手写数字图像数据集MNIST：(60000, 28, 28)\n",
    "\n",
    "mnist[0]：取第1张图片中的数据\n",
    "\n",
    "mnist[0][1] ：取第1张图片中的第2行\n",
    "\n",
    "mnist[0][1][2]：取第1张图片中的第2行的第3列"
   ]
  },
  {
   "cell_type": "markdown",
   "id": "5768fa25",
   "metadata": {},
   "source": [
    "切片 \n",
    "\n",
    "起始位置:结束位置: 步长\n",
    "\n",
    "n 起始位置：结束位置，是前闭后开的，切片中不包含结束位置\n",
    "\n",
    "n 起始位置、结束位置、步长都可以省略\n",
    "\n",
    "n 步长可以是负数，这时起始位置的索引号，应该大于结束位置\n"
   ]
  },
  {
   "cell_type": "code",
   "execution_count": 1,
   "id": "5c9b8db1",
   "metadata": {},
   "outputs": [],
   "source": [
    "import tensorflow as tf"
   ]
  },
  {
   "cell_type": "code",
   "execution_count": 2,
   "id": "50f1dc91",
   "metadata": {},
   "outputs": [],
   "source": [
    "a=tf.range(10)"
   ]
  },
  {
   "cell_type": "code",
   "execution_count": 3,
   "id": "d12e7527",
   "metadata": {},
   "outputs": [
    {
     "data": {
      "text/plain": [
       "<tf.Tensor: shape=(10,), dtype=int32, numpy=array([0, 1, 2, 3, 4, 5, 6, 7, 8, 9])>"
      ]
     },
     "execution_count": 3,
     "metadata": {},
     "output_type": "execute_result"
    }
   ],
   "source": [
    "a[::]  #读取所有数据，步长为1"
   ]
  },
  {
   "cell_type": "code",
   "execution_count": 4,
   "id": "828b935e",
   "metadata": {},
   "outputs": [
    {
     "data": {
      "text/plain": [
       "<tf.Tensor: shape=(5,), dtype=int32, numpy=array([0, 2, 4, 6, 8])>"
      ]
     },
     "execution_count": 4,
     "metadata": {},
     "output_type": "execute_result"
    }
   ],
   "source": [
    "a[::2]  #从第一个元素开始，隔行采样，直到最后一个元素"
   ]
  },
  {
   "cell_type": "code",
   "execution_count": 5,
   "id": "a8ca3b06",
   "metadata": {},
   "outputs": [
    {
     "data": {
      "text/plain": [
       "<tf.Tensor: shape=(5,), dtype=int32, numpy=array([1, 3, 5, 7, 9])>"
      ]
     },
     "execution_count": 5,
     "metadata": {},
     "output_type": "execute_result"
    }
   ],
   "source": [
    "a[1::2]  #读出所有奇数"
   ]
  },
  {
   "cell_type": "code",
   "execution_count": 6,
   "id": "9823ad29",
   "metadata": {},
   "outputs": [
    {
     "data": {
      "text/plain": [
       "<tf.Tensor: shape=(10,), dtype=int32, numpy=array([9, 8, 7, 6, 5, 4, 3, 2, 1, 0])>"
      ]
     },
     "execution_count": 6,
     "metadata": {},
     "output_type": "execute_result"
    }
   ],
   "source": [
    "a[::-1]  #从最后一个元素开始，逆序取出所有元素"
   ]
  },
  {
   "cell_type": "code",
   "execution_count": 7,
   "id": "1d814771",
   "metadata": {},
   "outputs": [
    {
     "data": {
      "text/plain": [
       "<tf.Tensor: shape=(5,), dtype=int32, numpy=array([9, 7, 5, 3, 1])>"
      ]
     },
     "execution_count": 7,
     "metadata": {},
     "output_type": "execute_result"
    }
   ],
   "source": [
    "a[::-2]  #从最后一个元素开始，逆序取出所有间隔元素"
   ]
  },
  {
   "cell_type": "markdown",
   "id": "155ddf10",
   "metadata": {},
   "source": [
    "### 二维张量切片"
   ]
  },
  {
   "cell_type": "markdown",
   "id": "e3bef470",
   "metadata": {},
   "source": [
    "下载鸢尾花数据集"
   ]
  },
  {
   "cell_type": "code",
   "execution_count": 8,
   "id": "07f83b7d",
   "metadata": {},
   "outputs": [],
   "source": [
    "TRAIN_URL=\"http://download.tensorflow.org/data/iris_training.csv\"\n",
    "train_path=tf.keras.utils.get_file(TRAIN_URL.split('/')[-1],TRAIN_URL)"
   ]
  },
  {
   "cell_type": "markdown",
   "id": "5dbaebfe",
   "metadata": {},
   "source": [
    "使用Pandas读取到二维表格对象df_iris中"
   ]
  },
  {
   "cell_type": "code",
   "execution_count": 9,
   "id": "2f4bfee0",
   "metadata": {},
   "outputs": [],
   "source": [
    "import pandas as pd\n",
    "df_iris=pd.read_csv(train_path)"
   ]
  },
  {
   "cell_type": "markdown",
   "id": "c4ecb1a1",
   "metadata": {},
   "source": [
    "转换为numpy数组np_iris"
   ]
  },
  {
   "cell_type": "code",
   "execution_count": 10,
   "id": "36adeb19",
   "metadata": {},
   "outputs": [],
   "source": [
    "import numpy as np\n",
    "np_iris=np.array(df_iris)"
   ]
  },
  {
   "cell_type": "markdown",
   "id": "e4c4063e",
   "metadata": {},
   "source": [
    "转换为张量"
   ]
  },
  {
   "cell_type": "code",
   "execution_count": 11,
   "id": "ae5c24d8",
   "metadata": {},
   "outputs": [
    {
     "data": {
      "text/plain": [
       "TensorShape([120, 5])"
      ]
     },
     "execution_count": 11,
     "metadata": {},
     "output_type": "execute_result"
    }
   ],
   "source": [
    "iris=tf.convert_to_tensor(np_iris)\n",
    "iris.shape"
   ]
  },
  {
   "cell_type": "markdown",
   "id": "f1a0523e",
   "metadata": {},
   "source": [
    "二维张量切片：维度之间用逗号隔开"
   ]
  },
  {
   "cell_type": "code",
   "execution_count": 12,
   "id": "88fb480a",
   "metadata": {},
   "outputs": [
    {
     "data": {
      "text/plain": [
       "<tf.Tensor: shape=(5,), dtype=float64, numpy=array([6.4, 2.8, 5.6, 2.2, 2. ])>"
      ]
     },
     "execution_count": 12,
     "metadata": {},
     "output_type": "execute_result"
    }
   ],
   "source": [
    "iris[0,:]  #读取第一个样本所有列"
   ]
  },
  {
   "cell_type": "code",
   "execution_count": 13,
   "id": "471db020",
   "metadata": {},
   "outputs": [
    {
     "data": {
      "text/plain": [
       "<tf.Tensor: shape=(5, 4), dtype=float64, numpy=\n",
       "array([[6.4, 2.8, 5.6, 2.2],\n",
       "       [5. , 2.3, 3.3, 1. ],\n",
       "       [4.9, 2.5, 4.5, 1.7],\n",
       "       [4.9, 3.1, 1.5, 0.1],\n",
       "       [5.7, 3.8, 1.7, 0.3]])>"
      ]
     },
     "execution_count": 13,
     "metadata": {},
     "output_type": "execute_result"
    }
   ],
   "source": [
    "iris[0:5,0:4]  #读取前5个样本的所有属性"
   ]
  },
  {
   "cell_type": "code",
   "execution_count": 14,
   "id": "4259d418",
   "metadata": {},
   "outputs": [
    {
     "data": {
      "text/plain": [
       "<tf.Tensor: shape=(120,), dtype=float64, numpy=\n",
       "array([6.4, 5. , 4.9, 4.9, 5.7, 4.4, 5.4, 6.9, 6.7, 5.1, 5.2, 6.9, 5.8,\n",
       "       5.4, 7.7, 6.3, 6.8, 7.6, 6.4, 5.7, 6.7, 6.4, 5.4, 6.1, 7.2, 5.2,\n",
       "       5.8, 5.9, 5.4, 6.7, 6.3, 5.1, 6.4, 6.8, 6.2, 6.9, 6.5, 5.8, 5.1,\n",
       "       4.8, 7.9, 5.8, 6.7, 5.1, 4.7, 6. , 4.8, 7.7, 4.6, 7.2, 5. , 6.6,\n",
       "       6.1, 5. , 7. , 6. , 7.4, 5.8, 6.2, 5. , 5.6, 6.7, 6.3, 6.4, 6.2,\n",
       "       7.3, 4.4, 7.2, 6.5, 5. , 4.7, 6.6, 5.5, 7.7, 6.1, 4.9, 5.5, 5.7,\n",
       "       6. , 6.4, 5.4, 6.1, 6.5, 5.6, 6.3, 4.9, 6.8, 5.7, 6. , 5. , 6.5,\n",
       "       6.1, 5.1, 4.6, 6.5, 4.6, 4.6, 7.7, 5.9, 5.1, 4.9, 4.9, 4.5, 5.8,\n",
       "       5. , 5.2, 5.3, 5. , 5.6, 4.8, 6.3, 5.7, 5. , 6.3, 5. , 5.5, 5.7,\n",
       "       4.4, 4.8, 5.5])>"
      ]
     },
     "execution_count": 14,
     "metadata": {},
     "output_type": "execute_result"
    }
   ],
   "source": [
    "iris[:,0]  #读取所有样本的第一个属性"
   ]
  },
  {
   "cell_type": "code",
   "execution_count": 15,
   "id": "9a1bffca",
   "metadata": {},
   "outputs": [
    {
     "data": {
      "text/plain": [
       "<tf.Tensor: shape=(10, 4), dtype=float64, numpy=\n",
       "array([[6.4, 2.8, 5.6, 2.2],\n",
       "       [5. , 2.3, 3.3, 1. ],\n",
       "       [4.9, 2.5, 4.5, 1.7],\n",
       "       [4.9, 3.1, 1.5, 0.1],\n",
       "       [5.7, 3.8, 1.7, 0.3],\n",
       "       [4.4, 3.2, 1.3, 0.2],\n",
       "       [5.4, 3.4, 1.5, 0.4],\n",
       "       [6.9, 3.1, 5.1, 2.3],\n",
       "       [6.7, 3.1, 4.4, 1.4],\n",
       "       [5.1, 3.7, 1.5, 0.4]])>"
      ]
     },
     "execution_count": 15,
     "metadata": {},
     "output_type": "execute_result"
    }
   ],
   "source": [
    "iris[0:10,0:4]  #读取前10个样本的所有属性"
   ]
  },
  {
   "cell_type": "markdown",
   "id": "20d31c6b",
   "metadata": {},
   "source": [
    "三维张量切片——手写数字数据集MNIST（60000,28,28）\n",
    "\n",
    "mnist[0, ::, ::]：第1张图片\n",
    "\n",
    "    [0, :, :]  两个冒号可以简写为一个冒号\n",
    "    \n",
    "mnist[0:10, :, :]：前10张图片\n",
    "\n",
    "mnist[0:20, 0:28:2, :]：前20张图片的所有的行，隔行采样\n",
    "\n",
    "mnist[:, 0:28:2, 0:28:2]：对所有的图片，隔行采样，并且隔列采样"
   ]
  },
  {
   "cell_type": "markdown",
   "id": "f274e1fb",
   "metadata": {},
   "source": [
    "三维张量切片——彩色图片lena (512, 512, 3)\n",
    "\n",
    "lena[:, :, 0]：R通道的图片\n",
    "\n",
    "lena[:, :, 2]：B通道的图片\n",
    "\n",
    "四维张量切片——多张彩色图片 (4, 512, 512, 3)\n",
    "\n",
    "image[0, :, :, 0]：第1张图片的R通道\n",
    "\n",
    "image[0:2, :, :, 2]：前2张图片的B通道\n",
    "\n",
    "image[0:2, 0:512:2, :, 2]：对前2张图片的B通道图片隔行采样\n",
    "\n",
    "采用切片的方式，只能进行连续的、或者有规律的采样"
   ]
  },
  {
   "cell_type": "markdown",
   "id": "db2797c7",
   "metadata": {},
   "source": [
    "### 数据提取"
   ]
  },
  {
   "cell_type": "markdown",
   "id": "4918f29c",
   "metadata": {},
   "source": [
    "gather()函数：用一个索引列表，将给定张量中对应索引值的\n",
    "元素提取出来   gather( params, indices )\n",
    "输入张量 索引值列"
   ]
  },
  {
   "cell_type": "code",
   "execution_count": 16,
   "id": "f4c66274",
   "metadata": {},
   "outputs": [],
   "source": [
    "a=tf.range(5)"
   ]
  },
  {
   "cell_type": "code",
   "execution_count": 17,
   "id": "b749e2a5",
   "metadata": {},
   "outputs": [
    {
     "data": {
      "text/plain": [
       "<tf.Tensor: shape=(3,), dtype=int32, numpy=array([0, 2, 3])>"
      ]
     },
     "execution_count": 17,
     "metadata": {},
     "output_type": "execute_result"
    }
   ],
   "source": [
    "tf.gather(a,indices=[0,2,3])"
   ]
  },
  {
   "cell_type": "markdown",
   "id": "86752b63",
   "metadata": {},
   "source": [
    "### 对多维张量采样——gather()、gather_nd()函数"
   ]
  },
  {
   "cell_type": "markdown",
   "id": "538b15cf",
   "metadata": {},
   "source": [
    "gather( params, axis, indices )\n",
    "axis 说明在哪个轴上采样\n",
    "\n",
    "gather()函数一次对一个维度进行索引"
   ]
  },
  {
   "cell_type": "code",
   "execution_count": 18,
   "id": "419ce0ea",
   "metadata": {},
   "outputs": [
    {
     "data": {
      "text/plain": [
       "<tf.Tensor: shape=(4, 5), dtype=int32, numpy=\n",
       "array([[ 0,  1,  2,  3,  4],\n",
       "       [ 5,  6,  7,  8,  9],\n",
       "       [10, 11, 12, 13, 14],\n",
       "       [15, 16, 17, 18, 19]])>"
      ]
     },
     "execution_count": 18,
     "metadata": {},
     "output_type": "execute_result"
    }
   ],
   "source": [
    "a=tf.range(20)\n",
    "b=tf.reshape(a,[4,5])\n",
    "b"
   ]
  },
  {
   "cell_type": "code",
   "execution_count": 20,
   "id": "b7d5881b",
   "metadata": {},
   "outputs": [
    {
     "data": {
      "text/plain": [
       "<tf.Tensor: shape=(3, 5), dtype=int32, numpy=\n",
       "array([[ 0,  1,  2,  3,  4],\n",
       "       [10, 11, 12, 13, 14],\n",
       "       [15, 16, 17, 18, 19]])>"
      ]
     },
     "execution_count": 20,
     "metadata": {},
     "output_type": "execute_result"
    }
   ],
   "source": [
    "tf.gather(b,axis=0,indices=[0,2,3]) #对axis=0的轴进行采样"
   ]
  },
  {
   "cell_type": "code",
   "execution_count": 21,
   "id": "3111c1ec",
   "metadata": {},
   "outputs": [
    {
     "data": {
      "text/plain": [
       "<tf.Tensor: shape=(4, 3), dtype=int32, numpy=\n",
       "array([[ 0,  2,  3],\n",
       "       [ 5,  7,  8],\n",
       "       [10, 12, 13],\n",
       "       [15, 17, 18]])>"
      ]
     },
     "execution_count": 21,
     "metadata": {},
     "output_type": "execute_result"
    }
   ],
   "source": [
    "tf.gather(b,axis=1,indices=[0,2,3])  #对axis=1的轴进行采样"
   ]
  },
  {
   "cell_type": "markdown",
   "id": "3471ebf4",
   "metadata": {},
   "source": [
    "### 同时采样多个点——gather_nd()函数"
   ]
  },
  {
   "cell_type": "code",
   "execution_count": 22,
   "id": "655b542e",
   "metadata": {},
   "outputs": [
    {
     "data": {
      "text/plain": [
       "<tf.Tensor: shape=(3,), dtype=int32, numpy=array([ 0,  6, 13])>"
      ]
     },
     "execution_count": 22,
     "metadata": {},
     "output_type": "execute_result"
    }
   ],
   "source": [
    "tf.gather_nd(b,[[0,0],[1,1],[2,3]])"
   ]
  },
  {
   "cell_type": "code",
   "execution_count": 23,
   "id": "0d0dbb53",
   "metadata": {},
   "outputs": [
    {
     "data": {
      "text/plain": [
       "<tf.Tensor: shape=(), dtype=int32, numpy=0>"
      ]
     },
     "execution_count": 23,
     "metadata": {},
     "output_type": "execute_result"
    }
   ],
   "source": [
    "b[0,0]"
   ]
  },
  {
   "cell_type": "code",
   "execution_count": 24,
   "id": "ad57f11b",
   "metadata": {},
   "outputs": [
    {
     "data": {
      "text/plain": [
       "<tf.Tensor: shape=(), dtype=int32, numpy=6>"
      ]
     },
     "execution_count": 24,
     "metadata": {},
     "output_type": "execute_result"
    }
   ],
   "source": [
    "b[1,1]"
   ]
  },
  {
   "cell_type": "code",
   "execution_count": 25,
   "id": "06bda1d6",
   "metadata": {},
   "outputs": [
    {
     "data": {
      "text/plain": [
       "<tf.Tensor: shape=(), dtype=int32, numpy=13>"
      ]
     },
     "execution_count": 25,
     "metadata": {},
     "output_type": "execute_result"
    }
   ],
   "source": [
    "b[2,3]"
   ]
  },
  {
   "cell_type": "markdown",
   "id": "f5926234",
   "metadata": {},
   "source": [
    "### 选择采样维度"
   ]
  },
  {
   "cell_type": "markdown",
   "id": "41737366",
   "metadata": {},
   "source": [
    "三维张量——彩色图片lena (512, 512, 3)\n",
    "\n",
    "tf.gather_nd(lena, [[0, 0],[1, 1],[2,3]])\n",
    "\n",
    "     对前两维采样，表示取得这些点所有通道的值\n",
    "\n",
    "三维张量——手写数字数据集MNIST（60000,28,28）\n",
    "\n",
    "tf.gather_nd(mnist, [[0],[2],[3]])\n",
    "\n",
    "     只对第一维采样，表示取到索引值为0,2,3的3张图片"
   ]
  }
 ],
 "metadata": {
  "kernelspec": {
   "display_name": "Python 3",
   "language": "python",
   "name": "python3"
  },
  "language_info": {
   "codemirror_mode": {
    "name": "ipython",
    "version": 3
   },
   "file_extension": ".py",
   "mimetype": "text/x-python",
   "name": "python",
   "nbconvert_exporter": "python",
   "pygments_lexer": "ipython3",
   "version": "3.8.10"
  }
 },
 "nbformat": 4,
 "nbformat_minor": 5
}
