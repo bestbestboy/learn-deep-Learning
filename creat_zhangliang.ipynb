{
 "cells": [
  {
   "cell_type": "markdown",
   "id": "95b0386e",
   "metadata": {},
   "source": [
    "### 安装最新版tensorflow"
   ]
  },
  {
   "cell_type": "raw",
   "id": "6aa96ab4",
   "metadata": {},
   "source": [
    "!pip install --upgrade tensorflow\n",
    "!pip install --upgrade tensorflow-gpu"
   ]
  },
  {
   "cell_type": "markdown",
   "id": "c0988a6f",
   "metadata": {},
   "source": [
    "### 查看tensorflow版本号"
   ]
  },
  {
   "cell_type": "code",
   "execution_count": 1,
   "id": "b521d7ba",
   "metadata": {},
   "outputs": [
    {
     "name": "stdout",
     "output_type": "stream",
     "text": [
      "TensorFlow verson: 2.5.0-rc3\n"
     ]
    }
   ],
   "source": [
    "import tensorflow as tf\n",
    "import numpy as np\n",
    "print(\"TensorFlow verson:\",tf.__version__)"
   ]
  },
  {
   "cell_type": "code",
   "execution_count": 2,
   "id": "91ad9ae7",
   "metadata": {},
   "outputs": [
    {
     "name": "stdout",
     "output_type": "stream",
     "text": [
      "Eager execution is: True\n"
     ]
    }
   ],
   "source": [
    "print(\"Eager execution is:\",tf.executing_eagerly())"
   ]
  },
  {
   "cell_type": "markdown",
   "id": "b32fd365",
   "metadata": {},
   "source": [
    "## 创建张量"
   ]
  },
  {
   "cell_type": "raw",
   "id": "400f225a",
   "metadata": {},
   "source": [
    "tf.constant()函数：创建张量\n",
    "tf.constant(value, dtype, shape)\n",
    "value：数字/Python列表/NumPy数组\n",
    "dtype: 元素的数据类型\n",
    "shape: 张量的形状"
   ]
  },
  {
   "cell_type": "raw",
   "id": "f45e7eed",
   "metadata": {},
   "source": [
    "参数为Python列表"
   ]
  },
  {
   "cell_type": "markdown",
   "id": "f1d23782",
   "metadata": {},
   "source": [
    "### 张量的.numpy()方法"
   ]
  },
  {
   "cell_type": "code",
   "execution_count": 3,
   "id": "fc1b1bc1",
   "metadata": {},
   "outputs": [
    {
     "data": {
      "text/plain": [
       "<tf.Tensor: shape=(2, 2), dtype=int32, numpy=\n",
       "array([[1, 2],\n",
       "       [3, 4]])>"
      ]
     },
     "execution_count": 3,
     "metadata": {},
     "output_type": "execute_result"
    }
   ],
   "source": [
    "tf.constant([[1,2],[3,4]])"
   ]
  },
  {
   "cell_type": "code",
   "execution_count": 4,
   "id": "61bffb88",
   "metadata": {},
   "outputs": [
    {
     "data": {
      "text/plain": [
       "array([[1, 2],\n",
       "       [3, 4]])"
      ]
     },
     "execution_count": 4,
     "metadata": {},
     "output_type": "execute_result"
    }
   ],
   "source": [
    "a=tf.constant([[1,2],[3,4]])\n",
    "a.numpy()"
   ]
  },
  {
   "cell_type": "code",
   "execution_count": 5,
   "id": "6c7995e9",
   "metadata": {},
   "outputs": [
    {
     "data": {
      "text/plain": [
       "tensorflow.python.framework.ops.EagerTensor"
      ]
     },
     "execution_count": 5,
     "metadata": {},
     "output_type": "execute_result"
    }
   ],
   "source": [
    "type(a)"
   ]
  },
  {
   "cell_type": "code",
   "execution_count": 6,
   "id": "c427eee4",
   "metadata": {},
   "outputs": [
    {
     "name": "stdout",
     "output_type": "stream",
     "text": [
      "tf.Tensor(\n",
      "[[1 2]\n",
      " [3 4]], shape=(2, 2), dtype=int32)\n"
     ]
    }
   ],
   "source": [
    "print(a)"
   ]
  },
  {
   "cell_type": "markdown",
   "id": "ab6cf713",
   "metadata": {},
   "source": [
    "### 参数为数字 "
   ]
  },
  {
   "cell_type": "raw",
   "id": "f0cc03f5",
   "metadata": {},
   "source": [
    "  数据类型       描 述 \n",
    "tf.int8      8 位有符号整数 \n",
    "tf.int16     16 位有符号整数 \n",
    "tf.int32     32 位有符号整数 \n",
    "tf.int64     64 位有符号整数 \n",
    "tf.uint8     8 位无符号整数 \n",
    "tf.float32    32 位浮点数 \n",
    "tf.float64    64 位浮点数 \n",
    "tf.string    字符串（非Unicode编码的字节数组） \n",
    "tf.bool     布尔型 \n",
    "tf.complex64  复数，实部和虚部分别为32位浮点型"
   ]
  },
  {
   "cell_type": "code",
   "execution_count": 7,
   "id": "80ad98c5",
   "metadata": {},
   "outputs": [
    {
     "data": {
      "text/plain": [
       "<tf.Tensor: shape=(), dtype=float32, numpy=1.0>"
      ]
     },
     "execution_count": 7,
     "metadata": {},
     "output_type": "execute_result"
    }
   ],
   "source": [
    "tf.constant(1.0)"
   ]
  },
  {
   "cell_type": "code",
   "execution_count": 8,
   "id": "1df03115",
   "metadata": {},
   "outputs": [
    {
     "data": {
      "text/plain": [
       "<tf.Tensor: shape=(), dtype=float32, numpy=1.0>"
      ]
     },
     "execution_count": 8,
     "metadata": {},
     "output_type": "execute_result"
    }
   ],
   "source": [
    "tf.constant(1.)"
   ]
  },
  {
   "cell_type": "code",
   "execution_count": 9,
   "id": "ef7a2aeb",
   "metadata": {},
   "outputs": [
    {
     "data": {
      "text/plain": [
       "<tf.Tensor: shape=(), dtype=float64, numpy=1.0>"
      ]
     },
     "execution_count": 9,
     "metadata": {},
     "output_type": "execute_result"
    }
   ],
   "source": [
    "tf.constant(1.0,dtype=tf.float64)"
   ]
  },
  {
   "cell_type": "markdown",
   "id": "f5a0696e",
   "metadata": {},
   "source": [
    "### 参数为NumPy数组"
   ]
  },
  {
   "cell_type": "code",
   "execution_count": 10,
   "id": "17d07ca9",
   "metadata": {},
   "outputs": [],
   "source": [
    "import numpy as np"
   ]
  },
  {
   "cell_type": "code",
   "execution_count": 11,
   "id": "7bdd52f1",
   "metadata": {},
   "outputs": [
    {
     "data": {
      "text/plain": [
       "<tf.Tensor: shape=(2,), dtype=int32, numpy=array([1, 2])>"
      ]
     },
     "execution_count": 11,
     "metadata": {},
     "output_type": "execute_result"
    }
   ],
   "source": [
    "tf.constant(np.array([1,2]))"
   ]
  },
  {
   "cell_type": "code",
   "execution_count": 12,
   "id": "ebfd3585",
   "metadata": {},
   "outputs": [
    {
     "data": {
      "text/plain": [
       "<tf.Tensor: shape=(2,), dtype=float64, numpy=array([1., 2.])>"
      ]
     },
     "execution_count": 12,
     "metadata": {},
     "output_type": "execute_result"
    }
   ],
   "source": [
    "tf.constant(np.array([1.0,2.0]))"
   ]
  },
  {
   "cell_type": "code",
   "execution_count": 13,
   "id": "b593fb9b",
   "metadata": {},
   "outputs": [
    {
     "data": {
      "text/plain": [
       "<tf.Tensor: shape=(2,), dtype=float32, numpy=array([1., 2.], dtype=float32)>"
      ]
     },
     "execution_count": 13,
     "metadata": {},
     "output_type": "execute_result"
    }
   ],
   "source": [
    "tf.constant(np.array([1.0,2.0]),dtype=tf.float32)"
   ]
  },
  {
   "cell_type": "markdown",
   "id": "afef17a8",
   "metadata": {},
   "source": [
    "### 改变数据类型"
   ]
  },
  {
   "cell_type": "raw",
   "id": "8bb320f9",
   "metadata": {},
   "source": [
    "tf.cast()函数：改变张量中元素的数据类型\n",
    "tf.cast(x,dtype)"
   ]
  },
  {
   "cell_type": "code",
   "execution_count": 14,
   "id": "afb9f85d",
   "metadata": {},
   "outputs": [
    {
     "data": {
      "text/plain": [
       "tf.float32"
      ]
     },
     "execution_count": 14,
     "metadata": {},
     "output_type": "execute_result"
    }
   ],
   "source": [
    "a=tf.constant(np.array([1,2]))\n",
    "b=tf.cast(a,dtype=tf.float32)\n",
    "b.dtype"
   ]
  },
  {
   "cell_type": "code",
   "execution_count": 15,
   "id": "3bdad2eb",
   "metadata": {},
   "outputs": [
    {
     "data": {
      "text/plain": [
       "<tf.Tensor: shape=(), dtype=int16, numpy=-13035>"
      ]
     },
     "execution_count": 15,
     "metadata": {},
     "output_type": "execute_result"
    }
   ],
   "source": [
    "a=tf.constant(123456789,dtype=tf.int32)\n",
    "tf.cast(a,tf.int16)"
   ]
  },
  {
   "cell_type": "code",
   "execution_count": 16,
   "id": "8cec03d0",
   "metadata": {},
   "outputs": [
    {
     "data": {
      "text/plain": [
       "<tf.Tensor: shape=(), dtype=bool, numpy=True>"
      ]
     },
     "execution_count": 16,
     "metadata": {},
     "output_type": "execute_result"
    }
   ],
   "source": [
    "tf.constant(True)"
   ]
  },
  {
   "cell_type": "code",
   "execution_count": 17,
   "id": "f91127c1",
   "metadata": {},
   "outputs": [
    {
     "data": {
      "text/plain": [
       "<tf.Tensor: shape=(2,), dtype=int32, numpy=array([1, 0])>"
      ]
     },
     "execution_count": 17,
     "metadata": {},
     "output_type": "execute_result"
    }
   ],
   "source": [
    "a=tf.constant([True,False])\n",
    "tf.cast(a,tf.int32)"
   ]
  },
  {
   "cell_type": "code",
   "execution_count": 18,
   "id": "886d702e",
   "metadata": {},
   "outputs": [
    {
     "data": {
      "text/plain": [
       "<tf.Tensor: shape=(4,), dtype=bool, numpy=array([ True, False,  True,  True])>"
      ]
     },
     "execution_count": 18,
     "metadata": {},
     "output_type": "execute_result"
    }
   ],
   "source": [
    "a=tf.constant([-1,0,1,2])\n",
    "tf.cast(a,tf.bool)"
   ]
  },
  {
   "cell_type": "markdown",
   "id": "e61f0c7f",
   "metadata": {},
   "source": [
    "### 参数为字符串"
   ]
  },
  {
   "cell_type": "code",
   "execution_count": 19,
   "id": "03aa0350",
   "metadata": {},
   "outputs": [
    {
     "data": {
      "text/plain": [
       "<tf.Tensor: shape=(), dtype=string, numpy=b'hello'>"
      ]
     },
     "execution_count": 19,
     "metadata": {},
     "output_type": "execute_result"
    }
   ],
   "source": [
    "tf.constant(\"hello\")"
   ]
  },
  {
   "cell_type": "markdown",
   "id": "89e9f89a",
   "metadata": {},
   "source": [
    "### tf.convert_to_tensor()函数"
   ]
  },
  {
   "cell_type": "raw",
   "id": "1b8b530b",
   "metadata": {},
   "source": [
    "tf.convert_to_tensor( 数组/列表/数字/布尔型/字符串)\n",
    "其他类型转为张量"
   ]
  },
  {
   "cell_type": "code",
   "execution_count": 20,
   "id": "420a0d6e",
   "metadata": {},
   "outputs": [],
   "source": [
    "na=np.arange(12).reshape(3,4)\n",
    "ta=tf.convert_to_tensor(na)"
   ]
  },
  {
   "cell_type": "code",
   "execution_count": 21,
   "id": "5385cda4",
   "metadata": {},
   "outputs": [
    {
     "data": {
      "text/plain": [
       "numpy.ndarray"
      ]
     },
     "execution_count": 21,
     "metadata": {},
     "output_type": "execute_result"
    }
   ],
   "source": [
    "type(na)"
   ]
  },
  {
   "cell_type": "code",
   "execution_count": 22,
   "id": "4f75ecc9",
   "metadata": {},
   "outputs": [
    {
     "data": {
      "text/plain": [
       "tensorflow.python.framework.ops.EagerTensor"
      ]
     },
     "execution_count": 22,
     "metadata": {},
     "output_type": "execute_result"
    }
   ],
   "source": [
    "type(ta)"
   ]
  },
  {
   "cell_type": "markdown",
   "id": "c035693c",
   "metadata": {},
   "source": [
    "### is_tensor()函数"
   ]
  },
  {
   "cell_type": "code",
   "execution_count": 23,
   "id": "f453d1db",
   "metadata": {},
   "outputs": [
    {
     "data": {
      "text/plain": [
       "True"
      ]
     },
     "execution_count": 23,
     "metadata": {},
     "output_type": "execute_result"
    }
   ],
   "source": [
    "tf.is_tensor(ta)"
   ]
  },
  {
   "cell_type": "code",
   "execution_count": 24,
   "id": "0cbf08fb",
   "metadata": {},
   "outputs": [
    {
     "data": {
      "text/plain": [
       "False"
      ]
     },
     "execution_count": 24,
     "metadata": {},
     "output_type": "execute_result"
    }
   ],
   "source": [
    "tf.is_tensor(na)"
   ]
  },
  {
   "cell_type": "markdown",
   "id": "a22175b9",
   "metadata": {},
   "source": [
    "### isinstance()函数"
   ]
  },
  {
   "cell_type": "code",
   "execution_count": 25,
   "id": "ecf779e7",
   "metadata": {},
   "outputs": [
    {
     "data": {
      "text/plain": [
       "True"
      ]
     },
     "execution_count": 25,
     "metadata": {},
     "output_type": "execute_result"
    }
   ],
   "source": [
    "isinstance(ta,tf.Tensor)"
   ]
  },
  {
   "cell_type": "code",
   "execution_count": 26,
   "id": "83a5a6e5",
   "metadata": {},
   "outputs": [
    {
     "data": {
      "text/plain": [
       "True"
      ]
     },
     "execution_count": 26,
     "metadata": {},
     "output_type": "execute_result"
    }
   ],
   "source": [
    "isinstance(na,np.ndarray)"
   ]
  },
  {
   "cell_type": "markdown",
   "id": "7590cd7a",
   "metadata": {},
   "source": [
    "### 创建全0张量和全1张量"
   ]
  },
  {
   "cell_type": "raw",
   "id": "1e270711",
   "metadata": {},
   "source": [
    "tf.zeros( shape, dtype = tf.float32 )\n",
    "tf.ones( shape, dtype= tf.float32 )"
   ]
  },
  {
   "cell_type": "code",
   "execution_count": 27,
   "id": "5739346a",
   "metadata": {},
   "outputs": [
    {
     "data": {
      "text/plain": [
       "<tf.Tensor: shape=(2, 1), dtype=float32, numpy=\n",
       "array([[1.],\n",
       "       [1.]], dtype=float32)>"
      ]
     },
     "execution_count": 27,
     "metadata": {},
     "output_type": "execute_result"
    }
   ],
   "source": [
    "tf.ones(shape=(2,1))"
   ]
  },
  {
   "cell_type": "code",
   "execution_count": 28,
   "id": "2e95d568",
   "metadata": {},
   "outputs": [
    {
     "data": {
      "text/plain": [
       "<tf.Tensor: shape=(6,), dtype=float32, numpy=array([1., 1., 1., 1., 1., 1.], dtype=float32)>"
      ]
     },
     "execution_count": 28,
     "metadata": {},
     "output_type": "execute_result"
    }
   ],
   "source": [
    "tf.ones([6])"
   ]
  },
  {
   "cell_type": "code",
   "execution_count": 29,
   "id": "f14be703",
   "metadata": {},
   "outputs": [
    {
     "data": {
      "text/plain": [
       "<tf.Tensor: shape=(2, 3), dtype=int32, numpy=\n",
       "array([[1, 1, 1],\n",
       "       [1, 1, 1]])>"
      ]
     },
     "execution_count": 29,
     "metadata": {},
     "output_type": "execute_result"
    }
   ],
   "source": [
    "tf.ones([2,3],tf.int32)"
   ]
  },
  {
   "cell_type": "markdown",
   "id": "4c0140cb",
   "metadata": {},
   "source": [
    "### 创建元素之都相同的张量"
   ]
  },
  {
   "cell_type": "markdown",
   "id": "6a90e4e4",
   "metadata": {},
   "source": [
    "tf.fill( dims, value )\n",
    "fill()函数没有dtype参数，根据value参数自动判断数据类"
   ]
  },
  {
   "cell_type": "code",
   "execution_count": 30,
   "id": "81b5ff5c",
   "metadata": {},
   "outputs": [
    {
     "data": {
      "text/plain": [
       "<tf.Tensor: shape=(2, 3), dtype=int32, numpy=\n",
       "array([[9, 9, 9],\n",
       "       [9, 9, 9]])>"
      ]
     },
     "execution_count": 30,
     "metadata": {},
     "output_type": "execute_result"
    }
   ],
   "source": [
    "tf.fill([2,3],9)"
   ]
  },
  {
   "cell_type": "code",
   "execution_count": 31,
   "id": "ff8e1b07",
   "metadata": {},
   "outputs": [
    {
     "data": {
      "text/plain": [
       "<tf.Tensor: shape=(2, 3), dtype=float32, numpy=\n",
       "array([[9., 9., 9.],\n",
       "       [9., 9., 9.]], dtype=float32)>"
      ]
     },
     "execution_count": 31,
     "metadata": {},
     "output_type": "execute_result"
    }
   ],
   "source": [
    "tf.fill([2,3],9.0)"
   ]
  },
  {
   "cell_type": "code",
   "execution_count": 32,
   "id": "14ffeee3",
   "metadata": {},
   "outputs": [
    {
     "data": {
      "text/plain": [
       "<tf.Tensor: shape=(2, 3), dtype=int32, numpy=\n",
       "array([[9, 9, 9],\n",
       "       [9, 9, 9]])>"
      ]
     },
     "execution_count": 32,
     "metadata": {},
     "output_type": "execute_result"
    }
   ],
   "source": [
    "tf.constant(9,shape=[2,3])"
   ]
  },
  {
   "cell_type": "code",
   "execution_count": 33,
   "id": "e859dc23",
   "metadata": {},
   "outputs": [
    {
     "data": {
      "text/plain": [
       "<tf.Tensor: shape=(2, 3), dtype=int32, numpy=\n",
       "array([[9, 9, 9],\n",
       "       [9, 9, 9]])>"
      ]
     },
     "execution_count": 33,
     "metadata": {},
     "output_type": "execute_result"
    }
   ],
   "source": [
    "tf.fill(dims=[2,3],value=9)"
   ]
  },
  {
   "cell_type": "code",
   "execution_count": 34,
   "id": "fd095ff4",
   "metadata": {},
   "outputs": [
    {
     "data": {
      "text/plain": [
       "<tf.Tensor: shape=(2, 3), dtype=int32, numpy=\n",
       "array([[9, 9, 9],\n",
       "       [9, 9, 9]])>"
      ]
     },
     "execution_count": 34,
     "metadata": {},
     "output_type": "execute_result"
    }
   ],
   "source": [
    "tf.constant(value=9,shape=[2,3])"
   ]
  },
  {
   "cell_type": "markdown",
   "id": "f23b26a7",
   "metadata": {},
   "source": [
    "### 创建随机数张量——正态分布"
   ]
  },
  {
   "cell_type": "raw",
   "id": "ef522b3f",
   "metadata": {},
   "source": [
    "tf.random.normal( shape, mean, stddev, dtype )\n",
    "(形状，均值默认0，标准差，数据类型默认32浮点数)"
   ]
  },
  {
   "cell_type": "code",
   "execution_count": 35,
   "id": "7d443722",
   "metadata": {},
   "outputs": [
    {
     "data": {
      "text/plain": [
       "<tf.Tensor: shape=(2, 2), dtype=float32, numpy=\n",
       "array([[-0.22331865, -0.3542728 ],\n",
       "       [ 0.80913   , -0.45724005]], dtype=float32)>"
      ]
     },
     "execution_count": 35,
     "metadata": {},
     "output_type": "execute_result"
    }
   ],
   "source": [
    "tf.random.normal([2,2])"
   ]
  },
  {
   "cell_type": "raw",
   "id": "43875acc",
   "metadata": {},
   "source": [
    "三维张量，服从正态分布"
   ]
  },
  {
   "cell_type": "code",
   "execution_count": 36,
   "id": "4f9d2353",
   "metadata": {},
   "outputs": [
    {
     "data": {
      "text/plain": [
       "<tf.Tensor: shape=(3, 3, 3), dtype=float32, numpy=\n",
       "array([[[-2.1830432 ,  0.44035733,  2.2306368 ],\n",
       "        [ 0.91174185, -2.6969721 ,  0.8440948 ],\n",
       "        [-1.7800547 , -0.7813911 ,  2.8567414 ]],\n",
       "\n",
       "       [[-0.6180981 , -2.9935277 , -2.4493046 ],\n",
       "        [ 3.2967162 ,  3.283345  ,  0.4214928 ],\n",
       "        [-1.1976746 ,  2.0155494 , -3.2665079 ]],\n",
       "\n",
       "       [[ 1.6705142 , -1.2300117 , -2.2832327 ],\n",
       "        [ 1.4307058 ,  2.1201544 ,  1.7290045 ],\n",
       "        [ 2.562097  , -1.5794144 , -0.45793834]]], dtype=float32)>"
      ]
     },
     "execution_count": 36,
     "metadata": {},
     "output_type": "execute_result"
    }
   ],
   "source": [
    "tf.random.normal([3,3,3],mean=0.0,stddev=2.0)"
   ]
  },
  {
   "cell_type": "raw",
   "id": "32dba264",
   "metadata": {},
   "source": [
    "截断正态分布\n",
    "tf.random.truncated_normal( shape, mean, stddev, dtype )\n",
    "返回一个截断的正态分布\n",
    "截断的标准是2倍的标准差\n",
    "例如，当均值为0，标准差为1时，\n",
    "使用tf.truncated_normal()，不可能出现区间[-2,2]以外的点\n",
    "使用tf.random_normal()，可能出现[-2,2]以外的点"
   ]
  },
  {
   "cell_type": "code",
   "execution_count": 37,
   "id": "39dc3211",
   "metadata": {},
   "outputs": [
    {
     "data": {
      "text/plain": [
       "<tf.Tensor: shape=(3, 3, 3), dtype=float32, numpy=\n",
       "array([[[-1.5680887 , -1.522795  , -0.02963714],\n",
       "        [ 0.9576182 ,  1.4606217 , -0.38567647],\n",
       "        [-0.52940416, -2.2038312 , -1.6500967 ]],\n",
       "\n",
       "       [[ 2.842066  ,  0.83692276,  1.2031388 ],\n",
       "        [-2.2976875 , -1.4100516 ,  2.386148  ],\n",
       "        [-1.9514604 , -0.5934799 ,  0.9254127 ]],\n",
       "\n",
       "       [[-0.0677485 ,  1.0746552 ,  0.99043375],\n",
       "        [-0.22348183, -0.2051413 , -2.298032  ],\n",
       "        [ 1.3262212 ,  0.27267146,  0.55521995]]], dtype=float32)>"
      ]
     },
     "execution_count": 37,
     "metadata": {},
     "output_type": "execute_result"
    }
   ],
   "source": [
    "tf.random.truncated_normal([3,3,3],mean=0.0,stddev=2.0)"
   ]
  },
  {
   "cell_type": "markdown",
   "id": "7cbd0a7f",
   "metadata": {},
   "source": [
    "### 创建随机种子"
   ]
  },
  {
   "cell_type": "code",
   "execution_count": 39,
   "id": "971f9261",
   "metadata": {},
   "outputs": [
    {
     "data": {
      "text/plain": [
       "<tf.Tensor: shape=(2, 2), dtype=float32, numpy=\n",
       "array([[ 1.2074401, -0.7452462],\n",
       "       [ 0.6908678, -0.7635988]], dtype=float32)>"
      ]
     },
     "execution_count": 39,
     "metadata": {},
     "output_type": "execute_result"
    }
   ],
   "source": [
    "tf.random.set_seed(8)\n",
    "tf.random.normal([2,2])"
   ]
  },
  {
   "cell_type": "markdown",
   "id": "938908dd",
   "metadata": {},
   "source": [
    "### 创建均匀分布张量"
   ]
  },
  {
   "cell_type": "raw",
   "id": "10e80bcd",
   "metadata": {},
   "source": [
    "tf.random.uniform(shape,minval, maxval, dtype)"
   ]
  },
  {
   "cell_type": "code",
   "execution_count": 41,
   "id": "f6c7ae40",
   "metadata": {},
   "outputs": [
    {
     "data": {
      "text/plain": [
       "<tf.Tensor: shape=(3, 3), dtype=int32, numpy=\n",
       "array([[6, 8, 3],\n",
       "       [9, 5, 1],\n",
       "       [8, 6, 1]])>"
      ]
     },
     "execution_count": 41,
     "metadata": {},
     "output_type": "execute_result"
    }
   ],
   "source": [
    "tf.random.uniform(shape=(3,3),minval=0,maxval=10,dtype='int32')"
   ]
  },
  {
   "cell_type": "markdown",
   "id": "dcf3e6ec",
   "metadata": {},
   "source": [
    "### 随机打乱函数"
   ]
  },
  {
   "cell_type": "code",
   "execution_count": 43,
   "id": "4b1c2dc8",
   "metadata": {},
   "outputs": [
    {
     "data": {
      "text/plain": [
       "<tf.Tensor: shape=(3, 2), dtype=int32, numpy=\n",
       "array([[1, 2],\n",
       "       [5, 6],\n",
       "       [3, 4]])>"
      ]
     },
     "execution_count": 43,
     "metadata": {},
     "output_type": "execute_result"
    }
   ],
   "source": [
    "x=tf.constant([[1,2],[3,4],[5,6]])\n",
    "tf.random.shuffle(x)"
   ]
  },
  {
   "cell_type": "code",
   "execution_count": 45,
   "id": "9bf6b6ac",
   "metadata": {},
   "outputs": [
    {
     "data": {
      "text/plain": [
       "<tf.Tensor: shape=(6,), dtype=int32, numpy=array([1, 5, 4, 2, 3, 6])>"
      ]
     },
     "execution_count": 45,
     "metadata": {},
     "output_type": "execute_result"
    }
   ],
   "source": [
    "y=[1,2,3,4,5,6]\n",
    "tf.random.shuffle(y)"
   ]
  },
  {
   "cell_type": "code",
   "execution_count": 46,
   "id": "ef0b202b",
   "metadata": {},
   "outputs": [
    {
     "data": {
      "text/plain": [
       "<tf.Tensor: shape=(5,), dtype=int32, numpy=array([3, 1, 2, 4, 0])>"
      ]
     },
     "execution_count": 46,
     "metadata": {},
     "output_type": "execute_result"
    }
   ],
   "source": [
    "z=np.arange(5)\n",
    "tf.random.shuffle(z)"
   ]
  },
  {
   "cell_type": "markdown",
   "id": "16ae3b7d",
   "metadata": {
    "collapsed": true
   },
   "source": [
    "### 创建序列——tf.range()函数"
   ]
  },
  {
   "cell_type": "code",
   "execution_count": 47,
   "id": "446cb95d",
   "metadata": {},
   "outputs": [
    {
     "data": {
      "text/plain": [
       "<tf.Tensor: shape=(10,), dtype=int32, numpy=array([0, 1, 2, 3, 4, 5, 6, 7, 8, 9])>"
      ]
     },
     "execution_count": 47,
     "metadata": {},
     "output_type": "execute_result"
    }
   ],
   "source": [
    "tf.range(10)"
   ]
  },
  {
   "cell_type": "code",
   "execution_count": 48,
   "id": "e2ca8c1f",
   "metadata": {},
   "outputs": [
    {
     "data": {
      "text/plain": [
       "<tf.Tensor: shape=(5,), dtype=int32, numpy=array([0, 2, 4, 6, 8])>"
      ]
     },
     "execution_count": 48,
     "metadata": {},
     "output_type": "execute_result"
    }
   ],
   "source": [
    "tf.range(10,delta=2)"
   ]
  },
  {
   "cell_type": "code",
   "execution_count": 50,
   "id": "032af732",
   "metadata": {},
   "outputs": [
    {
     "data": {
      "text/plain": [
       "<tf.Tensor: shape=(5,), dtype=int32, numpy=array([1, 3, 5, 7, 9])>"
      ]
     },
     "execution_count": 50,
     "metadata": {},
     "output_type": "execute_result"
    }
   ],
   "source": [
    "tf.range(1,10,delta=2)"
   ]
  },
  {
   "cell_type": "markdown",
   "id": "be0ec65c",
   "metadata": {},
   "source": [
    "### 获取Tensor对象的形状、元素总数和维度"
   ]
  },
  {
   "cell_type": "code",
   "execution_count": 58,
   "id": "c0d1dd43",
   "metadata": {},
   "outputs": [
    {
     "data": {
      "text/plain": [
       "<tf.Tensor: shape=(2, 2), dtype=int32, numpy=\n",
       "array([[1, 2],\n",
       "       [3, 4]])>"
      ]
     },
     "execution_count": 58,
     "metadata": {},
     "output_type": "execute_result"
    }
   ],
   "source": [
    "tf.constant([[1,2],[3,4]])"
   ]
  },
  {
   "cell_type": "code",
   "execution_count": 59,
   "id": "ea2a4450",
   "metadata": {},
   "outputs": [
    {
     "name": "stdout",
     "output_type": "stream",
     "text": [
      "ndim: 2\n",
      "dtype: <dtype: 'int32'>\n",
      "shape: (2, 2)\n"
     ]
    }
   ],
   "source": [
    "a=tf.constant([[1,2],[3,4]])\n",
    "print('ndim:',a.ndim)\n",
    "print('dtype:',a.dtype)\n",
    "print('shape:',a.shape)"
   ]
  },
  {
   "cell_type": "code",
   "execution_count": 60,
   "id": "bcb527a9",
   "metadata": {},
   "outputs": [
    {
     "data": {
      "text/plain": [
       "<tf.Tensor: shape=(2,), dtype=int32, numpy=array([2, 2])>"
      ]
     },
     "execution_count": 60,
     "metadata": {},
     "output_type": "execute_result"
    }
   ],
   "source": [
    "tf.shape(a)"
   ]
  },
  {
   "cell_type": "code",
   "execution_count": 61,
   "id": "2a5bc4fc",
   "metadata": {},
   "outputs": [
    {
     "data": {
      "text/plain": [
       "<tf.Tensor: shape=(), dtype=int32, numpy=4>"
      ]
     },
     "execution_count": 61,
     "metadata": {},
     "output_type": "execute_result"
    }
   ],
   "source": [
    "tf.size(a)"
   ]
  },
  {
   "cell_type": "code",
   "execution_count": 62,
   "id": "d9d8aa4e",
   "metadata": {},
   "outputs": [
    {
     "data": {
      "text/plain": [
       "<tf.Tensor: shape=(), dtype=int32, numpy=2>"
      ]
     },
     "execution_count": 62,
     "metadata": {},
     "output_type": "execute_result"
    }
   ],
   "source": [
    "tf.rank(a)"
   ]
  },
  {
   "cell_type": "markdown",
   "id": "d2712bc3",
   "metadata": {},
   "source": [
    "# 小结"
   ]
  },
  {
   "cell_type": "raw",
   "id": "c6c57128",
   "metadata": {},
   "source": [
    "类 型 函 数 功 能\n",
    "常量\n",
    "tf.constant(value, dtype, shape) 创建张量\n",
    "tf.convert_to_tensor() 创建张量\n",
    "tf.zeros(shape, dtype = tf.float32) 创建全0张量\n",
    "tf.ones(shape, dtype = tf.float32) 创建全1张量\n",
    "tf.fill(shape, value) 创建元素值全部相同的张量\n",
    "随机量\n",
    "tf.random.normal() 创建元素取值符合正态分布的张量\n",
    "tf.random.truncated_normal( shape, mean, stddev, dtype ) 创建元素取值符合截断正态分布的张量\n",
    "tf.random.uniform(shape,minval,maxval, dtype) 创建元素取值符合均匀分布的张量\n",
    "序列 tf.range(起始数字,结束数字,步长) 创建元素取值为整数序列的张量"
   ]
  }
 ],
 "metadata": {
  "celltoolbar": "无",
  "kernelspec": {
   "display_name": "Python 3",
   "language": "python",
   "name": "python3"
  },
  "language_info": {
   "codemirror_mode": {
    "name": "ipython",
    "version": 3
   },
   "file_extension": ".py",
   "mimetype": "text/x-python",
   "name": "python",
   "nbconvert_exporter": "python",
   "pygments_lexer": "ipython3",
   "version": "3.8.10"
  }
 },
 "nbformat": 4,
 "nbformat_minor": 5
}
