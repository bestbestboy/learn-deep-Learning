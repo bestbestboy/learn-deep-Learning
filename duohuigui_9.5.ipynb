{
 "cells": [
  {
   "cell_type": "markdown",
   "id": "ac6960f4",
   "metadata": {},
   "source": [
    "# 解析法多元线性回归"
   ]
  },
  {
   "cell_type": "markdown",
   "id": "1cbbe062",
   "metadata": {},
   "source": [
    "### 加载样本数据"
   ]
  },
  {
   "cell_type": "code",
   "execution_count": 1,
   "id": "d5a685b9",
   "metadata": {},
   "outputs": [],
   "source": [
    "import numpy as np"
   ]
  },
  {
   "cell_type": "code",
   "execution_count": 4,
   "id": "98bea0f8",
   "metadata": {},
   "outputs": [],
   "source": [
    "x1=np.array([137.97,104.50,100.00,124.32,79.20,99.00,124.00,114.00,106.69,138.05,53.75,46.91,68.00,63.02,81.26,86.21])\n",
    "x2=np.array([3,2,2,3,1,2,3,2,2,3,1,1,1,1,2,2])\n",
    "y=np.array([145.00,110.00,93.00,116.00,65.32,104.00,118.00,91.00,62.00,133.00,51.00,45.00,78.50,69.65,75.69,95.30])\n"
   ]
  },
  {
   "cell_type": "code",
   "execution_count": 5,
   "id": "0dc35aef",
   "metadata": {},
   "outputs": [
    {
     "data": {
      "text/plain": [
       "((16,), (16,), (16,))"
      ]
     },
     "execution_count": 5,
     "metadata": {},
     "output_type": "execute_result"
    }
   ],
   "source": [
    "x1.shape,x2.shape,y.shape"
   ]
  },
  {
   "cell_type": "markdown",
   "id": "c439f7a5",
   "metadata": {},
   "source": [
    "### 数据处理"
   ]
  },
  {
   "cell_type": "code",
   "execution_count": 6,
   "id": "cbe99856",
   "metadata": {},
   "outputs": [],
   "source": [
    "x0=np.ones(len(x1))"
   ]
  },
  {
   "cell_type": "code",
   "execution_count": 7,
   "id": "ff2c0d74",
   "metadata": {},
   "outputs": [
    {
     "data": {
      "text/plain": [
       "array([[  1.  , 137.97,   3.  ],\n",
       "       [  1.  , 104.5 ,   2.  ],\n",
       "       [  1.  , 100.  ,   2.  ],\n",
       "       [  1.  , 124.32,   3.  ],\n",
       "       [  1.  ,  79.2 ,   1.  ],\n",
       "       [  1.  ,  99.  ,   2.  ],\n",
       "       [  1.  , 124.  ,   3.  ],\n",
       "       [  1.  , 114.  ,   2.  ],\n",
       "       [  1.  , 106.69,   2.  ],\n",
       "       [  1.  , 138.05,   3.  ],\n",
       "       [  1.  ,  53.75,   1.  ],\n",
       "       [  1.  ,  46.91,   1.  ],\n",
       "       [  1.  ,  68.  ,   1.  ],\n",
       "       [  1.  ,  63.02,   1.  ],\n",
       "       [  1.  ,  81.26,   2.  ],\n",
       "       [  1.  ,  86.21,   2.  ]])"
      ]
     },
     "execution_count": 7,
     "metadata": {},
     "output_type": "execute_result"
    }
   ],
   "source": [
    "X=np.stack((x0,x1,x2),axis=1)\n",
    "X"
   ]
  },
  {
   "cell_type": "code",
   "execution_count": 8,
   "id": "376fb721",
   "metadata": {},
   "outputs": [
    {
     "data": {
      "text/plain": [
       "array([[145.  ],\n",
       "       [110.  ],\n",
       "       [ 93.  ],\n",
       "       [116.  ],\n",
       "       [ 65.32],\n",
       "       [104.  ],\n",
       "       [118.  ],\n",
       "       [ 91.  ],\n",
       "       [ 62.  ],\n",
       "       [133.  ],\n",
       "       [ 51.  ],\n",
       "       [ 45.  ],\n",
       "       [ 78.5 ],\n",
       "       [ 69.65],\n",
       "       [ 75.69],\n",
       "       [ 95.3 ]])"
      ]
     },
     "execution_count": 8,
     "metadata": {},
     "output_type": "execute_result"
    }
   ],
   "source": [
    "Y=np.array(y).reshape(-1,1)\n",
    "Y"
   ]
  },
  {
   "cell_type": "markdown",
   "id": "76f1641a",
   "metadata": {},
   "source": [
    "### 求解模型参数"
   ]
  },
  {
   "cell_type": "code",
   "execution_count": 9,
   "id": "d7836c62",
   "metadata": {},
   "outputs": [],
   "source": [
    "Xt=np.transpose(X) #计算X矩阵转置\n",
    "XtX_1=np.linalg.inv(np.matmul(Xt,X))#计算矩阵的逆\n",
    "XtX_1Xt=np.matmul(XtX_1,Xt)#矩阵相乘\n",
    "W=np.matmul(XtX_1Xt,Y)#矩阵相乘"
   ]
  },
  {
   "cell_type": "code",
   "execution_count": 10,
   "id": "cb922d95",
   "metadata": {},
   "outputs": [
    {
     "data": {
      "text/plain": [
       "array([[11.96729093],\n",
       "       [ 0.53488599],\n",
       "       [14.33150378]])"
      ]
     },
     "execution_count": 10,
     "metadata": {},
     "output_type": "execute_result"
    }
   ],
   "source": [
    "W"
   ]
  },
  {
   "cell_type": "code",
   "execution_count": 12,
   "id": "d313992f",
   "metadata": {},
   "outputs": [
    {
     "data": {
      "text/plain": [
       "array([11.96729093,  0.53488599, 14.33150378])"
      ]
     },
     "execution_count": 12,
     "metadata": {},
     "output_type": "execute_result"
    }
   ],
   "source": [
    "W=W.reshape(-1)\n",
    "W"
   ]
  },
  {
   "cell_type": "code",
   "execution_count": 13,
   "id": "c0f600ea",
   "metadata": {},
   "outputs": [
    {
     "name": "stdout",
     "output_type": "stream",
     "text": [
      "多元线性回归方程\n",
      "Y= 0.5348859949724712 *x1+ 14.331503777673714 *x2+ 11.96729093053445\n"
     ]
    }
   ],
   "source": [
    "print(\"多元线性回归方程\")\n",
    "print(\"Y=\",W[1],\"*x1+\",W[2],\"*x2+\",W[0])"
   ]
  },
  {
   "cell_type": "markdown",
   "id": "cce5f1d4",
   "metadata": {},
   "source": [
    "### 预测房价"
   ]
  },
  {
   "cell_type": "code",
   "execution_count": 16,
   "id": "7a177e02",
   "metadata": {},
   "outputs": [
    {
     "name": "stdout",
     "output_type": "stream",
     "text": [
      "请输入房屋面积和房间数，预测房屋销售价格\n",
      "商品房面积：200.00\n",
      "房间数：5\n",
      "预测价格： 190.6 万元\n"
     ]
    }
   ],
   "source": [
    "print(\"请输入房屋面积和房间数，预测房屋销售价格\")\n",
    "x1_test=float(input(\"商品房面积：\"))\n",
    "x2_test=int(input(\"房间数：\"))\n",
    "\n",
    "y_pred=W[1]*x1_test+W[2]*x2_test+W[0]\n",
    "print(\"预测价格：\",round(y_pred,2),\"万元\")"
   ]
  },
  {
   "cell_type": "code",
   "execution_count": null,
   "id": "d4d4855e",
   "metadata": {},
   "outputs": [],
   "source": []
  }
 ],
 "metadata": {
  "kernelspec": {
   "display_name": "Python 3",
   "language": "python",
   "name": "python3"
  },
  "language_info": {
   "codemirror_mode": {
    "name": "ipython",
    "version": 3
   },
   "file_extension": ".py",
   "mimetype": "text/x-python",
   "name": "python",
   "nbconvert_exporter": "python",
   "pygments_lexer": "ipython3",
   "version": "3.8.10"
  }
 },
 "nbformat": 4,
 "nbformat_minor": 5
}
