{
 "cells": [
  {
   "cell_type": "markdown",
   "id": "f00d2a5c",
   "metadata": {},
   "source": [
    "# 实例：实现一元逻辑回归"
   ]
  },
  {
   "cell_type": "markdown",
   "id": "9e8676fd",
   "metadata": {},
   "source": [
    "### sigmoid()函数"
   ]
  },
  {
   "cell_type": "code",
   "execution_count": 1,
   "id": "2c6afcb7",
   "metadata": {},
   "outputs": [
    {
     "name": "stdout",
     "output_type": "stream",
     "text": [
      "TensorFlow version: 2.5.0-rc3\n"
     ]
    }
   ],
   "source": [
    "import tensorflow as tf\n",
    "print(\"TensorFlow version:\",tf.__version__)"
   ]
  },
  {
   "cell_type": "code",
   "execution_count": 2,
   "id": "587096ad",
   "metadata": {},
   "outputs": [],
   "source": [
    "import numpy as np"
   ]
  },
  {
   "cell_type": "code",
   "execution_count": 3,
   "id": "13a8a79d",
   "metadata": {},
   "outputs": [],
   "source": [
    "x=np.array([1.,2.,3.,4.])"
   ]
  },
  {
   "cell_type": "code",
   "execution_count": 4,
   "id": "f2866dfe",
   "metadata": {},
   "outputs": [],
   "source": [
    "w=tf.Variable(1.)\n",
    "b=tf.Variable(1.)"
   ]
  },
  {
   "cell_type": "code",
   "execution_count": 5,
   "id": "b50e11af",
   "metadata": {},
   "outputs": [
    {
     "data": {
      "text/plain": [
       "<tf.Tensor: shape=(4,), dtype=float32, numpy=array([0.880797  , 0.95257413, 0.98201376, 0.9933072 ], dtype=float32)>"
      ]
     },
     "execution_count": 5,
     "metadata": {},
     "output_type": "execute_result"
    }
   ],
   "source": [
    "1/(1+tf.exp(-(w*x+b)))"
   ]
  },
  {
   "cell_type": "markdown",
   "id": "527a1971",
   "metadata": {},
   "source": [
    "### 交叉熵损失函数"
   ]
  },
  {
   "cell_type": "code",
   "execution_count": 6,
   "id": "f643dedc",
   "metadata": {},
   "outputs": [],
   "source": [
    "y=np.array([0,0,1,1])\n",
    "pred=np.array([0.1,0.2,0.8,0.49])"
   ]
  },
  {
   "cell_type": "code",
   "execution_count": 7,
   "id": "64c97719",
   "metadata": {},
   "outputs": [
    {
     "data": {
      "text/plain": [
       "array([1, 1, 0, 0])"
      ]
     },
     "execution_count": 7,
     "metadata": {},
     "output_type": "execute_result"
    }
   ],
   "source": [
    "1-y"
   ]
  },
  {
   "cell_type": "code",
   "execution_count": 8,
   "id": "a98d7447",
   "metadata": {},
   "outputs": [
    {
     "data": {
      "text/plain": [
       "array([0.9 , 0.8 , 0.2 , 0.51])"
      ]
     },
     "execution_count": 8,
     "metadata": {},
     "output_type": "execute_result"
    }
   ],
   "source": [
    "1-pred"
   ]
  },
  {
   "cell_type": "code",
   "execution_count": 9,
   "id": "89d4492a",
   "metadata": {},
   "outputs": [
    {
     "data": {
      "text/plain": [
       "<tf.Tensor: shape=(), dtype=float64, numpy=1.2649975061637104>"
      ]
     },
     "execution_count": 9,
     "metadata": {},
     "output_type": "execute_result"
    }
   ],
   "source": [
    "-tf.reduce_sum(y*tf.math.log(pred)+(1-y)*tf.math.log(1-pred))"
   ]
  },
  {
   "cell_type": "code",
   "execution_count": 10,
   "id": "c2b8cb9d",
   "metadata": {},
   "outputs": [
    {
     "data": {
      "text/plain": [
       "<tf.Tensor: shape=(), dtype=float64, numpy=0.3162493765409276>"
      ]
     },
     "execution_count": 10,
     "metadata": {},
     "output_type": "execute_result"
    }
   ],
   "source": [
    "-tf.reduce_mean(y*tf.math.log(pred)+(1-y)*tf.math.log(1-pred))"
   ]
  },
  {
   "cell_type": "markdown",
   "id": "e1161576",
   "metadata": {},
   "source": [
    "### 准确率"
   ]
  },
  {
   "cell_type": "code",
   "execution_count": 11,
   "id": "2a1a8326",
   "metadata": {},
   "outputs": [],
   "source": [
    "y=np.array([0,0,1,1])\n",
    "pred=np.array([0.1,0.2,0.8,0.49])"
   ]
  },
  {
   "cell_type": "code",
   "execution_count": 12,
   "id": "286c338a",
   "metadata": {},
   "outputs": [
    {
     "data": {
      "text/plain": [
       "<tf.Tensor: shape=(4,), dtype=float64, numpy=array([0., 0., 1., 0.])>"
      ]
     },
     "execution_count": 12,
     "metadata": {},
     "output_type": "execute_result"
    }
   ],
   "source": [
    "tf.round(pred)#四舍五入函数"
   ]
  },
  {
   "cell_type": "code",
   "execution_count": 13,
   "id": "2b1920bc",
   "metadata": {},
   "outputs": [
    {
     "data": {
      "text/plain": [
       "<tf.Tensor: shape=(4,), dtype=bool, numpy=array([ True,  True,  True, False])>"
      ]
     },
     "execution_count": 13,
     "metadata": {},
     "output_type": "execute_result"
    }
   ],
   "source": [
    "tf.equal(tf.round(pred),y)#逐个比较预测值和标签值"
   ]
  },
  {
   "cell_type": "code",
   "execution_count": 14,
   "id": "1f2ae202",
   "metadata": {},
   "outputs": [
    {
     "data": {
      "text/plain": [
       "<tf.Tensor: shape=(4,), dtype=int8, numpy=array([1, 1, 1, 0], dtype=int8)>"
      ]
     },
     "execution_count": 14,
     "metadata": {},
     "output_type": "execute_result"
    }
   ],
   "source": [
    "tf.cast(tf.equal(tf.round(pred),y),tf.int8)#改变数据类型"
   ]
  },
  {
   "cell_type": "code",
   "execution_count": 15,
   "id": "108943de",
   "metadata": {},
   "outputs": [
    {
     "data": {
      "text/plain": [
       "<tf.Tensor: shape=(), dtype=float32, numpy=0.75>"
      ]
     },
     "execution_count": 15,
     "metadata": {},
     "output_type": "execute_result"
    }
   ],
   "source": [
    "tf.reduce_mean(tf.cast(tf.equal(tf.round(pred),y),tf.float32))\n",
    "#对所有元素求平均值"
   ]
  },
  {
   "cell_type": "code",
   "execution_count": 16,
   "id": "c6735b67",
   "metadata": {},
   "outputs": [
    {
     "data": {
      "text/plain": [
       "<tf.Tensor: shape=(), dtype=float32, numpy=0.0>"
      ]
     },
     "execution_count": 16,
     "metadata": {},
     "output_type": "execute_result"
    }
   ],
   "source": [
    "tf.round(0.5)#参数值为0.5返回0"
   ]
  },
  {
   "cell_type": "code",
   "execution_count": 17,
   "id": "29782924",
   "metadata": {},
   "outputs": [
    {
     "data": {
      "text/plain": [
       "<tf.Tensor: shape=(), dtype=float32, numpy=1.0>"
      ]
     },
     "execution_count": 17,
     "metadata": {},
     "output_type": "execute_result"
    }
   ],
   "source": [
    "tf.round(0.5000001)#参数值大于0.5，返回1"
   ]
  },
  {
   "cell_type": "markdown",
   "id": "d7527a3a",
   "metadata": {},
   "source": [
    "### where ( condition, a, b ）"
   ]
  },
  {
   "cell_type": "code",
   "execution_count": 18,
   "id": "68a34282",
   "metadata": {},
   "outputs": [],
   "source": [
    "pred=np.array([0.1,0.2,0.8,0.49])"
   ]
  },
  {
   "cell_type": "code",
   "execution_count": 19,
   "id": "504e1898",
   "metadata": {},
   "outputs": [
    {
     "data": {
      "text/plain": [
       "<tf.Tensor: shape=(4,), dtype=int32, numpy=array([0, 0, 1, 0])>"
      ]
     },
     "execution_count": 19,
     "metadata": {},
     "output_type": "execute_result"
    }
   ],
   "source": [
    "tf.where(pred<0.5,0,1)"
   ]
  },
  {
   "cell_type": "code",
   "execution_count": 20,
   "id": "44eb853f",
   "metadata": {},
   "outputs": [
    {
     "data": {
      "text/plain": [
       "array([ True,  True, False,  True])"
      ]
     },
     "execution_count": 20,
     "metadata": {},
     "output_type": "execute_result"
    }
   ],
   "source": [
    "pred<0.5"
   ]
  },
  {
   "cell_type": "code",
   "execution_count": 21,
   "id": "ffc64cf4",
   "metadata": {},
   "outputs": [
    {
     "data": {
      "text/plain": [
       "<tf.Tensor: shape=(4,), dtype=int32, numpy=array([0, 0, 1, 1])>"
      ]
     },
     "execution_count": 21,
     "metadata": {},
     "output_type": "execute_result"
    }
   ],
   "source": [
    "tf.where(pred<0.4,0,1)"
   ]
  },
  {
   "cell_type": "code",
   "execution_count": 22,
   "id": "8374ee83",
   "metadata": {},
   "outputs": [],
   "source": [
    "pred=np.array([0.1,0.2,0.8,0.49])\n",
    "a=np.array([1,2,3,4])\n",
    "b=np.array([10,20,30,40])"
   ]
  },
  {
   "cell_type": "code",
   "execution_count": 23,
   "id": "41b5be57",
   "metadata": {},
   "outputs": [
    {
     "data": {
      "text/plain": [
       "<tf.Tensor: shape=(4,), dtype=int32, numpy=array([ 1,  2, 30,  4])>"
      ]
     },
     "execution_count": 23,
     "metadata": {},
     "output_type": "execute_result"
    }
   ],
   "source": [
    "tf.where(pred<0.5,a,b)"
   ]
  },
  {
   "cell_type": "code",
   "execution_count": 24,
   "id": "3834e984",
   "metadata": {},
   "outputs": [
    {
     "data": {
      "text/plain": [
       "<tf.Tensor: shape=(1, 1), dtype=int64, numpy=array([[2]], dtype=int64)>"
      ]
     },
     "execution_count": 24,
     "metadata": {},
     "output_type": "execute_result"
    }
   ],
   "source": [
    "tf.where(pred>=0.5)#参数大于等于0.5的索引"
   ]
  },
  {
   "cell_type": "code",
   "execution_count": 25,
   "id": "ba54739f",
   "metadata": {},
   "outputs": [],
   "source": [
    "y=np.array([0,0,1,1])\n",
    "pred=np.array([0.1,0.2,0.8,0.49])"
   ]
  },
  {
   "cell_type": "code",
   "execution_count": 26,
   "id": "84bde376",
   "metadata": {},
   "outputs": [
    {
     "data": {
      "text/plain": [
       "<tf.Tensor: shape=(), dtype=float32, numpy=0.75>"
      ]
     },
     "execution_count": 26,
     "metadata": {},
     "output_type": "execute_result"
    }
   ],
   "source": [
    "tf.reduce_mean(tf.cast(tf.equal(tf.where(pred<0.5,0,1),y),tf.float32))"
   ]
  },
  {
   "cell_type": "markdown",
   "id": "279cb676",
   "metadata": {},
   "source": [
    "## 房屋销售记录"
   ]
  },
  {
   "cell_type": "markdown",
   "id": "da15d6a4",
   "metadata": {},
   "source": [
    "### 加载数据"
   ]
  },
  {
   "cell_type": "code",
   "execution_count": 27,
   "id": "4b7bb483",
   "metadata": {},
   "outputs": [
    {
     "name": "stdout",
     "output_type": "stream",
     "text": [
      "TensorFlow version: 2.5.0-rc3\n"
     ]
    }
   ],
   "source": [
    "import tensorflow as tf\n",
    "print(\"TensorFlow version:\",tf.__version__)"
   ]
  },
  {
   "cell_type": "code",
   "execution_count": 28,
   "id": "ba70cfa3",
   "metadata": {},
   "outputs": [],
   "source": [
    "import numpy as np\n",
    "import matplotlib.pyplot as plt"
   ]
  },
  {
   "cell_type": "code",
   "execution_count": 29,
   "id": "6423916d",
   "metadata": {},
   "outputs": [],
   "source": [
    "x=np.array([137.97,104.50,100.00,126.32,79.20,99.00,124.00,114.00,\n",
    "            106.69,140.05,53.75,46.91,68.00,63.02,81.26,86.21])\n",
    "y=np.array([1,1,0,1,0,1,1,0,0,1,0,0,0,0,0,0])"
   ]
  },
  {
   "cell_type": "code",
   "execution_count": 30,
   "id": "c1b300be",
   "metadata": {},
   "outputs": [
    {
     "data": {
      "text/plain": [
       "<matplotlib.collections.PathCollection at 0x275580066a0>"
      ]
     },
     "execution_count": 30,
     "metadata": {},
     "output_type": "execute_result"
    },
    {
     "data": {
      "image/png": "[encoded data removed]",
      "text/plain": [
       "<Figure size 432x288 with 1 Axes>"
      ]
     },
     "metadata": {
      "needs_background": "light"
     },
     "output_type": "display_data"
    }
   ],
   "source": [
    "plt.scatter(x,y)"
   ]
  },
  {
   "cell_type": "markdown",
   "id": "8a33152d",
   "metadata": {},
   "source": [
    "### 数据处理"
   ]
  },
  {
   "cell_type": "code",
   "execution_count": 31,
   "id": "5e6f4803",
   "metadata": {},
   "outputs": [],
   "source": [
    "x_train=x-np.mean(x)\n",
    "y_train=y"
   ]
  },
  {
   "cell_type": "code",
   "execution_count": 32,
   "id": "a97e4a58",
   "metadata": {},
   "outputs": [
    {
     "data": {
      "text/plain": [
       "<matplotlib.collections.PathCollection at 0x2765b22ac10>"
      ]
     },
     "execution_count": 32,
     "metadata": {},
     "output_type": "execute_result"
    },
    {
     "data": {
      "image/png": "[encoded data removed]",
      "text/plain": [
       "<Figure size 432x288 with 1 Axes>"
      ]
     },
     "metadata": {
      "needs_background": "light"
     },
     "output_type": "display_data"
    }
   ],
   "source": [
    "plt.scatter(x_train,y_train)"
   ]
  },
  {
   "cell_type": "markdown",
   "id": "3021acde",
   "metadata": {},
   "source": [
    "### 设置超参数"
   ]
  },
  {
   "cell_type": "code",
   "execution_count": 33,
   "id": "8abbf350",
   "metadata": {},
   "outputs": [],
   "source": [
    "learn_rate=0.005\n",
    "iter=5\n",
    "display_step=1"
   ]
  },
  {
   "cell_type": "code",
   "execution_count": 34,
   "id": "013b8521",
   "metadata": {},
   "outputs": [],
   "source": [
    "np.random.seed(612)\n",
    "w=tf.Variable(np.random.randn())\n",
    "b=tf.Variable(np.random.randn())"
   ]
  },
  {
   "cell_type": "markdown",
   "id": "6142c19a",
   "metadata": {},
   "source": [
    "### 训练模型"
   ]
  },
  {
   "cell_type": "code",
   "execution_count": 38,
   "id": "aa7cb840",
   "metadata": {},
   "outputs": [
    {
     "name": "stdout",
     "output_type": "stream",
     "text": [
      "i:0,Train Loss:0.306770,Accuracy:0.812500\n",
      "i:1,Train Loss:0.305152,Accuracy:0.812500\n",
      "i:2,Train Loss:0.304122,Accuracy:0.812500\n",
      "i:3,Train Loss:0.303447,Accuracy:0.812500\n",
      "i:4,Train Loss:0.302995,Accuracy:0.812500\n",
      "i:5,Train Loss:0.302688,Accuracy:0.812500\n"
     ]
    }
   ],
   "source": [
    "cross_train=[]#存放训练集的交叉熵损失\n",
    "acc_train=[]#存放训练集的分类准确率\n",
    "\n",
    "for i in range(0,iter+1):\n",
    "    \n",
    "    with tf.GradientTape() as tape:\n",
    "        pred_train=1/(1+tf.exp(-(w*x_train+b)))#计算sigmoid函数\n",
    "        Loss_train=-tf.reduce_mean(y_train*tf.math.log(pred_train)\n",
    "                                   +(1-y_train)*tf.math.log(1-pred_train))\n",
    "        Accuracy_train=tf.reduce_mean(tf.cast(tf.equal(tf.where(\n",
    "                                    pred_train<0.5,0,1),y_train),tf.float32))\n",
    "        \n",
    "    cross_train.append(Loss_train)\n",
    "    acc_train.append(Accuracy_train)\n",
    "    \n",
    "    dL_dw,dL_db=tape.gradient(Loss_train,[w,b])\n",
    "    \n",
    "    w.assign_sub(learn_rate*dL_dw)\n",
    "    b.assign_sub(learn_rate*dL_db)\n",
    "    \n",
    "    if i % display_step==0:\n",
    "        print(\"i:%i,Train Loss:%f,Accuracy:%f\"%(i,Loss_train,Accuracy_train))"
   ]
  },
  {
   "cell_type": "markdown",
   "id": "b240c37c",
   "metadata": {},
   "source": [
    "### 使用初始权值时的sigmoid函数"
   ]
  },
  {
   "cell_type": "code",
   "execution_count": 41,
   "id": "79de8c2f",
   "metadata": {},
   "outputs": [],
   "source": [
    "np.random.seed(612)\n",
    "w=tf.Variable(np.random.randn())\n",
    "b=tf.Variable(np.random.randn())"
   ]
  },
  {
   "cell_type": "code",
   "execution_count": 42,
   "id": "1c20a76d",
   "metadata": {},
   "outputs": [
    {
     "data": {
      "text/plain": [
       "[<matplotlib.lines.Line2D at 0x2765b43e130>]"
      ]
     },
     "execution_count": 42,
     "metadata": {},
     "output_type": "execute_result"
    },
    {
     "data": {
      "image/png": "[encoded data removed]",
      "text/plain": [
       "<Figure size 432x288 with 1 Axes>"
      ]
     },
     "metadata": {
      "needs_background": "light"
     },
     "output_type": "display_data"
    }
   ],
   "source": [
    "x_=range(-80,80)\n",
    "y_=1/(1+tf.exp(-(w*x_+b)))\n",
    "plt.plot(x_,y_)"
   ]
  },
  {
   "cell_type": "markdown",
   "id": "16ba55a9",
   "metadata": {},
   "source": [
    "### 可视化"
   ]
  },
  {
   "cell_type": "code",
   "execution_count": 43,
   "id": "151f210e",
   "metadata": {},
   "outputs": [
    {
     "name": "stdout",
     "output_type": "stream",
     "text": [
      "i:0,Train Loss:0.852807,Accuarcy:0.625000\n",
      "i:1,Train Loss:0.400259,Accuarcy:0.875000\n",
      "i:2,Train Loss:0.341504,Accuarcy:0.812500\n",
      "i:3,Train Loss:0.322571,Accuarcy:0.812500\n",
      "i:4,Train Loss:0.313972,Accuarcy:0.812500\n",
      "i:5,Train Loss:0.309411,Accuarcy:0.812500\n"
     ]
    },
    {
     "data": {
      "image/png": "[encoded data removed]",
      "text/plain": [
       "<Figure size 432x288 with 1 Axes>"
      ]
     },
     "metadata": {
      "needs_background": "light"
     },
     "output_type": "display_data"
    }
   ],
   "source": [
    "plt.scatter(x_train,y_train)\n",
    "plt.plot(x_,y_,color=\"red\",linewidth=3)\n",
    "\n",
    "cross_train=[]\n",
    "acc_train=[]\n",
    "\n",
    "for i in range(0,iter+1):\n",
    "    with tf.GradientTape() as tape:\n",
    "        pred_train=1/(1+tf.exp(-(w*x_train+b)))\n",
    "        Loss_train=-tf.reduce_mean(y_train*tf.math.log(pred_train)+(1-y_train)*tf.math.log(1-pred_train))\n",
    "        Accuracy_train=tf.reduce_mean(tf.cast(tf.equal(tf.where(pred_train<0.5,0,1),y_train),tf.float32))\n",
    "        \n",
    "    cross_train.append(Loss_train)\n",
    "    acc_train.append(Accuracy_train)\n",
    "    \n",
    "    dL_dw,dL_db=tape.gradient(Loss_train,[w,b])\n",
    "    \n",
    "    w.assign_sub(learn_rate*dL_dw)\n",
    "    b.assign_sub(learn_rate*dL_db)\n",
    "    \n",
    "    if i % display_step==0:\n",
    "        print(\"i:%i,Train Loss:%f,Accuarcy:%f\"%(i,Loss_train,Accuracy_train))\n",
    "        y_=1/(1+tf.exp(-(w*x_+b)))\n",
    "        plt.plot(x_,y_)"
   ]
  },
  {
   "cell_type": "code",
   "execution_count": 44,
   "id": "0c9a9300",
   "metadata": {},
   "outputs": [],
   "source": [
    "x_test=[128.15,45.00,141.43,106.27,99.00,53.84,85.36,70.00,162.00,114.60]"
   ]
  },
  {
   "cell_type": "code",
   "execution_count": 45,
   "id": "ad3b2158",
   "metadata": {},
   "outputs": [],
   "source": [
    "pred_test=1/(1+tf.exp(-(w*(x_test-np.mean(x))+b)))"
   ]
  },
  {
   "cell_type": "code",
   "execution_count": 46,
   "id": "1559c800",
   "metadata": {},
   "outputs": [
    {
     "name": "stdout",
     "output_type": "stream",
     "text": [
      "128.15 \t 0.8610252 \t 1 \t\n",
      "45.0 \t 0.0029561974 \t 0 \t\n",
      "141.43 \t 0.9545566 \t 1 \t\n",
      "106.27 \t 0.45318928 \t 0 \t\n",
      "99.0 \t 0.2981362 \t 0 \t\n",
      "53.84 \t 0.00663888 \t 0 \t\n",
      "85.36 \t 0.108105935 \t 0 \t\n",
      "70.0 \t 0.028681064 \t 0 \t\n",
      "162.0 \t 0.9928677 \t 1 \t\n",
      "114.6 \t 0.6406205 \t 1 \t\n"
     ]
    }
   ],
   "source": [
    "y_test=tf.where(pred_test<0.5,0,1)\n",
    "for i in range (len(x_test)):\n",
    "    print(x_test[i],\"\\t\",pred_test[i].numpy(),\"\\t\",y_test[i].numpy(),\"\\t\")"
   ]
  },
  {
   "cell_type": "code",
   "execution_count": 48,
   "id": "7dcc2d86",
   "metadata": {
    "scrolled": true
   },
   "outputs": [
    {
     "data": {
      "image/png": "[encoded data removed]",
      "text/plain": [
       "<Figure size 432x288 with 1 Axes>"
      ]
     },
     "metadata": {
      "needs_background": "light"
     },
     "output_type": "display_data"
    }
   ],
   "source": [
    "plt.scatter(x_test,y_test)\n",
    "\n",
    "x_=np.array(range(-80,80))\n",
    "y_=1/(1+tf.exp(-(w*x_+b)))\n",
    "plt.plot(x_+np.mean(x),y_)\n",
    "plt.show()"
   ]
  },
  {
   "cell_type": "code",
   "execution_count": null,
   "id": "e3293b07",
   "metadata": {},
   "outputs": [],
   "source": []
  }
 ],
 "metadata": {
  "kernelspec": {
   "display_name": "Python 3",
   "language": "python",
   "name": "python3"
  },
  "language_info": {
   "codemirror_mode": {
    "name": "ipython",
    "version": 3
   },
   "file_extension": ".py",
   "mimetype": "text/x-python",
   "name": "python",
   "nbconvert_exporter": "python",
   "pygments_lexer": "ipython3",
   "version": "3.8.10"
  }
 },
 "nbformat": 4,
 "nbformat_minor": 5
}
