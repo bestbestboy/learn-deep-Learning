{
 "cells": [
  {
   "cell_type": "markdown",
   "id": "e5e7188f",
   "metadata": {},
   "source": [
    "# TensorFlow自动求导机制"
   ]
  },
  {
   "cell_type": "markdown",
   "id": "4561ac90",
   "metadata": {},
   "source": [
    " TensorFlow的自动求导机制\n",
    "\n",
    " Variable对象\n",
    " \n",
    " 对Tensor对象的进一步封装\n",
    "\n",
    "在模型训练过程中自动记录梯度信息，由算法自动优化\n",
    "\n",
    "可以被训练的变量\n",
    "\n",
    "在机器学习中作为模型参数\n",
    "\n",
    "tf.Variable(initial_value,dtype)\n",
    "\n",
    "Variable可以是数字、Python列表、nd_array对象、Tensor对象\n"
   ]
  },
  {
   "cell_type": "markdown",
   "id": "035bf480",
   "metadata": {},
   "source": [
    "### 创建可训练变量"
   ]
  },
  {
   "cell_type": "code",
   "execution_count": 1,
   "id": "babe97b0",
   "metadata": {},
   "outputs": [
    {
     "name": "stdout",
     "output_type": "stream",
     "text": [
      "TensorFlow version: 2.5.0-rc3\n"
     ]
    }
   ],
   "source": [
    "import tensorflow as tf\n",
    "print(\"TensorFlow version:\",tf.__version__)"
   ]
  },
  {
   "cell_type": "code",
   "execution_count": 2,
   "id": "e2e62375",
   "metadata": {},
   "outputs": [],
   "source": [
    "import numpy as np"
   ]
  },
  {
   "cell_type": "code",
   "execution_count": 3,
   "id": "38c1c4de",
   "metadata": {},
   "outputs": [
    {
     "data": {
      "text/plain": [
       "<tf.Variable 'Variable:0' shape=() dtype=int32, numpy=3>"
      ]
     },
     "execution_count": 3,
     "metadata": {},
     "output_type": "execute_result"
    }
   ],
   "source": [
    "tf.Variable(3)#Variable初始值为3"
   ]
  },
  {
   "cell_type": "code",
   "execution_count": 4,
   "id": "c1032a16",
   "metadata": {},
   "outputs": [
    {
     "data": {
      "text/plain": [
       "<tf.Variable 'Variable:0' shape=(2,) dtype=int32, numpy=array([1, 2])>"
      ]
     },
     "execution_count": 4,
     "metadata": {},
     "output_type": "execute_result"
    }
   ],
   "source": [
    "tf.Variable([1,2])#Variable初始值为[1,2]"
   ]
  },
  {
   "cell_type": "code",
   "execution_count": 5,
   "id": "1757c2da",
   "metadata": {},
   "outputs": [
    {
     "data": {
      "text/plain": [
       "<tf.Variable 'Variable:0' shape=(2,) dtype=int32, numpy=array([1, 2])>"
      ]
     },
     "execution_count": 5,
     "metadata": {},
     "output_type": "execute_result"
    }
   ],
   "source": [
    "tf.Variable(np.array([1,2]))"
   ]
  },
  {
   "cell_type": "code",
   "execution_count": 6,
   "id": "ccb83878",
   "metadata": {},
   "outputs": [
    {
     "data": {
      "text/plain": [
       "<tf.Variable 'Variable:0' shape=() dtype=float32, numpy=3.0>"
      ]
     },
     "execution_count": 6,
     "metadata": {},
     "output_type": "execute_result"
    }
   ],
   "source": [
    "tf.Variable(3.)"
   ]
  },
  {
   "cell_type": "code",
   "execution_count": 7,
   "id": "67ba3e7c",
   "metadata": {},
   "outputs": [
    {
     "data": {
      "text/plain": [
       "<tf.Variable 'Variable:0' shape=(2,) dtype=float64, numpy=array([1., 2.])>"
      ]
     },
     "execution_count": 7,
     "metadata": {},
     "output_type": "execute_result"
    }
   ],
   "source": [
    "tf.Variable([1,2],dtype=tf.float64)"
   ]
  },
  {
   "cell_type": "markdown",
   "id": "22271d99",
   "metadata": {},
   "source": [
    "### 将张量封装为可训练变量"
   ]
  },
  {
   "cell_type": "code",
   "execution_count": 8,
   "id": "98f6dd48",
   "metadata": {},
   "outputs": [
    {
     "data": {
      "text/plain": [
       "<tf.Variable 'Variable:0' shape=(2, 2) dtype=int32, numpy=\n",
       "array([[1, 2],\n",
       "       [3, 4]])>"
      ]
     },
     "execution_count": 8,
     "metadata": {},
     "output_type": "execute_result"
    }
   ],
   "source": [
    "tf.Variable(tf.constant([[1,2],[3,4]]))"
   ]
  },
  {
   "cell_type": "code",
   "execution_count": 9,
   "id": "416aac7b",
   "metadata": {},
   "outputs": [
    {
     "data": {
      "text/plain": [
       "<tf.Variable 'Variable:0' shape=(2, 3) dtype=float32, numpy=\n",
       "array([[0., 0., 0.],\n",
       "       [0., 0., 0.]], dtype=float32)>"
      ]
     },
     "execution_count": 9,
     "metadata": {},
     "output_type": "execute_result"
    }
   ],
   "source": [
    "tf.Variable(tf.zeros([2,3]))"
   ]
  },
  {
   "cell_type": "code",
   "execution_count": 10,
   "id": "dbda151d",
   "metadata": {},
   "outputs": [
    {
     "data": {
      "text/plain": [
       "<tf.Variable 'Variable:0' shape=(2, 2) dtype=float32, numpy=\n",
       "array([[-0.80655473, -0.10838908],\n",
       "       [-0.03100266,  1.8767376 ]], dtype=float32)>"
      ]
     },
     "execution_count": 10,
     "metadata": {},
     "output_type": "execute_result"
    }
   ],
   "source": [
    "tf.Variable(tf.random.normal([2,2]))"
   ]
  },
  {
   "cell_type": "code",
   "execution_count": 11,
   "id": "72d41533",
   "metadata": {},
   "outputs": [],
   "source": [
    "x=tf.Variable([1,2])"
   ]
  },
  {
   "cell_type": "code",
   "execution_count": 12,
   "id": "94b6bd30",
   "metadata": {},
   "outputs": [
    {
     "data": {
      "text/plain": [
       "<tf.Variable 'Variable:0' shape=(2,) dtype=int32, numpy=array([1, 2])>"
      ]
     },
     "execution_count": 12,
     "metadata": {},
     "output_type": "execute_result"
    }
   ],
   "source": [
    "x"
   ]
  },
  {
   "cell_type": "code",
   "execution_count": 13,
   "id": "389b95a9",
   "metadata": {},
   "outputs": [
    {
     "name": "stdout",
     "output_type": "stream",
     "text": [
      "(2,) <dtype: 'int32'>\n"
     ]
    }
   ],
   "source": [
    "print(x.shape,x.dtype)"
   ]
  },
  {
   "cell_type": "code",
   "execution_count": 14,
   "id": "85e6160b",
   "metadata": {},
   "outputs": [
    {
     "name": "stdout",
     "output_type": "stream",
     "text": [
      "[1 2]\n"
     ]
    }
   ],
   "source": [
    "print(x.numpy())"
   ]
  },
  {
   "cell_type": "code",
   "execution_count": 15,
   "id": "454b8315",
   "metadata": {},
   "outputs": [
    {
     "data": {
      "text/plain": [
       "True"
      ]
     },
     "execution_count": 15,
     "metadata": {},
     "output_type": "execute_result"
    }
   ],
   "source": [
    "x.trainable"
   ]
  },
  {
   "cell_type": "code",
   "execution_count": 16,
   "id": "87827a85",
   "metadata": {},
   "outputs": [
    {
     "data": {
      "text/plain": [
       "tensorflow.python.ops.resource_variable_ops.ResourceVariable"
      ]
     },
     "execution_count": 16,
     "metadata": {},
     "output_type": "execute_result"
    }
   ],
   "source": [
    "type(x)"
   ]
  },
  {
   "cell_type": "markdown",
   "id": "5c1838d5",
   "metadata": {},
   "source": [
    "### 可训练变量赋值"
   ]
  },
  {
   "cell_type": "code",
   "execution_count": 17,
   "id": "8cec8753",
   "metadata": {},
   "outputs": [],
   "source": [
    "x=tf.Variable([1,2])"
   ]
  },
  {
   "cell_type": "code",
   "execution_count": 18,
   "id": "c500b82a",
   "metadata": {},
   "outputs": [
    {
     "data": {
      "text/plain": [
       "<tf.Variable 'UnreadVariable' shape=(2,) dtype=int32, numpy=array([3, 4])>"
      ]
     },
     "execution_count": 18,
     "metadata": {},
     "output_type": "execute_result"
    }
   ],
   "source": [
    "x.assign([3,4])"
   ]
  },
  {
   "cell_type": "code",
   "execution_count": 19,
   "id": "5a446ec5",
   "metadata": {},
   "outputs": [
    {
     "data": {
      "text/plain": [
       "<tf.Variable 'UnreadVariable' shape=(2,) dtype=int32, numpy=array([4, 5])>"
      ]
     },
     "execution_count": 19,
     "metadata": {},
     "output_type": "execute_result"
    }
   ],
   "source": [
    "x.assign_add([1,1])"
   ]
  },
  {
   "cell_type": "code",
   "execution_count": 20,
   "id": "a63b47f3",
   "metadata": {},
   "outputs": [
    {
     "data": {
      "text/plain": [
       "<tf.Variable 'UnreadVariable' shape=(2,) dtype=int32, numpy=array([5, 6])>"
      ]
     },
     "execution_count": 20,
     "metadata": {},
     "output_type": "execute_result"
    }
   ],
   "source": [
    "x.assign_add([1,1])"
   ]
  },
  {
   "cell_type": "code",
   "execution_count": 21,
   "id": "0132694a",
   "metadata": {},
   "outputs": [],
   "source": [
    "a=tf.constant(2)"
   ]
  },
  {
   "cell_type": "code",
   "execution_count": 22,
   "id": "070f00a0",
   "metadata": {},
   "outputs": [
    {
     "ename": "AttributeError",
     "evalue": "'tensorflow.python.framework.ops.EagerTensor' object has no attribute 'assign'",
     "output_type": "error",
     "traceback": [
      "\u001b[1;31m---------------------------------------------------------------------------\u001b[0m",
      "\u001b[1;31mAttributeError\u001b[0m                            Traceback (most recent call last)",
      "\u001b[1;32m<ipython-input-22-22a29cba3fee>\u001b[0m in \u001b[0;36m<module>\u001b[1;34m\u001b[0m\n\u001b[1;32m----> 1\u001b[1;33m \u001b[0ma\u001b[0m\u001b[1;33m.\u001b[0m\u001b[0massign\u001b[0m\u001b[1;33m(\u001b[0m\u001b[1;36m3\u001b[0m\u001b[1;33m)\u001b[0m\u001b[1;33m\u001b[0m\u001b[1;33m\u001b[0m\u001b[0m\n\u001b[0m",
      "\u001b[1;32mF:\\Anaconda3\\envs\\tensorflow25\\lib\\site-packages\\tensorflow\\python\\framework\\ops.py\u001b[0m in \u001b[0;36m__getattr__\u001b[1;34m(self, name)\u001b[0m\n\u001b[0;32m    399\u001b[0m         \u001b[1;32mimport\u001b[0m \u001b[0mtensorflow\u001b[0m\u001b[1;33m.\u001b[0m\u001b[0mpython\u001b[0m\u001b[1;33m.\u001b[0m\u001b[0mops\u001b[0m\u001b[1;33m.\u001b[0m\u001b[0mnumpy_ops\u001b[0m\u001b[1;33m.\u001b[0m\u001b[0mnp_config\u001b[0m\u001b[1;33m\u001b[0m\u001b[1;33m\u001b[0m\u001b[0m\n\u001b[0;32m    400\u001b[0m         np_config.enable_numpy_behavior()\"\"\".format(type(self).__name__, name))\n\u001b[1;32m--> 401\u001b[1;33m     \u001b[0mself\u001b[0m\u001b[1;33m.\u001b[0m\u001b[0m__getattribute__\u001b[0m\u001b[1;33m(\u001b[0m\u001b[0mname\u001b[0m\u001b[1;33m)\u001b[0m\u001b[1;33m\u001b[0m\u001b[1;33m\u001b[0m\u001b[0m\n\u001b[0m\u001b[0;32m    402\u001b[0m \u001b[1;33m\u001b[0m\u001b[0m\n\u001b[0;32m    403\u001b[0m   \u001b[1;33m@\u001b[0m\u001b[0mstaticmethod\u001b[0m\u001b[1;33m\u001b[0m\u001b[1;33m\u001b[0m\u001b[0m\n",
      "\u001b[1;31mAttributeError\u001b[0m: 'tensorflow.python.framework.ops.EagerTensor' object has no attribute 'assign'"
     ]
    }
   ],
   "source": [
    "#a.assign(3)"
   ]
  },
  {
   "cell_type": "code",
   "execution_count": 23,
   "id": "e16da09e",
   "metadata": {},
   "outputs": [
    {
     "ename": "AttributeError",
     "evalue": "'tensorflow.python.framework.ops.EagerTensor' object has no attribute 'trainable'",
     "output_type": "error",
     "traceback": [
      "\u001b[1;31m---------------------------------------------------------------------------\u001b[0m",
      "\u001b[1;31mAttributeError\u001b[0m                            Traceback (most recent call last)",
      "\u001b[1;32m<ipython-input-23-d74019e38028>\u001b[0m in \u001b[0;36m<module>\u001b[1;34m\u001b[0m\n\u001b[1;32m----> 1\u001b[1;33m \u001b[0ma\u001b[0m\u001b[1;33m.\u001b[0m\u001b[0mtrainable\u001b[0m\u001b[1;33m\u001b[0m\u001b[1;33m\u001b[0m\u001b[0m\n\u001b[0m",
      "\u001b[1;32mF:\\Anaconda3\\envs\\tensorflow25\\lib\\site-packages\\tensorflow\\python\\framework\\ops.py\u001b[0m in \u001b[0;36m__getattr__\u001b[1;34m(self, name)\u001b[0m\n\u001b[0;32m    399\u001b[0m         \u001b[1;32mimport\u001b[0m \u001b[0mtensorflow\u001b[0m\u001b[1;33m.\u001b[0m\u001b[0mpython\u001b[0m\u001b[1;33m.\u001b[0m\u001b[0mops\u001b[0m\u001b[1;33m.\u001b[0m\u001b[0mnumpy_ops\u001b[0m\u001b[1;33m.\u001b[0m\u001b[0mnp_config\u001b[0m\u001b[1;33m\u001b[0m\u001b[1;33m\u001b[0m\u001b[0m\n\u001b[0;32m    400\u001b[0m         np_config.enable_numpy_behavior()\"\"\".format(type(self).__name__, name))\n\u001b[1;32m--> 401\u001b[1;33m     \u001b[0mself\u001b[0m\u001b[1;33m.\u001b[0m\u001b[0m__getattribute__\u001b[0m\u001b[1;33m(\u001b[0m\u001b[0mname\u001b[0m\u001b[1;33m)\u001b[0m\u001b[1;33m\u001b[0m\u001b[1;33m\u001b[0m\u001b[0m\n\u001b[0m\u001b[0;32m    402\u001b[0m \u001b[1;33m\u001b[0m\u001b[0m\n\u001b[0;32m    403\u001b[0m   \u001b[1;33m@\u001b[0m\u001b[0mstaticmethod\u001b[0m\u001b[1;33m\u001b[0m\u001b[1;33m\u001b[0m\u001b[0m\n",
      "\u001b[1;31mAttributeError\u001b[0m: 'tensorflow.python.framework.ops.EagerTensor' object has no attribute 'trainable'"
     ]
    }
   ],
   "source": [
    "#a.trainable"
   ]
  },
  {
   "cell_type": "code",
   "execution_count": 24,
   "id": "f890b515",
   "metadata": {},
   "outputs": [],
   "source": [
    "a=tf.range(5)"
   ]
  },
  {
   "cell_type": "code",
   "execution_count": 25,
   "id": "c8127db1",
   "metadata": {},
   "outputs": [],
   "source": [
    "x=tf.Variable(a)"
   ]
  },
  {
   "cell_type": "code",
   "execution_count": 26,
   "id": "59c958d3",
   "metadata": {},
   "outputs": [
    {
     "data": {
      "text/plain": [
       "(True, False)"
      ]
     },
     "execution_count": 26,
     "metadata": {},
     "output_type": "execute_result"
    }
   ],
   "source": [
    "isinstance(a,tf.Tensor),isinstance(a,tf.Variable)"
   ]
  },
  {
   "cell_type": "code",
   "execution_count": 27,
   "id": "ef28ac18",
   "metadata": {},
   "outputs": [
    {
     "data": {
      "text/plain": [
       "(False, True)"
      ]
     },
     "execution_count": 27,
     "metadata": {},
     "output_type": "execute_result"
    }
   ],
   "source": [
    "isinstance(x,tf.Tensor),isinstance(x,tf.Variable)"
   ]
  },
  {
   "cell_type": "markdown",
   "id": "f6ba87f0",
   "metadata": {},
   "source": [
    "### 自动求导——GradientTape"
   ]
  },
  {
   "cell_type": "markdown",
   "id": "6055f75c",
   "metadata": {},
   "source": [
    "with GradientTape() \n",
    "\n",
    "函数表达式 \n",
    "\n",
    "grad=tape.gradient(函数,自变量"
   ]
  },
  {
   "cell_type": "code",
   "execution_count": 28,
   "id": "6a6bf972",
   "metadata": {},
   "outputs": [],
   "source": [
    "x=tf.Variable(3.)"
   ]
  },
  {
   "cell_type": "code",
   "execution_count": 29,
   "id": "86098085",
   "metadata": {},
   "outputs": [],
   "source": [
    "with tf.GradientTape() as tape:\n",
    "    y=tf.square(x)"
   ]
  },
  {
   "cell_type": "code",
   "execution_count": 30,
   "id": "ca8f5295",
   "metadata": {},
   "outputs": [],
   "source": [
    "dy_dx=tape.gradient(y,x)"
   ]
  },
  {
   "cell_type": "code",
   "execution_count": 31,
   "id": "267dc0b8",
   "metadata": {},
   "outputs": [
    {
     "name": "stdout",
     "output_type": "stream",
     "text": [
      "tf.Tensor(9.0, shape=(), dtype=float32)\n",
      "tf.Tensor(6.0, shape=(), dtype=float32)\n"
     ]
    }
   ],
   "source": [
    "print(y)\n",
    "print(dy_dx)"
   ]
  },
  {
   "cell_type": "markdown",
   "id": "8fb520bb",
   "metadata": {},
   "source": [
    "GradientTape(persistent, watch_accessed_variables)"
   ]
  },
  {
   "cell_type": "raw",
   "id": "c38e3f6a",
   "metadata": {},
   "source": [
    "x=tf.Variable(3.)\n",
    "\n",
    "with tf.GradientTape() as tape:\n",
    "    y=tf.square(x)\n",
    "    z=pow(x,3)\n",
    "    \n",
    "dy_dx=tape.gradient(y,x)\n",
    "dz_dx=tape.gradient(z,x)\n",
    "\n",
    "print(y)\n",
    "print(dy_dx)\n",
    "print(z)\n",
    "print(dz_dx)"
   ]
  },
  {
   "cell_type": "code",
   "execution_count": 33,
   "id": "2e747d51",
   "metadata": {},
   "outputs": [
    {
     "name": "stdout",
     "output_type": "stream",
     "text": [
      "tf.Tensor(9.0, shape=(), dtype=float32)\n",
      "tf.Tensor(6.0, shape=(), dtype=float32)\n",
      "tf.Tensor(27.0, shape=(), dtype=float32)\n",
      "tf.Tensor(27.0, shape=(), dtype=float32)\n"
     ]
    }
   ],
   "source": [
    "x=tf.Variable(3.)\n",
    "\n",
    "with tf.GradientTape(persistent=True) as tape:\n",
    "    y=tf.square(x)\n",
    "    z=pow(x,3)\n",
    "    \n",
    "dy_dx=tape.gradient(y,x)\n",
    "dz_dx=tape.gradient(z,x)\n",
    "\n",
    "print(y)\n",
    "print(dy_dx)\n",
    "print(z)\n",
    "print(dz_dx)\n",
    "\n",
    "del tape"
   ]
  },
  {
   "cell_type": "code",
   "execution_count": 34,
   "id": "52365b85",
   "metadata": {},
   "outputs": [
    {
     "name": "stdout",
     "output_type": "stream",
     "text": [
      "tf.Tensor(9.0, shape=(), dtype=float32)\n",
      "None\n"
     ]
    }
   ],
   "source": [
    "x=tf.Variable(3.)\n",
    "\n",
    "with tf.GradientTape(watch_accessed_variables=False) as tape:\n",
    "    y=tf.square(x)\n",
    "    \n",
    "dy_dx=tape.gradient(y,x)\n",
    "\n",
    "print(y)\n",
    "print(dy_dx)"
   ]
  },
  {
   "cell_type": "markdown",
   "id": "ea47dd18",
   "metadata": {},
   "source": [
    "### 添加监视——watch（）"
   ]
  },
  {
   "cell_type": "code",
   "execution_count": 36,
   "id": "086108d7",
   "metadata": {},
   "outputs": [
    {
     "name": "stdout",
     "output_type": "stream",
     "text": [
      "tf.Tensor(9.0, shape=(), dtype=float32)\n",
      "tf.Tensor(6.0, shape=(), dtype=float32)\n"
     ]
    }
   ],
   "source": [
    "x=tf.Variable(3.)\n",
    "\n",
    "with tf.GradientTape(watch_accessed_variables=False) as tape:\n",
    "    tape.watch(x)\n",
    "    y=tf.square(x)\n",
    "    \n",
    "dy_dx=tape.gradient(y,x)\n",
    "\n",
    "print(y)\n",
    "print(dy_dx)"
   ]
  },
  {
   "cell_type": "markdown",
   "id": "3f3262a6",
   "metadata": {},
   "source": [
    "### 监视非可训练对象"
   ]
  },
  {
   "cell_type": "code",
   "execution_count": 39,
   "id": "9d5e6076",
   "metadata": {},
   "outputs": [
    {
     "name": "stdout",
     "output_type": "stream",
     "text": [
      "tf.Tensor(9.0, shape=(), dtype=float32)\n",
      "tf.Tensor(6.0, shape=(), dtype=float32)\n"
     ]
    }
   ],
   "source": [
    "x=tf.constant(3.)\n",
    "\n",
    "with tf.GradientTape(watch_accessed_variables=False) as tape:\n",
    "    tape.watch(x)\n",
    "    y=tf.square(x)\n",
    "    \n",
    "dy_dx=tape.gradient(y,x)\n",
    "\n",
    "print(y)\n",
    "print(dy_dx)"
   ]
  },
  {
   "cell_type": "markdown",
   "id": "5b651ff4",
   "metadata": {},
   "source": [
    "### 多元函数求偏导"
   ]
  },
  {
   "cell_type": "code",
   "execution_count": 37,
   "id": "2c9d5ac7",
   "metadata": {},
   "outputs": [
    {
     "name": "stdout",
     "output_type": "stream",
     "text": [
      "tf.Tensor(42.0, shape=(), dtype=float32)\n",
      "tf.Tensor(6.0, shape=(), dtype=float32)\n",
      "tf.Tensor(16.0, shape=(), dtype=float32)\n"
     ]
    }
   ],
   "source": [
    "x=tf.Variable(3.)\n",
    "y=tf.Variable(4.)\n",
    "\n",
    "with tf.GradientTape() as tape:\n",
    "    f=tf.square(x)+2*tf.square(y)+1\n",
    "\n",
    "df_dx,df_dy=tape.gradient(f,[x,y])\n",
    "\n",
    "print(f)\n",
    "print(df_dx)\n",
    "print(df_dy)"
   ]
  },
  {
   "cell_type": "code",
   "execution_count": 38,
   "id": "98c67451",
   "metadata": {},
   "outputs": [
    {
     "name": "stdout",
     "output_type": "stream",
     "text": [
      "[<tf.Tensor: shape=(), dtype=float32, numpy=6.0>, <tf.Tensor: shape=(), dtype=float32, numpy=16.0>]\n"
     ]
    }
   ],
   "source": [
    "x=tf.Variable(3.)\n",
    "y=tf.Variable(4.)\n",
    "\n",
    "with tf.GradientTape() as tape:\n",
    "    f=tf.square(x)+2*tf.square(y)+1\n",
    "\n",
    "first_grads=tape.gradient(f,[x,y])#用一个变量求两个偏导\n",
    "\n",
    "print(first_grads)"
   ]
  },
  {
   "cell_type": "code",
   "execution_count": 41,
   "id": "7925dafa",
   "metadata": {},
   "outputs": [
    {
     "name": "stdout",
     "output_type": "stream",
     "text": [
      "tf.Tensor(42.0, shape=(), dtype=float32)\n",
      "tf.Tensor(6.0, shape=(), dtype=float32)\n",
      "tf.Tensor(16.0, shape=(), dtype=float32)\n"
     ]
    }
   ],
   "source": [
    "x=tf.Variable(3.)\n",
    "y=tf.Variable(4.)\n",
    "\n",
    "with tf.GradientTape(persistent=True) as tape:\n",
    "    f=tf.square(x)+2*tf.square(y)+1\n",
    "\n",
    "df_dx=tape.gradient(f,x)\n",
    "df_dy=tape.gradient(f,y)#分别求偏导\n",
    "\n",
    "print(f)\n",
    "print(df_dx)\n",
    "print(df_dy)\n",
    "\n",
    "del tape#释放tape"
   ]
  },
  {
   "cell_type": "markdown",
   "id": "c3cfad6c",
   "metadata": {},
   "source": [
    "### 求二阶导数"
   ]
  },
  {
   "cell_type": "code",
   "execution_count": 42,
   "id": "90c60da1",
   "metadata": {},
   "outputs": [
    {
     "name": "stdout",
     "output_type": "stream",
     "text": [
      "tf.Tensor(42.0, shape=(), dtype=float32)\n",
      "[<tf.Tensor: shape=(), dtype=float32, numpy=6.0>, <tf.Tensor: shape=(), dtype=float32, numpy=16.0>]\n",
      "[[<tf.Tensor: shape=(), dtype=float32, numpy=2.0>, <tf.Tensor: shape=(), dtype=float32, numpy=4.0>]]\n"
     ]
    }
   ],
   "source": [
    "x=tf.Variable(3.)\n",
    "y=tf.Variable(4.)\n",
    "\n",
    "with tf.GradientTape(persistent=True) as tape2:\n",
    "    \n",
    "    with tf.GradientTape(persistent=True) as tape1:\n",
    "        f=tf.square(x)+2*tf.square(y)+1\n",
    "        \n",
    "    first_grads=tape1.gradient(f,[x,y])\n",
    "\n",
    "second_grads=[tape2.gradient(first_grads,[x,y])]\n",
    "\n",
    "print(f)\n",
    "print(first_grads)\n",
    "print(second_grads)\n",
    "\n",
    "del tape1\n",
    "del tape2"
   ]
  },
  {
   "cell_type": "markdown",
   "id": "4895ce2a",
   "metadata": {},
   "source": [
    "### 对向量求偏导"
   ]
  },
  {
   "cell_type": "code",
   "execution_count": 43,
   "id": "531c7a25",
   "metadata": {},
   "outputs": [
    {
     "name": "stdout",
     "output_type": "stream",
     "text": [
      "tf.Tensor([34. 55. 82.], shape=(3,), dtype=float32)\n",
      "tf.Tensor([2. 4. 6.], shape=(3,), dtype=float32)\n",
      "tf.Tensor([16. 20. 24.], shape=(3,), dtype=float32)\n"
     ]
    }
   ],
   "source": [
    "x=tf.Variable([1.,2.,3.])\n",
    "y=tf.Variable([4.,5.,6.])\n",
    "with tf.GradientTape() as tape:\n",
    "    f=tf.square(x)+2*tf.square(y)+1\n",
    "\n",
    "df_dx,df_dy=tape.gradient(f,[x,y])\n",
    "\n",
    "print(f)\n",
    "print(df_dx)\n",
    "print(df_dy)"
   ]
  }
 ],
 "metadata": {
  "kernelspec": {
   "display_name": "Python 3",
   "language": "python",
   "name": "python3"
  },
  "language_info": {
   "codemirror_mode": {
    "name": "ipython",
    "version": 3
   },
   "file_extension": ".py",
   "mimetype": "text/x-python",
   "name": "python",
   "nbconvert_exporter": "python",
   "pygments_lexer": "ipython3",
   "version": "3.8.10"
  }
 },
 "nbformat": 4,
 "nbformat_minor": 5
}
